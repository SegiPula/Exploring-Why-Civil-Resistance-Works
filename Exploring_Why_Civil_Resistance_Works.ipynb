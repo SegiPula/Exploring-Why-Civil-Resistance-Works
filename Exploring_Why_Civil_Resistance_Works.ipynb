{
 "cells": [
  {
   "cell_type": "markdown",
   "id": "8162cc3c-ec57-4784-b1fb-a7f31806460b",
   "metadata": {},
   "source": [
    "# Exploring Why Civil Resistance Works"
   ]
  },
  {
   "cell_type": "markdown",
   "id": "5a9bc3e5-1bb9-440f-aac4-33d5af5f7c71",
   "metadata": {},
   "source": [
    "## Credentials"
   ]
  },
  {
   "cell_type": "markdown",
   "id": "3307d0cc-f039-4429-aa7b-2ad2f396ccd0",
   "metadata": {},
   "source": [
    "### Name: Sergi / Σέργκι / ΣΕΡΓΚΙ\n",
    "### Surname: Pula / Πούλα / ΠΟΥΛΑ\n",
    "### AM: 8200141\n",
    "### Email: t8200141@aueb.gr"
   ]
  },
  {
   "cell_type": "markdown",
   "id": "b93615ff-60f0-47a9-9bd7-d7982ff092ac",
   "metadata": {},
   "source": [
    "In this survey our goal is to check whether Civil Resistance can work out instead of violent acts. "
   ]
  },
  {
   "cell_type": "markdown",
   "id": "4970586b-d93e-45c4-862a-ab0d8fcbc0e1",
   "metadata": {},
   "source": [
    "First of all, all of our data are between the years 1945 and 2014. Also our data includes 389 maximalist campaigns.\n",
    "Our goal now is to explain the columns and make some remarks in some values for better understanding of out data."
   ]
  },
  {
   "cell_type": "markdown",
   "id": "1196f33b-e182-4ced-bf9b-d8e3e868b09d",
   "metadata": {},
   "source": [
    "Let's import the most basic and important libraries for visualization and data analysing."
   ]
  },
  {
   "cell_type": "code",
   "execution_count": 1,
   "id": "14d8747a-a745-4a41-9b29-0ac6a9b0dd3b",
   "metadata": {},
   "outputs": [],
   "source": [
    "import matplotlib.pyplot as plt\n",
    "import pandas as pd\n",
    "import numpy as np\n",
    "import seaborn as sns\n"
   ]
  },
  {
   "cell_type": "markdown",
   "id": "1ff604e3-7314-406a-bf5d-6344e52dd939",
   "metadata": {},
   "source": [
    "Now, we import our dataset."
   ]
  },
  {
   "cell_type": "code",
   "execution_count": 2,
   "id": "e45c3865-1a72-4163-b234-145cc9bb9845",
   "metadata": {},
   "outputs": [],
   "source": [
    "file_path = 'NAVCO 1.2 Updated.tab'\n",
    "\n",
    "df = pd.read_csv(file_path, delimiter='\\t')"
   ]
  },
  {
   "cell_type": "markdown",
   "id": "e9b26475-d66b-4d10-ab3f-058890bfade1",
   "metadata": {},
   "source": [
    "We want to print all the columns of each dataframe regardless of it's size."
   ]
  },
  {
   "cell_type": "code",
   "execution_count": 3,
   "id": "56cd5e60-abcb-4a59-ad51-50a3cd50dd9e",
   "metadata": {},
   "outputs": [],
   "source": [
    "pd.set_option('display.max_columns', None)"
   ]
  },
  {
   "cell_type": "markdown",
   "id": "e25346aa-c6c7-4544-8e47-23d31f13e631",
   "metadata": {},
   "source": [
    "We check out the types of our dataframe's columns, we see that we are using mainly float values and objects."
   ]
  },
  {
   "cell_type": "code",
   "execution_count": 4,
   "id": "30ab2b60-fe97-4fbc-a3e3-26fc2c89b206",
   "metadata": {},
   "outputs": [
    {
     "data": {
      "text/plain": [
       "NAVCOID                           float64\n",
       "CAMPAIGN                           object\n",
       "LOCATION                           object\n",
       "BYEAR                             float64\n",
       "EYEAR                             float64\n",
       "TARGET                             object\n",
       "SUCCESS                           float64\n",
       "LIMITED                           float64\n",
       "FAILURE                           float64\n",
       "ONGOING                           float64\n",
       "NONVIOL                           float64\n",
       "VIOL                              float64\n",
       "REGCHANGE                         float64\n",
       "FSELFDET                          float64\n",
       "SECESSION                         float64\n",
       "OTHER                             float64\n",
       "DURATION                          float64\n",
       "PARTICIPATION                     float64\n",
       "PERCENTAGEPOPULARPARTICIPATION    float64\n",
       "REGVIOL                           float64\n",
       "DEFECT                            float64\n",
       "VIOLENTFLANK                      float64\n",
       "VIOLSIM                           float64\n",
       "REGAID                            float64\n",
       "STATESUP                          float64\n",
       "dtype: object"
      ]
     },
     "execution_count": 4,
     "metadata": {},
     "output_type": "execute_result"
    }
   ],
   "source": [
    "df.dtypes"
   ]
  },
  {
   "cell_type": "markdown",
   "id": "50e5ff32-2701-43ec-9986-89100dc77cc9",
   "metadata": {},
   "source": [
    "### Column Explanation"
   ]
  },
  {
   "cell_type": "markdown",
   "id": "e7f53022-f040-4023-be92-bb39ca5e7503",
   "metadata": {},
   "source": [
    "* NAVCO ID : The unique id of each 'Nonviolent And Violent Campaigns and Outcomes'\n",
    "* Campaign: The name of the campaign\n",
    "* Location: The location were the campaign took place\n",
    "* BYEAR: Year when the campaign started.\n",
    "* Eyear: Year when the campaign reached it's peak.\n",
    "* TARGET: Target of the campaign.\n",
    "* Success: binay value (1.0 or 0.0), shows if the campaign reached all of it's goals in one year from the start of the peack season.\n",
    "* LIMITED: binary value, shows that the campaign managed some of it's goals, for example reforms in the governments to stop the campaign.\n",
    "* FAILURE: binary value, shows that the campaign failed in all of it's goals.\n",
    "* ONGOING: binary value, the campaign still happends till today **(today = 2014!!)**\n",
    "* NONVIOL: binary value, the campaign was non violent.\n",
    "* VIOL: binary value, the campaign was violent.\n",
    "* REGCHANGE: binary value, shows that the goal is to remove national leader or exclude foreigns occupiers.\n",
    "* FSELFDET: binary value, the goal is independence from leader or foreigns occupiers.\n",
    "* SECESSION: binary value, the goal is self determination.\n",
    "* OTHER: binary value, the goal is something different that the three mentioned above.\n",
    "* DURATION: how much the campaign last, **in days**.\n",
    "* PARTICIPATION: how many participated in the peak point.\n",
    "* PERCENTAGEPOPULAPARTICIPATION: percent of national population involved in the peak point.\n",
    "* REGVIOL: Now from the perspective of the regime, binary value, shows if the regime user violence against the campaign.\n",
    "* DEFECT: binary values, shows if the forces of the regime showed noncooperation during the conflict.\n",
    "* VIOLENT FLANK: binary values, shows whether some of the people of the campaign used violence while the campaign was non violent.\n",
    "* VIOLSIM: binary values, shows if there was another violent campaign active (for example independent terrorist groups).\n",
    "* REGAID: binary values, if the targed used military or aid assist from other nations.\n",
    "* STATESUP: binary values, if the campaign used military or aid assist from other nations."
   ]
  },
  {
   "cell_type": "markdown",
   "id": "dc970cd2-3e3f-413e-92a9-dd8683a32148",
   "metadata": {},
   "source": [
    "### Αssumptions we need to make for our data to be valid."
   ]
  },
  {
   "cell_type": "markdown",
   "id": "1297e821-e4af-4cd0-a361-a1bbc841869e",
   "metadata": {},
   "source": [
    "* If the peak of a campaign is not known or recognized exactly we consider it to be the year when the campaign was over.\n",
    "* If a campaign is ongoing till 2014 and after, we consider it as failure."
   ]
  },
  {
   "cell_type": "markdown",
   "id": "ed572615-b214-4fb5-a10c-565f686ff62b",
   "metadata": {},
   "source": [
    "### Cleaning and some explanations"
   ]
  },
  {
   "cell_type": "markdown",
   "id": "410cded9-4df3-4658-beef-e4e38ac78485",
   "metadata": {},
   "source": [
    "First we drop off any rows with nan values."
   ]
  },
  {
   "cell_type": "code",
   "execution_count": 5,
   "id": "9548d869-6301-4484-b6ce-388f5a3f9a23",
   "metadata": {},
   "outputs": [],
   "source": [
    "df = df.dropna(how='all')"
   ]
  },
  {
   "cell_type": "markdown",
   "id": "7bb5a949-b51b-4a61-92d8-11d1be97c05d",
   "metadata": {},
   "source": [
    "For investigative purposes we find out that we have 220 campaigns with violent acts and 169 non violent ones."
   ]
  },
  {
   "cell_type": "code",
   "execution_count": 6,
   "id": "c2a2cce2-548a-4703-96e8-9b80edd2f6cc",
   "metadata": {},
   "outputs": [
    {
     "data": {
      "text/plain": [
       "220"
      ]
     },
     "execution_count": 6,
     "metadata": {},
     "output_type": "execute_result"
    }
   ],
   "source": [
    "violent_count = df[df['VIOL'] == 1.0]['VIOL'].count()\n",
    "violent_count"
   ]
  },
  {
   "cell_type": "code",
   "execution_count": 7,
   "id": "da5cd440-c84e-43ea-b046-7bc269c8d3d4",
   "metadata": {},
   "outputs": [
    {
     "data": {
      "text/plain": [
       "169"
      ]
     },
     "execution_count": 7,
     "metadata": {},
     "output_type": "execute_result"
    }
   ],
   "source": [
    "non_violent_count = df[df['NONVIOL'] == 1.0]['NONVIOL'].count()\n",
    "non_violent_count"
   ]
  },
  {
   "cell_type": "markdown",
   "id": "3c5e355c-0ba0-4936-be94-a8fb8e8df3b5",
   "metadata": {},
   "source": [
    "We also calculate the margin between them as a percentage, we have nearly 23%. "
   ]
  },
  {
   "cell_type": "code",
   "execution_count": 8,
   "id": "e94025f6-aa96-4ec7-8c67-07dac2d5ac4e",
   "metadata": {},
   "outputs": [],
   "source": [
    "percentage_difference = abs(((non_violent_count - violent_count) / violent_count) * 100)"
   ]
  },
  {
   "cell_type": "code",
   "execution_count": 9,
   "id": "24a7e965-8357-40b3-8e5f-e4f53ee43897",
   "metadata": {},
   "outputs": [
    {
     "data": {
      "text/plain": [
       "23.18181818181818"
      ]
     },
     "execution_count": 9,
     "metadata": {},
     "output_type": "execute_result"
    }
   ],
   "source": [
    "percentage_difference"
   ]
  },
  {
   "cell_type": "code",
   "execution_count": 10,
   "id": "92ff2d96-6d14-4d6b-a711-27e18fc6fec3",
   "metadata": {},
   "outputs": [],
   "source": [
    "def round_to_nearest_decade(year):\n",
    "    return round(year / 10) * 10"
   ]
  },
  {
   "cell_type": "markdown",
   "id": "cd8cb1d4-9bab-4346-beaa-0e8b1b59a692",
   "metadata": {},
   "source": [
    "To create decades for our survey needs, we are turning the column 'BYEAR' to integer."
   ]
  },
  {
   "cell_type": "code",
   "execution_count": 11,
   "id": "a9a93b3b-a761-479f-86b9-2b44c038fba6",
   "metadata": {},
   "outputs": [],
   "source": [
    "df['BYEAR'] = df['BYEAR'].astype(int)"
   ]
  },
  {
   "cell_type": "markdown",
   "id": "5e19aa14-40ee-48dc-a97c-7d3c4ac58aaa",
   "metadata": {},
   "source": [
    "We know that our date data range between 1940 and 2014 so we place the bins in ranges accordingly."
   ]
  },
  {
   "cell_type": "code",
   "execution_count": 12,
   "id": "6c3b9245-fe46-405b-bf28-2b43386f844c",
   "metadata": {},
   "outputs": [],
   "source": [
    "df['Decade'] = pd.cut(df['EYEAR'], bins=range(1940, 2021, 10), right=False, labels=range(1940, 2020, 10))\n"
   ]
  },
  {
   "cell_type": "markdown",
   "id": "7fbc06f3-b6f2-4743-a094-6594519b0f8d",
   "metadata": {},
   "source": [
    "## Frequency of nonviolent and violent campaigns"
   ]
  },
  {
   "cell_type": "markdown",
   "id": "e0902915-098e-4dca-86e6-190265d76a5b",
   "metadata": {},
   "source": [
    "For our first step in this survey we want to calculate the non violent and violent campaigns and depict them in plot graphs."
   ]
  },
  {
   "cell_type": "markdown",
   "id": "2095f8fd-13e2-4782-a387-a3621f6d7053",
   "metadata": {},
   "source": [
    "So, we calculate and print both non violent and violent campaigns finding the appropriate column, grouping by decade and counting the campaigns per decade."
   ]
  },
  {
   "cell_type": "code",
   "execution_count": 13,
   "id": "2bea8fbb-2826-49ec-80c5-7c87fd2854e2",
   "metadata": {},
   "outputs": [
    {
     "name": "stderr",
     "output_type": "stream",
     "text": [
      "C:\\Users\\falin\\AppData\\Local\\Temp\\ipykernel_18332\\1286135778.py:1: FutureWarning: The default of observed=False is deprecated and will be changed to True in a future version of pandas. Pass observed=False to retain current behavior or observed=True to adopt the future default and silence this warning.\n",
      "  non_violent_campaigns_per_decade = df[df['VIOL'] == 0.0].groupby('Decade').size()\n"
     ]
    }
   ],
   "source": [
    "non_violent_campaigns_per_decade = df[df['VIOL'] == 0.0].groupby('Decade').size()"
   ]
  },
  {
   "cell_type": "code",
   "execution_count": 14,
   "id": "6c28a823-96db-4bfe-8eb1-3edec1e8d9cb",
   "metadata": {},
   "outputs": [
    {
     "data": {
      "text/plain": [
       "Decade\n",
       "1940     2\n",
       "1950     9\n",
       "1960     8\n",
       "1970    13\n",
       "1980    30\n",
       "1990    36\n",
       "2000    37\n",
       "2010    34\n",
       "dtype: int64"
      ]
     },
     "execution_count": 14,
     "metadata": {},
     "output_type": "execute_result"
    }
   ],
   "source": [
    "non_violent_campaigns_per_decade"
   ]
  },
  {
   "cell_type": "code",
   "execution_count": 15,
   "id": "3d067b0f-9d2b-4f12-b749-b1f5f57e738a",
   "metadata": {},
   "outputs": [
    {
     "name": "stderr",
     "output_type": "stream",
     "text": [
      "C:\\Users\\falin\\AppData\\Local\\Temp\\ipykernel_18332\\2057063568.py:1: FutureWarning: The default of observed=False is deprecated and will be changed to True in a future version of pandas. Pass observed=False to retain current behavior or observed=True to adopt the future default and silence this warning.\n",
      "  violent_campaigns_per_decade = df[df['VIOL'] == 1.0].groupby('Decade').size()\n"
     ]
    }
   ],
   "source": [
    "violent_campaigns_per_decade = df[df['VIOL'] == 1.0].groupby('Decade').size()"
   ]
  },
  {
   "cell_type": "code",
   "execution_count": 16,
   "id": "4b388203-54f7-4992-9e58-3038e7f39f99",
   "metadata": {},
   "outputs": [
    {
     "data": {
      "text/plain": [
       "Decade\n",
       "1940    12\n",
       "1950    25\n",
       "1960    21\n",
       "1970    27\n",
       "1980    17\n",
       "1990    54\n",
       "2000    23\n",
       "2010    41\n",
       "dtype: int64"
      ]
     },
     "execution_count": 16,
     "metadata": {},
     "output_type": "execute_result"
    }
   ],
   "source": [
    "violent_campaigns_per_decade"
   ]
  },
  {
   "cell_type": "markdown",
   "id": "6c724294-8ba5-4683-aca8-347b0990ca10",
   "metadata": {},
   "source": [
    "Now we are plotting the two graphs stacked one upon the other. "
   ]
  },
  {
   "cell_type": "markdown",
   "id": "d2ec8d8e-914e-4ee8-a169-52335066ae3b",
   "metadata": {},
   "source": [
    "**Explanation Of Our Graph:**\n",
    "* The figure size will have these dimension: 9x6\n",
    "* First we plot the 'Blue' graph using the .index for the decades and the .values for the violent counts.\n",
    "* For the same plot we use the .fill_between to fill the space underneath it with the color we want.\n",
    "* For the second one we follow the same procedure with one basic difference: The plot is graphed in the height of the peak of the first graph and above. We can see that as we add the values of the previous graph and then sum them with the values of the current graph.\n",
    "* **Zorder:** We are using this for the layout architecture, we want the graphs to be above the grid so it doesn't mess with the visualization.\n",
    "* 'plt.legend(loc='upper left')' here show the labels and we set where the labels will be placed.\n",
    "* \"plt.ylim(0)\" here we place where the graph will start, specifically in the buttom of the y axis.\n",
    "* \"plt.xlim(violent_campaigns_per_decade.index[0], violent_campaigns_per_decade.index[-1])\" once again we place the graph in the start of the x axis and the peak right. Without this our graph would be centered in the middle.\n",
    "* With the \".tick_params\" we export the lines near each value in the x and y axis respectively."
   ]
  },
  {
   "cell_type": "code",
   "execution_count": 17,
   "id": "a2c80b40-14a5-4468-bac1-e05349670d8c",
   "metadata": {},
   "outputs": [
    {
     "data": {
      "image/png": "[encoded data removed]",
      "text/plain": [
       "<Figure size 900x600 with 1 Axes>"
      ]
     },
     "metadata": {},
     "output_type": "display_data"
    }
   ],
   "source": [
    "plt.figure(figsize=(9,6)) \n",
    "\n",
    "plt.plot(violent_campaigns_per_decade.index, violent_campaigns_per_decade.values, color='white')\n",
    "plt.fill_between(violent_campaigns_per_decade.index, 0, violent_campaigns_per_decade.values, color = '#4C71AF', label='Violent', zorder=2)\n",
    "\n",
    "plt.plot(non_violent_campaigns_per_decade.index, non_violent_campaigns_per_decade.values + violent_campaigns_per_decade.values, color='white')\n",
    "plt.fill_between(non_violent_campaigns_per_decade.index, violent_campaigns_per_decade.values, non_violent_campaigns_per_decade.values + violent_campaigns_per_decade.values, color = '#DD8452', label = 'Non Violent', zorder=2)\n",
    "\n",
    "plt.plot(violent_campaigns_per_decade.index, violent_campaigns_per_decade.values, color='white')\n",
    "\n",
    "plt.xlabel('decade')\n",
    "plt.ylabel('campaigns')\n",
    "plt.legend(loc='upper left')\n",
    "plt.ylim(0)\n",
    "plt.xlim(violent_campaigns_per_decade.index[0], violent_campaigns_per_decade.index[-1])\n",
    "plt.grid(color='gray', linewidth=0.5, zorder=0)\n",
    "plt.tick_params(axis='both', which='both', bottom=False, top=False, left=False, right=False)\n",
    "\n",
    "\n",
    "plt.show()"
   ]
  },
  {
   "cell_type": "markdown",
   "id": "320081f7-6655-44a6-8168-121b2cf598d5",
   "metadata": {},
   "source": [
    "## Number of nonviolent campaigns and the percentage of success per decade."
   ]
  },
  {
   "cell_type": "markdown",
   "id": "da205c78-56c4-4b5d-a1c5-01aa86a1d8fd",
   "metadata": {},
   "source": [
    "Now, in this part we want for **each** decade to plot bars for the success and amount of campaigns that were non violent respectively."
   ]
  },
  {
   "cell_type": "markdown",
   "id": "7d237051-c909-499e-9f6e-1b061ed25736",
   "metadata": {},
   "source": [
    "We have already calculated the non violent campaigns per decade from the previous part so we just print it out one more time for validation."
   ]
  },
  {
   "cell_type": "code",
   "execution_count": 18,
   "id": "b142003a-b928-42a3-a95a-daf3baf08b78",
   "metadata": {},
   "outputs": [
    {
     "data": {
      "text/plain": [
       "Decade\n",
       "1940     2\n",
       "1950     9\n",
       "1960     8\n",
       "1970    13\n",
       "1980    30\n",
       "1990    36\n",
       "2000    37\n",
       "2010    34\n",
       "dtype: int64"
      ]
     },
     "execution_count": 18,
     "metadata": {},
     "output_type": "execute_result"
    }
   ],
   "source": [
    "non_violent_campaigns_per_decade"
   ]
  },
  {
   "cell_type": "markdown",
   "id": "1e11f3b3-88f4-413d-89d9-dbc582ac604e",
   "metadata": {},
   "source": [
    "We calculate the non violent campaigns amount per decade that were succesfull."
   ]
  },
  {
   "cell_type": "code",
   "execution_count": 19,
   "id": "8fdfc35e-af39-41fb-99da-f1e7e70d7713",
   "metadata": {},
   "outputs": [
    {
     "name": "stderr",
     "output_type": "stream",
     "text": [
      "C:\\Users\\falin\\AppData\\Local\\Temp\\ipykernel_18332\\2735402935.py:1: FutureWarning: The default of observed=False is deprecated and will be changed to True in a future version of pandas. Pass observed=False to retain current behavior or observed=True to adopt the future default and silence this warning.\n",
      "  counts_per_decade = df[(df['SUCCESS'] == 1.0) & (df['NONVIOL'] == 1.0)].groupby('Decade')['Decade'].count()\n"
     ]
    }
   ],
   "source": [
    "counts_per_decade = df[(df['SUCCESS'] == 1.0) & (df['NONVIOL'] == 1.0)].groupby('Decade')['Decade'].count()\n"
   ]
  },
  {
   "cell_type": "markdown",
   "id": "aa7f41b6-a2ff-49f1-af15-1ff9a3e37284",
   "metadata": {},
   "source": [
    "We find the total number of them so we can then count the percentages."
   ]
  },
  {
   "cell_type": "code",
   "execution_count": 20,
   "id": "006204b3-e438-4a90-87b2-d767081a86f0",
   "metadata": {},
   "outputs": [],
   "source": [
    "total_counts = counts_per_decade.sum()\n"
   ]
  },
  {
   "cell_type": "code",
   "execution_count": 21,
   "id": "db1dd1b5-db70-4e88-bac5-00c5cfcacb23",
   "metadata": {},
   "outputs": [
    {
     "data": {
      "text/plain": [
       "94"
      ]
     },
     "execution_count": 21,
     "metadata": {},
     "output_type": "execute_result"
    }
   ],
   "source": [
    "total_counts"
   ]
  },
  {
   "cell_type": "code",
   "execution_count": 22,
   "id": "696f60c6-8ce7-4d71-9bec-935c4b996c5a",
   "metadata": {},
   "outputs": [
    {
     "data": {
      "text/plain": [
       "Decade\n",
       "1940     1\n",
       "1950     2\n",
       "1960     2\n",
       "1970     7\n",
       "1980    14\n",
       "1990    30\n",
       "2000    25\n",
       "2010    13\n",
       "Name: Decade, dtype: int64"
      ]
     },
     "execution_count": 22,
     "metadata": {},
     "output_type": "execute_result"
    }
   ],
   "source": [
    "counts_per_decade"
   ]
  },
  {
   "cell_type": "markdown",
   "id": "68c90ab4-70fb-4a3f-a455-eabfa2567f31",
   "metadata": {},
   "source": [
    "We merge the total non violent campaigns and the non violent campaigns that were specifically succesfull."
   ]
  },
  {
   "cell_type": "code",
   "execution_count": 23,
   "id": "d6eff08c-80bf-49fd-8c0c-42fdd5406fa9",
   "metadata": {},
   "outputs": [],
   "source": [
    "merged_data = pd.concat([non_violent_campaigns_per_decade, counts_per_decade], axis=1)\n"
   ]
  },
  {
   "cell_type": "markdown",
   "id": "28a9e372-3d3c-4454-b563-d7f5a6ce8367",
   "metadata": {},
   "source": [
    "We rename the columns so they can be representive."
   ]
  },
  {
   "cell_type": "code",
   "execution_count": 24,
   "id": "61c941e2-e166-4c91-9445-7b516ef8b602",
   "metadata": {},
   "outputs": [],
   "source": [
    "merged_data = merged_data.rename(columns={0: 'number_of_nonviolent_campaigns'})"
   ]
  },
  {
   "cell_type": "code",
   "execution_count": 25,
   "id": "87045582-1bdd-4cfe-899d-d000127466f7",
   "metadata": {},
   "outputs": [],
   "source": [
    "merged_data = merged_data.rename(columns={'Decade': 'counts_per_decade_nonviol'})"
   ]
  },
  {
   "cell_type": "code",
   "execution_count": 26,
   "id": "6ea3592c-6b86-4e03-9ba8-93c125590f77",
   "metadata": {},
   "outputs": [
    {
     "data": {
      "text/html": [
       "<div>\n",
       "<style scoped>\n",
       "    .dataframe tbody tr th:only-of-type {\n",
       "        vertical-align: middle;\n",
       "    }\n",
       "\n",
       "    .dataframe tbody tr th {\n",
       "        vertical-align: top;\n",
       "    }\n",
       "\n",
       "    .dataframe thead th {\n",
       "        text-align: right;\n",
       "    }\n",
       "</style>\n",
       "<table border=\"1\" class=\"dataframe\">\n",
       "  <thead>\n",
       "    <tr style=\"text-align: right;\">\n",
       "      <th></th>\n",
       "      <th>number_of_nonviolent_campaigns</th>\n",
       "      <th>counts_per_decade_nonviol</th>\n",
       "    </tr>\n",
       "    <tr>\n",
       "      <th>Decade</th>\n",
       "      <th></th>\n",
       "      <th></th>\n",
       "    </tr>\n",
       "  </thead>\n",
       "  <tbody>\n",
       "    <tr>\n",
       "      <th>1940</th>\n",
       "      <td>2</td>\n",
       "      <td>1</td>\n",
       "    </tr>\n",
       "    <tr>\n",
       "      <th>1950</th>\n",
       "      <td>9</td>\n",
       "      <td>2</td>\n",
       "    </tr>\n",
       "    <tr>\n",
       "      <th>1960</th>\n",
       "      <td>8</td>\n",
       "      <td>2</td>\n",
       "    </tr>\n",
       "    <tr>\n",
       "      <th>1970</th>\n",
       "      <td>13</td>\n",
       "      <td>7</td>\n",
       "    </tr>\n",
       "    <tr>\n",
       "      <th>1980</th>\n",
       "      <td>30</td>\n",
       "      <td>14</td>\n",
       "    </tr>\n",
       "    <tr>\n",
       "      <th>1990</th>\n",
       "      <td>36</td>\n",
       "      <td>30</td>\n",
       "    </tr>\n",
       "    <tr>\n",
       "      <th>2000</th>\n",
       "      <td>37</td>\n",
       "      <td>25</td>\n",
       "    </tr>\n",
       "    <tr>\n",
       "      <th>2010</th>\n",
       "      <td>34</td>\n",
       "      <td>13</td>\n",
       "    </tr>\n",
       "  </tbody>\n",
       "</table>\n",
       "</div>"
      ],
      "text/plain": [
       "        number_of_nonviolent_campaigns  counts_per_decade_nonviol\n",
       "Decade                                                           \n",
       "1940                                 2                          1\n",
       "1950                                 9                          2\n",
       "1960                                 8                          2\n",
       "1970                                13                          7\n",
       "1980                                30                         14\n",
       "1990                                36                         30\n",
       "2000                                37                         25\n",
       "2010                                34                         13"
      ]
     },
     "execution_count": 26,
     "metadata": {},
     "output_type": "execute_result"
    }
   ],
   "source": [
    "merged_data"
   ]
  },
  {
   "cell_type": "markdown",
   "id": "3763847d-0357-45f7-b634-47b7cf2bae7b",
   "metadata": {},
   "source": [
    "For the success percentage we divide the non violent counts that are succesfull with the total non violent campaigns for each decade."
   ]
  },
  {
   "cell_type": "code",
   "execution_count": 27,
   "id": "a842f34a-e25f-435e-b313-2579a99faafa",
   "metadata": {},
   "outputs": [],
   "source": [
    "merged_data['percentage_success'] = merged_data['counts_per_decade_nonviol'] / merged_data['number_of_nonviolent_campaigns']"
   ]
  },
  {
   "cell_type": "code",
   "execution_count": 28,
   "id": "a2af7060-ae70-40d3-a635-fbaae9b694a4",
   "metadata": {},
   "outputs": [],
   "source": [
    "merged_data['percentage_success'] = merged_data['percentage_success'].round(2)"
   ]
  },
  {
   "cell_type": "code",
   "execution_count": 29,
   "id": "ce9a2675-d283-4ad6-a445-0caca212c14c",
   "metadata": {},
   "outputs": [
    {
     "data": {
      "text/html": [
       "<div>\n",
       "<style scoped>\n",
       "    .dataframe tbody tr th:only-of-type {\n",
       "        vertical-align: middle;\n",
       "    }\n",
       "\n",
       "    .dataframe tbody tr th {\n",
       "        vertical-align: top;\n",
       "    }\n",
       "\n",
       "    .dataframe thead th {\n",
       "        text-align: right;\n",
       "    }\n",
       "</style>\n",
       "<table border=\"1\" class=\"dataframe\">\n",
       "  <thead>\n",
       "    <tr style=\"text-align: right;\">\n",
       "      <th></th>\n",
       "      <th>number_of_nonviolent_campaigns</th>\n",
       "      <th>counts_per_decade_nonviol</th>\n",
       "      <th>percentage_success</th>\n",
       "    </tr>\n",
       "    <tr>\n",
       "      <th>Decade</th>\n",
       "      <th></th>\n",
       "      <th></th>\n",
       "      <th></th>\n",
       "    </tr>\n",
       "  </thead>\n",
       "  <tbody>\n",
       "    <tr>\n",
       "      <th>1940</th>\n",
       "      <td>2</td>\n",
       "      <td>1</td>\n",
       "      <td>0.50</td>\n",
       "    </tr>\n",
       "    <tr>\n",
       "      <th>1950</th>\n",
       "      <td>9</td>\n",
       "      <td>2</td>\n",
       "      <td>0.22</td>\n",
       "    </tr>\n",
       "    <tr>\n",
       "      <th>1960</th>\n",
       "      <td>8</td>\n",
       "      <td>2</td>\n",
       "      <td>0.25</td>\n",
       "    </tr>\n",
       "    <tr>\n",
       "      <th>1970</th>\n",
       "      <td>13</td>\n",
       "      <td>7</td>\n",
       "      <td>0.54</td>\n",
       "    </tr>\n",
       "    <tr>\n",
       "      <th>1980</th>\n",
       "      <td>30</td>\n",
       "      <td>14</td>\n",
       "      <td>0.47</td>\n",
       "    </tr>\n",
       "    <tr>\n",
       "      <th>1990</th>\n",
       "      <td>36</td>\n",
       "      <td>30</td>\n",
       "      <td>0.83</td>\n",
       "    </tr>\n",
       "    <tr>\n",
       "      <th>2000</th>\n",
       "      <td>37</td>\n",
       "      <td>25</td>\n",
       "      <td>0.68</td>\n",
       "    </tr>\n",
       "    <tr>\n",
       "      <th>2010</th>\n",
       "      <td>34</td>\n",
       "      <td>13</td>\n",
       "      <td>0.38</td>\n",
       "    </tr>\n",
       "  </tbody>\n",
       "</table>\n",
       "</div>"
      ],
      "text/plain": [
       "        number_of_nonviolent_campaigns  counts_per_decade_nonviol  \\\n",
       "Decade                                                              \n",
       "1940                                 2                          1   \n",
       "1950                                 9                          2   \n",
       "1960                                 8                          2   \n",
       "1970                                13                          7   \n",
       "1980                                30                         14   \n",
       "1990                                36                         30   \n",
       "2000                                37                         25   \n",
       "2010                                34                         13   \n",
       "\n",
       "        percentage_success  \n",
       "Decade                      \n",
       "1940                  0.50  \n",
       "1950                  0.22  \n",
       "1960                  0.25  \n",
       "1970                  0.54  \n",
       "1980                  0.47  \n",
       "1990                  0.83  \n",
       "2000                  0.68  \n",
       "2010                  0.38  "
      ]
     },
     "execution_count": 29,
     "metadata": {},
     "output_type": "execute_result"
    }
   ],
   "source": [
    "merged_data"
   ]
  },
  {
   "cell_type": "markdown",
   "id": "786d7b5f-2915-4e54-990c-2a62b526d6a7",
   "metadata": {},
   "source": [
    "Lastly, we plot the bars. Specifically in the x axis we place the data index which are the dates (decades), in the left y axis we create an ax in which we place the number of non violent campaigns and in the right y axis named ax1 we place the success percentage of the non violent campaigns."
   ]
  },
  {
   "cell_type": "markdown",
   "id": "1d490458-d0c0-4002-8802-9c839fbb732f",
   "metadata": {},
   "source": [
    "**Explanation Of Our Graph:**\n",
    "* We create the figure size.\n",
    "* We create the ax using the arguments '111' which stands for 1 row, 1 column and 1 subplot.\n",
    "* The ax2 is created using the twinx() method sharing the xaxis of the original axes('ax').\n",
    "* The first bars we create are based on the number of nonviolent campaigns, the kind is set to bar, as ax we choose the ax we created before so the bars follow the values of the left y axis, we set a width between them and also a position in 1.1 so it will have some space with the bars we are going to create for the ax = ax2.\n",
    "* So after this it is time for the ax2 for the column percentage success, again the kind is bar, the ax is based on the ax2, the position now is 0 so it will have space with the other bars per decade and we will not have stacking between them.\n",
    "* \"ax.set_xticks()\" this is used for the placement of the decades in the x axis, we want them to be in the center between the two bars, so we place it accordingly.\n",
    "* \"ax.set_xticklabels\" Here we place the decades and rotate them to be read easily.\n",
    "* \"ax.set_xlim\" Here we create some space with the ax and ax2 axis so the bars won't touch them.\n",
    "* Then we gather the legends of each ax and ax2 and using the .figure.legend we display them both in the up left corner managing their exact position with the bbox_to_anchor.\n",
    "* Finally once again we use the .tick_params to delete the lines in the x axis for the decades."
   ]
  },
  {
   "cell_type": "code",
   "execution_count": 30,
   "id": "e2a457c6-c1c5-49de-8f92-6c394e211ad6",
   "metadata": {},
   "outputs": [
    {
     "name": "stderr",
     "output_type": "stream",
     "text": [
      "C:\\Users\\falin\\AppData\\Local\\Temp\\ipykernel_18332\\3776856963.py:22: UserWarning: You have mixed positional and keyword arguments, some input may be discarded.\n",
      "  ax.figure.legend(legends, labels = ['number of nonviolent campaigns', 'percentage success'], loc='upper left', bbox_to_anchor=(0.13, 0.88))\n"
     ]
    },
    {
     "data": {
      "image/png": "[encoded data removed]",
      "text/plain": [
       "<Figure size 900x600 with 2 Axes>"
      ]
     },
     "metadata": {},
     "output_type": "display_data"
    }
   ],
   "source": [
    "fig = plt.figure(figsize=(9,6)) \n",
    "\n",
    "ax = fig.add_subplot(111) \n",
    "ax2 = ax.twinx()\n",
    "bar_spacing = 0.2\n",
    "\n",
    "width = 0.3\n",
    "distance_between_decades = 0.6\n",
    "\n",
    "merged_data['number_of_nonviolent_campaigns'].plot(kind='bar', color='#4880AF',  ax=ax, width=width, position=1 + 0.1 , label ='number of non violent campaigns' )\n",
    "\n",
    "merged_data['percentage_success'].plot(kind='bar',color='#FFA505', ax=ax2, width=width, position = 0, label = 'percentage success')\n",
    "\n",
    "ax.set_ylabel('Campaigns')\n",
    "ax2.set_ylabel('Percentage')\n",
    "\n",
    "ax.set_xticks(np.arange(len(merged_data.index)) + bar_spacing)\n",
    "ax.set_xticklabels(merged_data.index, rotation=0, ha='right')\n",
    "ax.set_xlim(-0.8, len(merged_data.index) - 0.5)\n",
    "\n",
    "legends = [ax.get_legend(), ax2.get_legend()]\n",
    "ax.figure.legend(legends, labels = ['number of nonviolent campaigns', 'percentage success'], loc='upper left', bbox_to_anchor=(0.13, 0.88))\n",
    "\n",
    "\n",
    "ax.tick_params(axis='x', which='both', bottom=False, top=False)\n",
    "\n",
    "plt.show()"
   ]
  },
  {
   "cell_type": "markdown",
   "id": "93d27794-45b8-4bbb-9f82-399edefde920",
   "metadata": {},
   "source": [
    "**Conclusions:**\n",
    "We can see that in the decades 1980 to 2010 we had an uprise in the non violent campaigns. As the years pass by the non violent ones start to compete. For this specific years that we have a lot of campaigns we also have good success percentages starting from 40% and ending up in the decades 1990-2000 to 80% and 65% respectively. "
   ]
  },
  {
   "cell_type": "markdown",
   "id": "dec9941d-620c-4c9f-a0f2-dc3ba7a3c2be",
   "metadata": {},
   "source": [
    "### Success rate for violent and nonviolent campaigns by decade. "
   ]
  },
  {
   "cell_type": "markdown",
   "id": "f13e1822-c057-473d-913b-759cc46cb104",
   "metadata": {},
   "source": [
    "Now, let's see the success rate for both violent and non violent throughout the decades so we can compare them."
   ]
  },
  {
   "cell_type": "markdown",
   "id": "1cef3c09-7f65-4005-bde5-b1a27821dd31",
   "metadata": {},
   "source": [
    "Once again the violent campaigns per decade are already made from our first analyse."
   ]
  },
  {
   "cell_type": "markdown",
   "id": "61b41e52-636a-4c05-bd15-6663b02ed2c5",
   "metadata": {},
   "source": [
    "So we are just printing them and placing them in a dataframe so we can merge them with the dataframe with the non violent campaign data."
   ]
  },
  {
   "cell_type": "code",
   "execution_count": 31,
   "id": "6f1bad20-eccc-489c-b54c-3d3f04feb80e",
   "metadata": {},
   "outputs": [
    {
     "data": {
      "text/plain": [
       "Decade\n",
       "1940    12\n",
       "1950    25\n",
       "1960    21\n",
       "1970    27\n",
       "1980    17\n",
       "1990    54\n",
       "2000    23\n",
       "2010    41\n",
       "dtype: int64"
      ]
     },
     "execution_count": 31,
     "metadata": {},
     "output_type": "execute_result"
    }
   ],
   "source": [
    "violent_campaigns_per_decade"
   ]
  },
  {
   "cell_type": "code",
   "execution_count": 32,
   "id": "cd4ba1d7-c87d-4577-b5cb-8f8a5bdf36c1",
   "metadata": {},
   "outputs": [],
   "source": [
    "violent_campaigns_per_decade = violent_campaigns_per_decade.to_frame(name='violent_campaigns')\n"
   ]
  },
  {
   "cell_type": "code",
   "execution_count": 33,
   "id": "9ab75c20-8011-4c47-bfbe-39474205d633",
   "metadata": {},
   "outputs": [
    {
     "data": {
      "text/html": [
       "<div>\n",
       "<style scoped>\n",
       "    .dataframe tbody tr th:only-of-type {\n",
       "        vertical-align: middle;\n",
       "    }\n",
       "\n",
       "    .dataframe tbody tr th {\n",
       "        vertical-align: top;\n",
       "    }\n",
       "\n",
       "    .dataframe thead th {\n",
       "        text-align: right;\n",
       "    }\n",
       "</style>\n",
       "<table border=\"1\" class=\"dataframe\">\n",
       "  <thead>\n",
       "    <tr style=\"text-align: right;\">\n",
       "      <th></th>\n",
       "      <th>violent_campaigns</th>\n",
       "    </tr>\n",
       "    <tr>\n",
       "      <th>Decade</th>\n",
       "      <th></th>\n",
       "    </tr>\n",
       "  </thead>\n",
       "  <tbody>\n",
       "    <tr>\n",
       "      <th>1940</th>\n",
       "      <td>12</td>\n",
       "    </tr>\n",
       "    <tr>\n",
       "      <th>1950</th>\n",
       "      <td>25</td>\n",
       "    </tr>\n",
       "    <tr>\n",
       "      <th>1960</th>\n",
       "      <td>21</td>\n",
       "    </tr>\n",
       "    <tr>\n",
       "      <th>1970</th>\n",
       "      <td>27</td>\n",
       "    </tr>\n",
       "    <tr>\n",
       "      <th>1980</th>\n",
       "      <td>17</td>\n",
       "    </tr>\n",
       "    <tr>\n",
       "      <th>1990</th>\n",
       "      <td>54</td>\n",
       "    </tr>\n",
       "    <tr>\n",
       "      <th>2000</th>\n",
       "      <td>23</td>\n",
       "    </tr>\n",
       "    <tr>\n",
       "      <th>2010</th>\n",
       "      <td>41</td>\n",
       "    </tr>\n",
       "  </tbody>\n",
       "</table>\n",
       "</div>"
      ],
      "text/plain": [
       "        violent_campaigns\n",
       "Decade                   \n",
       "1940                   12\n",
       "1950                   25\n",
       "1960                   21\n",
       "1970                   27\n",
       "1980                   17\n",
       "1990                   54\n",
       "2000                   23\n",
       "2010                   41"
      ]
     },
     "execution_count": 33,
     "metadata": {},
     "output_type": "execute_result"
    }
   ],
   "source": [
    "violent_campaigns_per_decade"
   ]
  },
  {
   "cell_type": "markdown",
   "id": "428cfd78-b22b-4fe8-8dc4-4e922062d9b9",
   "metadata": {},
   "source": [
    "As we did with the non violent campaigns once again we calculate the success ones for each decade for the violent ones this time."
   ]
  },
  {
   "cell_type": "code",
   "execution_count": 34,
   "id": "1d28da03-1a45-41c1-b96c-9ae2c9150b38",
   "metadata": {},
   "outputs": [
    {
     "name": "stderr",
     "output_type": "stream",
     "text": [
      "C:\\Users\\falin\\AppData\\Local\\Temp\\ipykernel_18332\\1489477605.py:1: FutureWarning: The default of observed=False is deprecated and will be changed to True in a future version of pandas. Pass observed=False to retain current behavior or observed=True to adopt the future default and silence this warning.\n",
      "  counts_per_decade_viol = df[(df['SUCCESS'] == 1.0) & (df['VIOL'] == 1.0)].groupby('Decade')['Decade'].count()\n"
     ]
    }
   ],
   "source": [
    "counts_per_decade_viol = df[(df['SUCCESS'] == 1.0) & (df['VIOL'] == 1.0)].groupby('Decade')['Decade'].count()"
   ]
  },
  {
   "cell_type": "code",
   "execution_count": 35,
   "id": "bcf83aeb-3aac-486c-97bc-29a968bbdb20",
   "metadata": {},
   "outputs": [],
   "source": [
    "counts_per_decade_viol = counts_per_decade_viol.to_frame(name='success_violent')\n"
   ]
  },
  {
   "cell_type": "code",
   "execution_count": 36,
   "id": "ebc5036d-4395-49b3-a5a4-3ecde83aca62",
   "metadata": {},
   "outputs": [
    {
     "data": {
      "text/html": [
       "<div>\n",
       "<style scoped>\n",
       "    .dataframe tbody tr th:only-of-type {\n",
       "        vertical-align: middle;\n",
       "    }\n",
       "\n",
       "    .dataframe tbody tr th {\n",
       "        vertical-align: top;\n",
       "    }\n",
       "\n",
       "    .dataframe thead th {\n",
       "        text-align: right;\n",
       "    }\n",
       "</style>\n",
       "<table border=\"1\" class=\"dataframe\">\n",
       "  <thead>\n",
       "    <tr style=\"text-align: right;\">\n",
       "      <th></th>\n",
       "      <th>success_violent</th>\n",
       "    </tr>\n",
       "    <tr>\n",
       "      <th>Decade</th>\n",
       "      <th></th>\n",
       "    </tr>\n",
       "  </thead>\n",
       "  <tbody>\n",
       "    <tr>\n",
       "      <th>1940</th>\n",
       "      <td>6</td>\n",
       "    </tr>\n",
       "    <tr>\n",
       "      <th>1950</th>\n",
       "      <td>8</td>\n",
       "    </tr>\n",
       "    <tr>\n",
       "      <th>1960</th>\n",
       "      <td>4</td>\n",
       "    </tr>\n",
       "    <tr>\n",
       "      <th>1970</th>\n",
       "      <td>12</td>\n",
       "    </tr>\n",
       "    <tr>\n",
       "      <th>1980</th>\n",
       "      <td>5</td>\n",
       "    </tr>\n",
       "    <tr>\n",
       "      <th>1990</th>\n",
       "      <td>15</td>\n",
       "    </tr>\n",
       "    <tr>\n",
       "      <th>2000</th>\n",
       "      <td>3</td>\n",
       "    </tr>\n",
       "    <tr>\n",
       "      <th>2010</th>\n",
       "      <td>3</td>\n",
       "    </tr>\n",
       "  </tbody>\n",
       "</table>\n",
       "</div>"
      ],
      "text/plain": [
       "        success_violent\n",
       "Decade                 \n",
       "1940                  6\n",
       "1950                  8\n",
       "1960                  4\n",
       "1970                 12\n",
       "1980                  5\n",
       "1990                 15\n",
       "2000                  3\n",
       "2010                  3"
      ]
     },
     "execution_count": 36,
     "metadata": {},
     "output_type": "execute_result"
    }
   ],
   "source": [
    "counts_per_decade_viol"
   ]
  },
  {
   "cell_type": "code",
   "execution_count": 37,
   "id": "d142c49c-dc17-4558-b7fb-9ebddc75c4d7",
   "metadata": {},
   "outputs": [],
   "source": [
    "merged_data = pd.merge(merged_data, violent_campaigns_per_decade, left_index=True, right_index=True, how='left')\n",
    "merged_data = pd.merge(merged_data, counts_per_decade_viol, left_index=True, right_index=True, how='left')"
   ]
  },
  {
   "cell_type": "code",
   "execution_count": 38,
   "id": "5d22840f-e1f0-4018-b2e6-495f5fd6f03a",
   "metadata": {},
   "outputs": [
    {
     "data": {
      "text/html": [
       "<div>\n",
       "<style scoped>\n",
       "    .dataframe tbody tr th:only-of-type {\n",
       "        vertical-align: middle;\n",
       "    }\n",
       "\n",
       "    .dataframe tbody tr th {\n",
       "        vertical-align: top;\n",
       "    }\n",
       "\n",
       "    .dataframe thead th {\n",
       "        text-align: right;\n",
       "    }\n",
       "</style>\n",
       "<table border=\"1\" class=\"dataframe\">\n",
       "  <thead>\n",
       "    <tr style=\"text-align: right;\">\n",
       "      <th></th>\n",
       "      <th>number_of_nonviolent_campaigns</th>\n",
       "      <th>counts_per_decade_nonviol</th>\n",
       "      <th>percentage_success</th>\n",
       "      <th>violent_campaigns</th>\n",
       "      <th>success_violent</th>\n",
       "    </tr>\n",
       "    <tr>\n",
       "      <th>Decade</th>\n",
       "      <th></th>\n",
       "      <th></th>\n",
       "      <th></th>\n",
       "      <th></th>\n",
       "      <th></th>\n",
       "    </tr>\n",
       "  </thead>\n",
       "  <tbody>\n",
       "    <tr>\n",
       "      <th>1940</th>\n",
       "      <td>2</td>\n",
       "      <td>1</td>\n",
       "      <td>0.50</td>\n",
       "      <td>12</td>\n",
       "      <td>6</td>\n",
       "    </tr>\n",
       "    <tr>\n",
       "      <th>1950</th>\n",
       "      <td>9</td>\n",
       "      <td>2</td>\n",
       "      <td>0.22</td>\n",
       "      <td>25</td>\n",
       "      <td>8</td>\n",
       "    </tr>\n",
       "    <tr>\n",
       "      <th>1960</th>\n",
       "      <td>8</td>\n",
       "      <td>2</td>\n",
       "      <td>0.25</td>\n",
       "      <td>21</td>\n",
       "      <td>4</td>\n",
       "    </tr>\n",
       "    <tr>\n",
       "      <th>1970</th>\n",
       "      <td>13</td>\n",
       "      <td>7</td>\n",
       "      <td>0.54</td>\n",
       "      <td>27</td>\n",
       "      <td>12</td>\n",
       "    </tr>\n",
       "    <tr>\n",
       "      <th>1980</th>\n",
       "      <td>30</td>\n",
       "      <td>14</td>\n",
       "      <td>0.47</td>\n",
       "      <td>17</td>\n",
       "      <td>5</td>\n",
       "    </tr>\n",
       "    <tr>\n",
       "      <th>1990</th>\n",
       "      <td>36</td>\n",
       "      <td>30</td>\n",
       "      <td>0.83</td>\n",
       "      <td>54</td>\n",
       "      <td>15</td>\n",
       "    </tr>\n",
       "    <tr>\n",
       "      <th>2000</th>\n",
       "      <td>37</td>\n",
       "      <td>25</td>\n",
       "      <td>0.68</td>\n",
       "      <td>23</td>\n",
       "      <td>3</td>\n",
       "    </tr>\n",
       "    <tr>\n",
       "      <th>2010</th>\n",
       "      <td>34</td>\n",
       "      <td>13</td>\n",
       "      <td>0.38</td>\n",
       "      <td>41</td>\n",
       "      <td>3</td>\n",
       "    </tr>\n",
       "  </tbody>\n",
       "</table>\n",
       "</div>"
      ],
      "text/plain": [
       "        number_of_nonviolent_campaigns  counts_per_decade_nonviol  \\\n",
       "Decade                                                              \n",
       "1940                                 2                          1   \n",
       "1950                                 9                          2   \n",
       "1960                                 8                          2   \n",
       "1970                                13                          7   \n",
       "1980                                30                         14   \n",
       "1990                                36                         30   \n",
       "2000                                37                         25   \n",
       "2010                                34                         13   \n",
       "\n",
       "        percentage_success  violent_campaigns  success_violent  \n",
       "Decade                                                          \n",
       "1940                  0.50                 12                6  \n",
       "1950                  0.22                 25                8  \n",
       "1960                  0.25                 21                4  \n",
       "1970                  0.54                 27               12  \n",
       "1980                  0.47                 17                5  \n",
       "1990                  0.83                 54               15  \n",
       "2000                  0.68                 23                3  \n",
       "2010                  0.38                 41                3  "
      ]
     },
     "execution_count": 38,
     "metadata": {},
     "output_type": "execute_result"
    }
   ],
   "source": [
    "merged_data"
   ]
  },
  {
   "cell_type": "markdown",
   "id": "e00a73d7-d6c1-476b-b1f5-6158564cad51",
   "metadata": {},
   "source": [
    "We are creating the column success_violent in which we are placing the success percentage (ranging from 0 to 1) for the violent campaigns."
   ]
  },
  {
   "cell_type": "code",
   "execution_count": 39,
   "id": "c203f9f1-214f-47ec-bf04-908969619693",
   "metadata": {},
   "outputs": [],
   "source": [
    "merged_data['success_violent'] = merged_data['success_violent'] / merged_data['violent_campaigns']"
   ]
  },
  {
   "cell_type": "code",
   "execution_count": 40,
   "id": "ad6fa0db-dfdb-4aeb-a037-e3c87db01372",
   "metadata": {},
   "outputs": [],
   "source": [
    "merged_data['success_violent'] = merged_data['success_violent'].round(2)"
   ]
  },
  {
   "cell_type": "markdown",
   "id": "be984a8f-8ca1-4165-ab1e-a7fb28e899b3",
   "metadata": {},
   "source": [
    "### Explanation Of Our Graph:\n",
    "* First we set the figure to 8x5 and the width we are going to use for the bars in 0.2\n",
    "* We create the bars using position 0.9 and 2 respectively to place them one next to the other leaving some space between them.\n",
    "* We set labels in y and x axis.\n",
    "* We create the legend and also set Zorder to 2 so the labels will be above of the grid.\n",
    "* Using the set_axisbelow() we place the grid below of our bars.\n",
    "* We remove the lines next to each value of the x and y axis.\n",
    "* We set a limit in x so the graph will start in the positions we want it to."
   ]
  },
  {
   "cell_type": "code",
   "execution_count": 41,
   "id": "a4932b27-9676-4023-a908-24ce9ab99848",
   "metadata": {},
   "outputs": [
    {
     "data": {
      "image/png": "[encoded data removed]",
      "text/plain": [
       "<Figure size 800x500 with 1 Axes>"
      ]
     },
     "metadata": {},
     "output_type": "display_data"
    }
   ],
   "source": [
    "fig = plt.figure(figsize=(8,5)) \n",
    "width = 0.2\n",
    "\n",
    "ax = merged_data['percentage_success'].plot(kind='bar',width = width, position = 2, color='#4882B3')\n",
    "ax = merged_data['success_violent'].plot(kind='bar',width = width, position =0.9, color='#FF4502')\n",
    "ax.set_ylabel('success rate')\n",
    "ax.set_xticklabels(merged_data.index, rotation=0, ha='right')\n",
    "ax.set_xlabel('decade')\n",
    "legend = plt.legend(labels = ['nonviolent','violent'], loc='upper right', fancybox=True)\n",
    "legend.set_zorder(2)\n",
    "plt.grid(True)\n",
    "ax.set_axisbelow(True)\n",
    "\n",
    "plt.tick_params(axis='both', which='both', bottom=False, top=False, left=False, right=False)\n",
    "ax.set_xlim(left=-0.8, right=len(merged_data.index)-0.8)\n",
    "\n",
    "plt.show()"
   ]
  },
  {
   "cell_type": "markdown",
   "id": "6be077b5-f24f-4d0e-83ad-eb3332e5b5e8",
   "metadata": {},
   "source": [
    "**Conclusions:**\n",
    "Regardless of the decades 1940 and 1950 (which are considered less educational decades and are also followed by WW2) we see that in the following decades the marging between the non violent and violent ones is large with the non violent campaigns having bigger success rates. "
   ]
  },
  {
   "cell_type": "markdown",
   "id": "5e2fc64c-9f39-4271-9878-cc2fea31339e",
   "metadata": {},
   "source": [
    "Warning!! Keep in mind that for the decades 1940 to 1960 we do not have many non violent campaigns so we can't actually compare them as the quality of our results may be inefficient. "
   ]
  },
  {
   "cell_type": "markdown",
   "id": "0eee8efe-69a6-44d3-b5a4-af69a81e12db",
   "metadata": {},
   "source": [
    "## 2. Largest Resistance Campaigns, 1946-2014"
   ]
  },
  {
   "cell_type": "markdown",
   "id": "943c4a56-e574-4108-89f4-e09dc9db67be",
   "metadata": {},
   "source": [
    "Now our goal is to create a barh plot in which we will show the campaigns with the largest participations and also if the campaigns succeeded their goals in whole, part of them or if they failed."
   ]
  },
  {
   "cell_type": "code",
   "execution_count": 42,
   "id": "5ff2c187-75fb-495f-8c98-a2fa191d7ea6",
   "metadata": {},
   "outputs": [],
   "source": [
    "Resistance_Campaigns = df"
   ]
  },
  {
   "cell_type": "markdown",
   "id": "b0f8882a-c302-4d2d-8e6c-ba8c3ba45129",
   "metadata": {},
   "source": [
    "Step 1 is to create the campaign names using the location (country) it occured and the Target (the opposing government) for whom the campaign started for."
   ]
  },
  {
   "cell_type": "code",
   "execution_count": 43,
   "id": "05b55f5c-7c6b-4f84-9de2-a8435f31ca8c",
   "metadata": {},
   "outputs": [],
   "source": [
    "Resistance_Campaigns['CAMPAIGN_NAME'] = Resistance_Campaigns['LOCATION'] + ':' + ' ' + Resistance_Campaigns['TARGET']"
   ]
  },
  {
   "cell_type": "markdown",
   "id": "b3aa7981-9867-48e3-b60d-68fb2e7a7339",
   "metadata": {},
   "source": [
    "Now we will create a column with the participation as a percentage using the PERCENTAGEPOPULARPARTICIPATION column."
   ]
  },
  {
   "cell_type": "code",
   "execution_count": 44,
   "id": "1c275c40-9e22-4e97-8c8a-834b9f5cbf17",
   "metadata": {},
   "outputs": [],
   "source": [
    "Resistance_Campaigns['Participation_Percentage'] = Resistance_Campaigns['PERCENTAGEPOPULARPARTICIPATION'] * 100 "
   ]
  },
  {
   "cell_type": "code",
   "execution_count": 45,
   "id": "0df1477c-46fb-41cd-8301-c44ed39e184d",
   "metadata": {},
   "outputs": [],
   "source": [
    "Resistance_Campaigns['Participation_Percentage'] = round(Resistance_Campaigns['Participation_Percentage'], 2)"
   ]
  },
  {
   "cell_type": "markdown",
   "id": "8e7440e2-5d96-4bce-891b-24c2057762b6",
   "metadata": {},
   "source": [
    "We will create a new dataframe using only the data in which the participation percentage is larger than 2%"
   ]
  },
  {
   "cell_type": "code",
   "execution_count": 46,
   "id": "4f8d3af0-254c-433b-9e9c-56d7e9958b5f",
   "metadata": {},
   "outputs": [],
   "source": [
    "Largest_Resistance_Campaigns = Resistance_Campaigns[Resistance_Campaigns['Participation_Percentage'] > 2.0]"
   ]
  },
  {
   "cell_type": "markdown",
   "id": "f47e6a2d-d9b3-4d8e-8fc0-f0e87e6f7b7c",
   "metadata": {},
   "source": [
    "We will sort them so we can check the graph from the largest one to the least large participated campaign."
   ]
  },
  {
   "cell_type": "code",
   "execution_count": 47,
   "id": "e95bbcd4-ba89-4a88-ac67-52be58dd63d4",
   "metadata": {},
   "outputs": [],
   "source": [
    "Largest_Resistance_Campaigns = Largest_Resistance_Campaigns.sort_values(by = 'Participation_Percentage', ascending = True)"
   ]
  },
  {
   "cell_type": "markdown",
   "id": "f7c63ae2-5bb4-441b-88eb-7fb0233f99a3",
   "metadata": {},
   "source": [
    "We import the FuncFormatter which is used in Matplotlib to customize the formatting of tick values on an axis. We will need it for the x axis."
   ]
  },
  {
   "cell_type": "code",
   "execution_count": 48,
   "id": "0fe4e15b-667b-4bd1-9db2-67a84e3136d6",
   "metadata": {},
   "outputs": [],
   "source": [
    "from matplotlib.ticker import FuncFormatter"
   ]
  },
  {
   "cell_type": "markdown",
   "id": "9ca3d890-03e7-4f38-93a3-9aab1c822a87",
   "metadata": {},
   "source": [
    "Our last step is to depict out findings into a graph. The graph below shows for each Campaign name (check y axis) the population that participated in it's peak event (in percentages, check x axis and also upon the bars), also we will see the bars colored, in this case we can see three outputs.\n",
    " * If the bar is black the campaign was successfull and it managed all of it's goals.\n",
    " * If the bar is grey the campaign manages some of the goals it had, for example the government made compromises.\n",
    " * If the bar is red then it failed."
   ]
  },
  {
   "cell_type": "markdown",
   "id": "e201cc88-2b39-4fde-94d1-63417dee1a90",
   "metadata": {},
   "source": [
    "Let's explain better then code we are using so the viewer can have an idea.\n",
    "* 'color_map': here we match the number 1,2,3 to the colors they will represent in the graph.\n",
    "* 'colors': Here for all the rows in our dataframe we check whether they were succesfull, failure or accomplished some of the goals and we place the correct number in each campaign id.\n",
    "* bars: We create the bars horizondally, We must see better the way we place the colors, as the numbers are placed already in line and also each number corresponds to a color from the color_map we have created, so it just places the colors in the bars.\n",
    "* In the 'for' loop we place the participation percentages upon each bar.\n",
    "* We create grids for better understanding of our participation percentages.\n",
    "* We create the labels that explain each color what it represents. It gets the 'key' out of the legend_labels and find the color it represents and place it in the rentangle with the legends labels.\n",
    "* Finaly we place to the x axis the '%' next to each number (participation percentage) and show our graph.\n"
   ]
  },
  {
   "cell_type": "code",
   "execution_count": 49,
   "id": "5fd03173-6099-4464-a9c9-3ef269b07761",
   "metadata": {},
   "outputs": [
    {
     "data": {
      "image/png": "[encoded data removed]",
      "text/plain": [
       "<Figure size 800x800 with 1 Axes>"
      ]
     },
     "metadata": {},
     "output_type": "display_data"
    }
   ],
   "source": [
    "fig, ax = plt.subplots(figsize=(8, 8))\n",
    "color_map = {1: '#E1312B', 2: '#6F6F6F', 3: '#040404'}\n",
    "colors = Largest_Resistance_Campaigns.apply(lambda row: 1 if row['FAILURE'] == 1 else (2 if row['LIMITED'] == 1 else 3), axis=1)\n",
    "bars = plt.barh(Largest_Resistance_Campaigns['CAMPAIGN_NAME'], Largest_Resistance_Campaigns['Participation_Percentage'],  color=[color_map[color] for color in colors], height=0.8)\n",
    "\n",
    "plt.xlabel('Percent population participating in peak event')\n",
    "plt.ylabel('Campaign')\n",
    "for bar, value in zip(bars, Largest_Resistance_Campaigns['Participation_Percentage']):\n",
    "    plt.text(bar.get_width() , bar.get_y() + bar.get_height()/2 , f'{value:.2f}',ha = 'right', va='center',  color='#FEFEFE', fontsize=8)\n",
    "\n",
    "plt.grid(axis = 'x')\n",
    "ax.set_axisbelow(True)\n",
    "\n",
    "legend_lables = {1: 'Campaign Failed', 2: 'Campaign achieved major concessions short of full success', 3: 'Campaign succeeded'}\n",
    "legend_handles = [plt.Rectangle((0, 0), 1, 1, color=color_map[label]) for label in legend_lables.keys()]\n",
    "plt.legend(legend_handles, legend_lables.values(), loc='lower right')\n",
    "plt.tick_params(axis='both', which='both', bottom=False, top=False, left=False, right=False)\n",
    "\n",
    "ax.xaxis.set_major_formatter(FuncFormatter(lambda x, _: f'{x:.1f}%'))\n",
    "bar_spacing = 0.4\n",
    "plt.ylim(-bar_spacing,len(Largest_Resistance_Campaigns)- bar_spacing )\n",
    "\n",
    "plt.show()"
   ]
  },
  {
   "cell_type": "markdown",
   "id": "e295f865-9086-490d-af36-abfed80dfb83",
   "metadata": {},
   "source": [
    "**Conclusions:**\n",
    "The graph above shows in the y axis each campaign and the Target it started against, in the x axis the percent of the population that participated specifically in the peak event. As we see we have some bars. For each bar we have a number showing the exact population participating and the color for the goal achievements."
   ]
  },
  {
   "cell_type": "markdown",
   "id": "678d7c55-121e-4dfa-9b00-8efb33da5dd2",
   "metadata": {},
   "source": [
    "Let's check some campaign breaking this 'rule' and also some interesting campaigns."
   ]
  },
  {
   "cell_type": "markdown",
   "id": "3c13586a-63ea-49d6-86ce-6e8fde1614ba",
   "metadata": {},
   "source": [
    "Having as knowledge the '3.5% rule' of Erica Chenoweth we will see some outliers for the start."
   ]
  },
  {
   "cell_type": "markdown",
   "id": "2124e7d9-624a-498a-ba99-4742173a2cee",
   "metadata": {},
   "source": [
    "**Bahrain: Monarchy of King Hamad**"
   ]
  },
  {
   "cell_type": "markdown",
   "id": "212af487-75c4-4582-927a-90b67d6bc6e0",
   "metadata": {},
   "source": [
    "Here we have a participation of 6.38% but still failed in it's goals. Let's see why."
   ]
  },
  {
   "cell_type": "markdown",
   "id": "00e6457a-be54-42e1-8919-7304728ae21a",
   "metadata": {},
   "source": [
    "We see that the participation is not very high for the percentage that it represents, that is explained by the fact the Bahrain is a small island country located in the middle east. "
   ]
  },
  {
   "cell_type": "code",
   "execution_count": 50,
   "id": "90d939aa-8bd8-4ed5-b448-cdd797d92d5d",
   "metadata": {},
   "outputs": [
    {
     "data": {
      "text/plain": [
       "19    100000.0\n",
       "Name: PARTICIPATION, dtype: float64"
      ]
     },
     "execution_count": 50,
     "metadata": {},
     "output_type": "execute_result"
    }
   ],
   "source": [
    "df[df['LOCATION'] == 'Bahrain']['PARTICIPATION']"
   ]
  },
  {
   "cell_type": "markdown",
   "id": "ea8e5666-6dca-4ed9-be6d-5c4cbf622cda",
   "metadata": {},
   "source": [
    "Also the government used violence against the non violent campaign."
   ]
  },
  {
   "cell_type": "code",
   "execution_count": 51,
   "id": "6e7ed0af-7301-46e5-872d-ff60d558a90e",
   "metadata": {},
   "outputs": [
    {
     "data": {
      "text/plain": [
       "19    1.0\n",
       "Name: REGVIOL, dtype: float64"
      ]
     },
     "execution_count": 51,
     "metadata": {},
     "output_type": "execute_result"
    }
   ],
   "source": [
    "df[df['LOCATION'] == 'Bahrain']['REGVIOL']"
   ]
  },
  {
   "cell_type": "markdown",
   "id": "6355d05d-8db2-431e-b91a-e4f7e86708dd",
   "metadata": {},
   "source": [
    "Searching for more information we find that this group of minority controling the country had also the support of Saudi Arabia so it also had their help againgst the campaign, so as it is obvious for these reasons it could not keep up with the rule."
   ]
  },
  {
   "cell_type": "markdown",
   "id": "e0c8d671-5823-4cfa-8b8b-66023012fd1d",
   "metadata": {},
   "source": [
    "**Brunei: Brunei Government**"
   ]
  },
  {
   "cell_type": "markdown",
   "id": "c513be46-6633-4a9a-90ff-f48780e245e5",
   "metadata": {},
   "source": [
    "Checking out the participation we understand that the percentage is high because their population is very low."
   ]
  },
  {
   "cell_type": "code",
   "execution_count": 52,
   "id": "14c27283-369f-451f-a084-12fb89ed06f9",
   "metadata": {},
   "outputs": [
    {
     "data": {
      "text/plain": [
       "34    4000.0\n",
       "Name: PARTICIPATION, dtype: float64"
      ]
     },
     "execution_count": 52,
     "metadata": {},
     "output_type": "execute_result"
    }
   ],
   "source": [
    "df[df['LOCATION'] == 'Brunei']['PARTICIPATION']"
   ]
  },
  {
   "cell_type": "markdown",
   "id": "b2a899fc-9c72-4521-bf92-c3ed9404770e",
   "metadata": {},
   "source": [
    "They also had help from other nations, looking up for more information specifically from British military. (UK)"
   ]
  },
  {
   "cell_type": "code",
   "execution_count": 53,
   "id": "22414a21-be38-4407-8a08-15b8a604e66d",
   "metadata": {},
   "outputs": [
    {
     "data": {
      "text/plain": [
       "34    1.0\n",
       "Name: REGAID, dtype: float64"
      ]
     },
     "execution_count": 53,
     "metadata": {},
     "output_type": "execute_result"
    }
   ],
   "source": [
    "df[df['LOCATION'] == 'Brunei']['REGAID']"
   ]
  },
  {
   "cell_type": "markdown",
   "id": "e9196608-ee42-4bc1-9c44-fa12c9c681c3",
   "metadata": {},
   "source": [
    "Those reasons also make it a case not representative of the 3.5% rule."
   ]
  },
  {
   "cell_type": "markdown",
   "id": "e80c02bc-6962-4e99-a444-79260e9a04bb",
   "metadata": {},
   "source": [
    "**Let's also check in Greece:**"
   ]
  },
  {
   "cell_type": "markdown",
   "id": "0c349229-6cc9-4775-af8f-5a8c86fd3253",
   "metadata": {},
   "source": [
    "Step one is to gather the information we have for campaigns **only** for Greece."
   ]
  },
  {
   "cell_type": "code",
   "execution_count": 54,
   "id": "e9f0131b-d1b1-41b4-b828-2ceee67f546d",
   "metadata": {},
   "outputs": [],
   "source": [
    "Greece = Resistance_Campaigns[Resistance_Campaigns['LOCATION'] == 'Greece']"
   ]
  },
  {
   "cell_type": "code",
   "execution_count": 55,
   "id": "902aa193-3c9f-4e95-9649-7e130ef26dab",
   "metadata": {},
   "outputs": [
    {
     "data": {
      "text/html": [
       "<div>\n",
       "<style scoped>\n",
       "    .dataframe tbody tr th:only-of-type {\n",
       "        vertical-align: middle;\n",
       "    }\n",
       "\n",
       "    .dataframe tbody tr th {\n",
       "        vertical-align: top;\n",
       "    }\n",
       "\n",
       "    .dataframe thead th {\n",
       "        text-align: right;\n",
       "    }\n",
       "</style>\n",
       "<table border=\"1\" class=\"dataframe\">\n",
       "  <thead>\n",
       "    <tr style=\"text-align: right;\">\n",
       "      <th></th>\n",
       "      <th>NAVCOID</th>\n",
       "      <th>CAMPAIGN</th>\n",
       "      <th>LOCATION</th>\n",
       "      <th>BYEAR</th>\n",
       "      <th>EYEAR</th>\n",
       "      <th>TARGET</th>\n",
       "      <th>SUCCESS</th>\n",
       "      <th>LIMITED</th>\n",
       "      <th>FAILURE</th>\n",
       "      <th>ONGOING</th>\n",
       "      <th>NONVIOL</th>\n",
       "      <th>VIOL</th>\n",
       "      <th>REGCHANGE</th>\n",
       "      <th>FSELFDET</th>\n",
       "      <th>SECESSION</th>\n",
       "      <th>OTHER</th>\n",
       "      <th>DURATION</th>\n",
       "      <th>PARTICIPATION</th>\n",
       "      <th>PERCENTAGEPOPULARPARTICIPATION</th>\n",
       "      <th>REGVIOL</th>\n",
       "      <th>DEFECT</th>\n",
       "      <th>VIOLENTFLANK</th>\n",
       "      <th>VIOLSIM</th>\n",
       "      <th>REGAID</th>\n",
       "      <th>STATESUP</th>\n",
       "      <th>Decade</th>\n",
       "      <th>CAMPAIGN_NAME</th>\n",
       "      <th>Participation_Percentage</th>\n",
       "    </tr>\n",
       "  </thead>\n",
       "  <tbody>\n",
       "    <tr>\n",
       "      <th>119</th>\n",
       "      <td>401.0</td>\n",
       "      <td>Greek Civil War</td>\n",
       "      <td>Greece</td>\n",
       "      <td>1946</td>\n",
       "      <td>1949.0</td>\n",
       "      <td>British and US occupation</td>\n",
       "      <td>0.0</td>\n",
       "      <td>0.0</td>\n",
       "      <td>1.0</td>\n",
       "      <td>0.0</td>\n",
       "      <td>0.0</td>\n",
       "      <td>1.0</td>\n",
       "      <td>0.0</td>\n",
       "      <td>1.0</td>\n",
       "      <td>0.0</td>\n",
       "      <td>0.0</td>\n",
       "      <td>1778.0</td>\n",
       "      <td>40000.0</td>\n",
       "      <td>0.005092</td>\n",
       "      <td>1.0</td>\n",
       "      <td>0.0</td>\n",
       "      <td>NaN</td>\n",
       "      <td>0.0</td>\n",
       "      <td>1.0</td>\n",
       "      <td>1.0</td>\n",
       "      <td>1940</td>\n",
       "      <td>Greece: British and US occupation</td>\n",
       "      <td>0.51</td>\n",
       "    </tr>\n",
       "    <tr>\n",
       "      <th>120</th>\n",
       "      <td>89.0</td>\n",
       "      <td>Greek anti-military</td>\n",
       "      <td>Greece</td>\n",
       "      <td>1973</td>\n",
       "      <td>1974.0</td>\n",
       "      <td>Military rule</td>\n",
       "      <td>1.0</td>\n",
       "      <td>0.0</td>\n",
       "      <td>0.0</td>\n",
       "      <td>0.0</td>\n",
       "      <td>1.0</td>\n",
       "      <td>0.0</td>\n",
       "      <td>1.0</td>\n",
       "      <td>0.0</td>\n",
       "      <td>0.0</td>\n",
       "      <td>0.0</td>\n",
       "      <td>654.0</td>\n",
       "      <td>2500.0</td>\n",
       "      <td>0.000279</td>\n",
       "      <td>1.0</td>\n",
       "      <td>1.0</td>\n",
       "      <td>1.0</td>\n",
       "      <td>0.0</td>\n",
       "      <td>1.0</td>\n",
       "      <td>0.0</td>\n",
       "      <td>1970</td>\n",
       "      <td>Greece: Military rule</td>\n",
       "      <td>0.03</td>\n",
       "    </tr>\n",
       "  </tbody>\n",
       "</table>\n",
       "</div>"
      ],
      "text/plain": [
       "     NAVCOID             CAMPAIGN LOCATION  BYEAR   EYEAR  \\\n",
       "119    401.0      Greek Civil War   Greece   1946  1949.0   \n",
       "120     89.0  Greek anti-military   Greece   1973  1974.0   \n",
       "\n",
       "                        TARGET  SUCCESS  LIMITED  FAILURE  ONGOING  NONVIOL  \\\n",
       "119  British and US occupation      0.0      0.0      1.0      0.0      0.0   \n",
       "120              Military rule      1.0      0.0      0.0      0.0      1.0   \n",
       "\n",
       "     VIOL  REGCHANGE  FSELFDET  SECESSION  OTHER  DURATION  PARTICIPATION  \\\n",
       "119   1.0        0.0       1.0        0.0    0.0    1778.0        40000.0   \n",
       "120   0.0        1.0       0.0        0.0    0.0     654.0         2500.0   \n",
       "\n",
       "     PERCENTAGEPOPULARPARTICIPATION  REGVIOL  DEFECT  VIOLENTFLANK  VIOLSIM  \\\n",
       "119                        0.005092      1.0     0.0           NaN      0.0   \n",
       "120                        0.000279      1.0     1.0           1.0      0.0   \n",
       "\n",
       "     REGAID  STATESUP Decade                      CAMPAIGN_NAME  \\\n",
       "119     1.0       1.0   1940  Greece: British and US occupation   \n",
       "120     1.0       0.0   1970              Greece: Military rule   \n",
       "\n",
       "     Participation_Percentage  \n",
       "119                      0.51  \n",
       "120                      0.03  "
      ]
     },
     "execution_count": 55,
     "metadata": {},
     "output_type": "execute_result"
    }
   ],
   "source": [
    "Greece"
   ]
  },
  {
   "cell_type": "markdown",
   "id": "e72960ad-88ec-434a-b915-ebafce928b77",
   "metadata": {},
   "source": [
    "We create a graph with those two rows so we can get a visualization of our values. "
   ]
  },
  {
   "cell_type": "markdown",
   "id": "8b7ceee8-518d-4400-b6e6-62b6d28dbeed",
   "metadata": {},
   "source": [
    "What do we see in the graph?\n",
    "* The large bar is for the Greek Civil War: Following the WW2 it was a conflict between communist forces (Yugoslavia) and anti communist forces supported from the common enemies of the Soviets, the US(United States) and UK(United Kingdom).  "
   ]
  },
  {
   "cell_type": "markdown",
   "id": "73fb61e1-19f4-48f4-a610-13db1372b3a9",
   "metadata": {},
   "source": [
    "We can see this contribution from other nation from the column below the REGAID which is 1.0(TRUE). "
   ]
  },
  {
   "cell_type": "code",
   "execution_count": 56,
   "id": "4619518d-155a-4509-9128-3c28a5e8c4b1",
   "metadata": {},
   "outputs": [
    {
     "data": {
      "text/plain": [
       "119    1.0\n",
       "Name: REGAID, dtype: float64"
      ]
     },
     "execution_count": 56,
     "metadata": {},
     "output_type": "execute_result"
    }
   ],
   "source": [
    "Greece[Greece['CAMPAIGN_NAME'] =='Greece: British and US occupation']['REGAID']"
   ]
  },
  {
   "cell_type": "markdown",
   "id": "fcf48f24-c7c5-406f-9aff-4073bf7a7560",
   "metadata": {},
   "source": [
    "We can also see the impact of the US and UK in Greece."
   ]
  },
  {
   "cell_type": "code",
   "execution_count": 57,
   "id": "b5d3aabf-22ab-4a77-a178-bf1f015255ff",
   "metadata": {},
   "outputs": [
    {
     "data": {
      "text/plain": [
       "119    1.0\n",
       "Name: STATESUP, dtype: float64"
      ]
     },
     "execution_count": 57,
     "metadata": {},
     "output_type": "execute_result"
    }
   ],
   "source": [
    "Greece[Greece['CAMPAIGN_NAME'] =='Greece: British and US occupation']['STATESUP']"
   ]
  },
  {
   "cell_type": "markdown",
   "id": "b2777ce6-ae2f-463f-aa8f-fbf967d22836",
   "metadata": {},
   "source": [
    "This campaign against the government was a failure ultimately contributing to the defeat of the communist forces and the establishment of a non-communist government in Greece."
   ]
  },
  {
   "cell_type": "markdown",
   "id": "6d49489f-9d2b-414c-877a-70610ae05dfb",
   "metadata": {},
   "source": [
    "* The small bar is about the campaign againgst the Military rule that was forcely implemented in Greece in the try of restrict communists."
   ]
  },
  {
   "cell_type": "code",
   "execution_count": 58,
   "id": "a28d09a7-a70a-496d-bcee-5aaeea94f456",
   "metadata": {},
   "outputs": [
    {
     "data": {
      "text/plain": [
       "120    1.0\n",
       "Name: REGAID, dtype: float64"
      ]
     },
     "execution_count": 58,
     "metadata": {},
     "output_type": "execute_result"
    }
   ],
   "source": [
    "Greece[Greece['CAMPAIGN_NAME'] =='Greece: Military rule']['REGAID']"
   ]
  },
  {
   "cell_type": "markdown",
   "id": "3a64f70b-916c-451e-8f69-d54f3e806e37",
   "metadata": {},
   "source": [
    "The government had help from US in their try to enforce the movement of communist spread as there was a big fear and alertness againgst anything had to do with the USSR in the Cold War. "
   ]
  },
  {
   "cell_type": "code",
   "execution_count": 59,
   "id": "f48f212f-51e3-46f7-95dd-1a7b7af73d65",
   "metadata": {},
   "outputs": [
    {
     "data": {
      "image/png": "[encoded data removed]",
      "text/plain": [
       "<Figure size 640x480 with 1 Axes>"
      ]
     },
     "metadata": {},
     "output_type": "display_data"
    }
   ],
   "source": [
    "colors = Greece['SUCCESS'].map({1: 'black', 0: 'red'})\n",
    "\n",
    "fig, ax = plt.subplots()\n",
    "bars = ax.bar(Greece['CAMPAIGN_NAME'], Greece['Participation_Percentage'], color=colors)\n",
    "\n",
    "for bar, percentage in zip(bars, Greece['Participation_Percentage']):\n",
    "    ax.text( bar.get_x() + bar.get_width()/2, bar.get_height(),\n",
    "            f'{percentage}%', ha='center', va='bottom', fontsize=8)\n",
    "    \n",
    "ax.set_title('Campaign Participation')\n",
    "ax.set_xlabel('Campaign')\n",
    "ax.set_ylabel('Participation Percentage')\n",
    "\n",
    "plt.show()"
   ]
  },
  {
   "cell_type": "markdown",
   "id": "4a4229d0-ba56-4d2f-bd27-4c96eeafa75e",
   "metadata": {},
   "source": [
    "## 3. The Effect of Participation on the Probability of Campaign Success"
   ]
  },
  {
   "cell_type": "markdown",
   "id": "93c03338-aa11-4534-a161-fb178ecaebab",
   "metadata": {},
   "source": [
    "### The effect of participation on the probability of campaign success."
   ]
  },
  {
   "cell_type": "markdown",
   "id": "0cca1817-fc31-4d63-be05-dd2458d86f57",
   "metadata": {},
   "source": [
    "In this part we are going to analyse the assosiasion of success, membership per person and also the population of the nation. We are going to see relationships between them and then create a plot to depict the relations found."
   ]
  },
  {
   "cell_type": "markdown",
   "id": "42519f52-11d6-49ba-a586-537749b10a4d",
   "metadata": {},
   "source": [
    "For this question we will import the library statsmodel.api"
   ]
  },
  {
   "cell_type": "code",
   "execution_count": 60,
   "id": "ec1a1cab-dd69-4535-8e66-6f6fafa72190",
   "metadata": {},
   "outputs": [],
   "source": [
    "import statsmodels.api as sm"
   ]
  },
  {
   "cell_type": "markdown",
   "id": "7ba60336-7720-4f4b-9935-bfd62d03f0a9",
   "metadata": {},
   "source": [
    "As the participants will probably have a large margin between them we are logging them so the scale will be more short."
   ]
  },
  {
   "cell_type": "markdown",
   "id": "5ef5cd81-8388-4e42-bed9-e806e4c34831",
   "metadata": {},
   "source": [
    "We create a new dataframe to work on for the section."
   ]
  },
  {
   "cell_type": "code",
   "execution_count": 61,
   "id": "b01f8b29-46e9-437d-bfc4-125e2dc64d8b",
   "metadata": {},
   "outputs": [],
   "source": [
    "Success_prob = df"
   ]
  },
  {
   "cell_type": "markdown",
   "id": "65580b7e-d662-4f31-bb63-d165c4b32b5c",
   "metadata": {},
   "source": [
    "We will need the logged_population so we calculate the population as we have the participants and the percentage of them from the whole population in each campaign."
   ]
  },
  {
   "cell_type": "code",
   "execution_count": 62,
   "id": "eb4e7b78-773d-4e8b-ac62-71eadf98625c",
   "metadata": {},
   "outputs": [],
   "source": [
    "Success_prob['Population'] = Success_prob['PARTICIPATION']/Success_prob['PERCENTAGEPOPULARPARTICIPATION']"
   ]
  },
  {
   "cell_type": "markdown",
   "id": "f287727d-7970-4da5-964f-07b305e5e6ea",
   "metadata": {},
   "source": [
    "For the membership per person we divide the logged participants with the total population to find for each person how many participated."
   ]
  },
  {
   "cell_type": "code",
   "execution_count": 63,
   "id": "842f342b-698f-47ba-9892-02e48eb34cd9",
   "metadata": {},
   "outputs": [],
   "source": [
    "Success_prob['membership_per_capita'] = np.log(Success_prob['PARTICIPATION'])/np.log(Success_prob['Population'])"
   ]
  },
  {
   "cell_type": "code",
   "execution_count": 64,
   "id": "d9416398-ae91-405d-8497-f58454f1a3c0",
   "metadata": {},
   "outputs": [
    {
     "data": {
      "text/html": [
       "<div>\n",
       "<style scoped>\n",
       "    .dataframe tbody tr th:only-of-type {\n",
       "        vertical-align: middle;\n",
       "    }\n",
       "\n",
       "    .dataframe tbody tr th {\n",
       "        vertical-align: top;\n",
       "    }\n",
       "\n",
       "    .dataframe thead th {\n",
       "        text-align: right;\n",
       "    }\n",
       "</style>\n",
       "<table border=\"1\" class=\"dataframe\">\n",
       "  <thead>\n",
       "    <tr style=\"text-align: right;\">\n",
       "      <th></th>\n",
       "      <th>NAVCOID</th>\n",
       "      <th>CAMPAIGN</th>\n",
       "      <th>LOCATION</th>\n",
       "      <th>BYEAR</th>\n",
       "      <th>EYEAR</th>\n",
       "      <th>TARGET</th>\n",
       "      <th>SUCCESS</th>\n",
       "      <th>LIMITED</th>\n",
       "      <th>FAILURE</th>\n",
       "      <th>ONGOING</th>\n",
       "      <th>NONVIOL</th>\n",
       "      <th>VIOL</th>\n",
       "      <th>REGCHANGE</th>\n",
       "      <th>FSELFDET</th>\n",
       "      <th>SECESSION</th>\n",
       "      <th>OTHER</th>\n",
       "      <th>DURATION</th>\n",
       "      <th>PARTICIPATION</th>\n",
       "      <th>PERCENTAGEPOPULARPARTICIPATION</th>\n",
       "      <th>REGVIOL</th>\n",
       "      <th>DEFECT</th>\n",
       "      <th>VIOLENTFLANK</th>\n",
       "      <th>VIOLSIM</th>\n",
       "      <th>REGAID</th>\n",
       "      <th>STATESUP</th>\n",
       "      <th>Decade</th>\n",
       "      <th>CAMPAIGN_NAME</th>\n",
       "      <th>Participation_Percentage</th>\n",
       "      <th>Population</th>\n",
       "      <th>membership_per_capita</th>\n",
       "    </tr>\n",
       "  </thead>\n",
       "  <tbody>\n",
       "    <tr>\n",
       "      <th>0</th>\n",
       "      <td>4.0</td>\n",
       "      <td>Afghans</td>\n",
       "      <td>Afghanistan</td>\n",
       "      <td>1978</td>\n",
       "      <td>1979.0</td>\n",
       "      <td>Afghan government</td>\n",
       "      <td>1.0</td>\n",
       "      <td>0.0</td>\n",
       "      <td>0.0</td>\n",
       "      <td>0.0</td>\n",
       "      <td>0.0</td>\n",
       "      <td>1.0</td>\n",
       "      <td>1.0</td>\n",
       "      <td>0.0</td>\n",
       "      <td>0.0</td>\n",
       "      <td>0.0</td>\n",
       "      <td>613.0</td>\n",
       "      <td>10000.0</td>\n",
       "      <td>0.000641</td>\n",
       "      <td>1.0</td>\n",
       "      <td>1.0</td>\n",
       "      <td>NaN</td>\n",
       "      <td>1.0</td>\n",
       "      <td>1.0</td>\n",
       "      <td>1.0</td>\n",
       "      <td>1970</td>\n",
       "      <td>Afghanistan: Afghan government</td>\n",
       "      <td>0.06</td>\n",
       "      <td>15600000.0</td>\n",
       "      <td>0.556087</td>\n",
       "    </tr>\n",
       "  </tbody>\n",
       "</table>\n",
       "</div>"
      ],
      "text/plain": [
       "   NAVCOID CAMPAIGN     LOCATION  BYEAR   EYEAR             TARGET  SUCCESS  \\\n",
       "0      4.0  Afghans  Afghanistan   1978  1979.0  Afghan government      1.0   \n",
       "\n",
       "   LIMITED  FAILURE  ONGOING  NONVIOL  VIOL  REGCHANGE  FSELFDET  SECESSION  \\\n",
       "0      0.0      0.0      0.0      0.0   1.0        1.0       0.0        0.0   \n",
       "\n",
       "   OTHER  DURATION  PARTICIPATION  PERCENTAGEPOPULARPARTICIPATION  REGVIOL  \\\n",
       "0    0.0     613.0        10000.0                        0.000641      1.0   \n",
       "\n",
       "   DEFECT  VIOLENTFLANK  VIOLSIM  REGAID  STATESUP Decade  \\\n",
       "0     1.0           NaN      1.0     1.0       1.0   1970   \n",
       "\n",
       "                    CAMPAIGN_NAME  Participation_Percentage  Population  \\\n",
       "0  Afghanistan: Afghan government                      0.06  15600000.0   \n",
       "\n",
       "   membership_per_capita  \n",
       "0               0.556087  "
      ]
     },
     "execution_count": 64,
     "metadata": {},
     "output_type": "execute_result"
    }
   ],
   "source": [
    "Success_prob.head(1)"
   ]
  },
  {
   "cell_type": "markdown",
   "id": "8a802f0e-6def-4058-8d33-f006dd194990",
   "metadata": {},
   "source": [
    "Now we check if we have any NaN values in the participation column."
   ]
  },
  {
   "cell_type": "code",
   "execution_count": 65,
   "id": "5a321a7d-b089-4bf4-a963-6ed09c5f9b8f",
   "metadata": {},
   "outputs": [
    {
     "data": {
      "text/html": [
       "<div>\n",
       "<style scoped>\n",
       "    .dataframe tbody tr th:only-of-type {\n",
       "        vertical-align: middle;\n",
       "    }\n",
       "\n",
       "    .dataframe tbody tr th {\n",
       "        vertical-align: top;\n",
       "    }\n",
       "\n",
       "    .dataframe thead th {\n",
       "        text-align: right;\n",
       "    }\n",
       "</style>\n",
       "<table border=\"1\" class=\"dataframe\">\n",
       "  <thead>\n",
       "    <tr style=\"text-align: right;\">\n",
       "      <th></th>\n",
       "      <th>NAVCOID</th>\n",
       "      <th>CAMPAIGN</th>\n",
       "      <th>LOCATION</th>\n",
       "      <th>BYEAR</th>\n",
       "      <th>EYEAR</th>\n",
       "      <th>TARGET</th>\n",
       "      <th>SUCCESS</th>\n",
       "      <th>LIMITED</th>\n",
       "      <th>FAILURE</th>\n",
       "      <th>ONGOING</th>\n",
       "      <th>NONVIOL</th>\n",
       "      <th>VIOL</th>\n",
       "      <th>REGCHANGE</th>\n",
       "      <th>FSELFDET</th>\n",
       "      <th>SECESSION</th>\n",
       "      <th>OTHER</th>\n",
       "      <th>DURATION</th>\n",
       "      <th>PARTICIPATION</th>\n",
       "      <th>PERCENTAGEPOPULARPARTICIPATION</th>\n",
       "      <th>REGVIOL</th>\n",
       "      <th>DEFECT</th>\n",
       "      <th>VIOLENTFLANK</th>\n",
       "      <th>VIOLSIM</th>\n",
       "      <th>REGAID</th>\n",
       "      <th>STATESUP</th>\n",
       "      <th>Decade</th>\n",
       "      <th>CAMPAIGN_NAME</th>\n",
       "      <th>Participation_Percentage</th>\n",
       "      <th>Population</th>\n",
       "      <th>membership_per_capita</th>\n",
       "    </tr>\n",
       "  </thead>\n",
       "  <tbody>\n",
       "    <tr>\n",
       "      <th>17</th>\n",
       "      <td>254.0</td>\n",
       "      <td>Pro-Independence Campaign</td>\n",
       "      <td>Aruba</td>\n",
       "      <td>1977</td>\n",
       "      <td>1977.0</td>\n",
       "      <td>Government of the Netherlands and the Netherla...</td>\n",
       "      <td>0.0</td>\n",
       "      <td>0.0</td>\n",
       "      <td>1.0</td>\n",
       "      <td>0.0</td>\n",
       "      <td>1.0</td>\n",
       "      <td>0.0</td>\n",
       "      <td>0.0</td>\n",
       "      <td>0.0</td>\n",
       "      <td>1.0</td>\n",
       "      <td>0.0</td>\n",
       "      <td>13.0</td>\n",
       "      <td>NaN</td>\n",
       "      <td>0.0</td>\n",
       "      <td>1.0</td>\n",
       "      <td>0.0</td>\n",
       "      <td>0.0</td>\n",
       "      <td>0.0</td>\n",
       "      <td>0.0</td>\n",
       "      <td>0.0</td>\n",
       "      <td>1970</td>\n",
       "      <td>Aruba: Government of the Netherlands and the N...</td>\n",
       "      <td>0.0</td>\n",
       "      <td>NaN</td>\n",
       "      <td>NaN</td>\n",
       "    </tr>\n",
       "    <tr>\n",
       "      <th>26</th>\n",
       "      <td>432.0</td>\n",
       "      <td>Popular Revolutionary Movement (Bolivia)</td>\n",
       "      <td>Bolivia</td>\n",
       "      <td>1946</td>\n",
       "      <td>1946.0</td>\n",
       "      <td>Villarroel Regime</td>\n",
       "      <td>1.0</td>\n",
       "      <td>0.0</td>\n",
       "      <td>0.0</td>\n",
       "      <td>0.0</td>\n",
       "      <td>1.0</td>\n",
       "      <td>0.0</td>\n",
       "      <td>1.0</td>\n",
       "      <td>0.0</td>\n",
       "      <td>0.0</td>\n",
       "      <td>0.0</td>\n",
       "      <td>12.0</td>\n",
       "      <td>NaN</td>\n",
       "      <td>0.0</td>\n",
       "      <td>1.0</td>\n",
       "      <td>1.0</td>\n",
       "      <td>1.0</td>\n",
       "      <td>0.0</td>\n",
       "      <td>0.0</td>\n",
       "      <td>0.0</td>\n",
       "      <td>1940</td>\n",
       "      <td>Bolivia: Villarroel Regime</td>\n",
       "      <td>0.0</td>\n",
       "      <td>NaN</td>\n",
       "      <td>NaN</td>\n",
       "    </tr>\n",
       "    <tr>\n",
       "      <th>45</th>\n",
       "      <td>236.0</td>\n",
       "      <td>Tutsi supremacists</td>\n",
       "      <td>Burundi</td>\n",
       "      <td>1991</td>\n",
       "      <td>1992.0</td>\n",
       "      <td>Buyoya regime</td>\n",
       "      <td>1.0</td>\n",
       "      <td>0.0</td>\n",
       "      <td>0.0</td>\n",
       "      <td>0.0</td>\n",
       "      <td>0.0</td>\n",
       "      <td>1.0</td>\n",
       "      <td>1.0</td>\n",
       "      <td>0.0</td>\n",
       "      <td>0.0</td>\n",
       "      <td>0.0</td>\n",
       "      <td>402.0</td>\n",
       "      <td>NaN</td>\n",
       "      <td>0.0</td>\n",
       "      <td>1.0</td>\n",
       "      <td>1.0</td>\n",
       "      <td>NaN</td>\n",
       "      <td>0.0</td>\n",
       "      <td>0.0</td>\n",
       "      <td>1.0</td>\n",
       "      <td>1990</td>\n",
       "      <td>Burundi: Buyoya regime</td>\n",
       "      <td>0.0</td>\n",
       "      <td>NaN</td>\n",
       "      <td>NaN</td>\n",
       "    </tr>\n",
       "    <tr>\n",
       "      <th>73</th>\n",
       "      <td>367.0</td>\n",
       "      <td>Anjouan Separatist Movement</td>\n",
       "      <td>Comoros</td>\n",
       "      <td>1997</td>\n",
       "      <td>2000.0</td>\n",
       "      <td>Comoros govt</td>\n",
       "      <td>0.0</td>\n",
       "      <td>0.0</td>\n",
       "      <td>1.0</td>\n",
       "      <td>0.0</td>\n",
       "      <td>1.0</td>\n",
       "      <td>0.0</td>\n",
       "      <td>0.0</td>\n",
       "      <td>0.0</td>\n",
       "      <td>1.0</td>\n",
       "      <td>0.0</td>\n",
       "      <td>1267.0</td>\n",
       "      <td>NaN</td>\n",
       "      <td>0.0</td>\n",
       "      <td>1.0</td>\n",
       "      <td>1.0</td>\n",
       "      <td>1.0</td>\n",
       "      <td>0.0</td>\n",
       "      <td>1.0</td>\n",
       "      <td>0.0</td>\n",
       "      <td>2000</td>\n",
       "      <td>Comoros: Comoros govt</td>\n",
       "      <td>0.0</td>\n",
       "      <td>NaN</td>\n",
       "      <td>NaN</td>\n",
       "    </tr>\n",
       "    <tr>\n",
       "      <th>79</th>\n",
       "      <td>64.0</td>\n",
       "      <td>Czech uprising</td>\n",
       "      <td>Czechoslovakia</td>\n",
       "      <td>1968</td>\n",
       "      <td>1968.0</td>\n",
       "      <td>Soviet occupation</td>\n",
       "      <td>0.0</td>\n",
       "      <td>0.0</td>\n",
       "      <td>1.0</td>\n",
       "      <td>0.0</td>\n",
       "      <td>1.0</td>\n",
       "      <td>0.0</td>\n",
       "      <td>0.0</td>\n",
       "      <td>1.0</td>\n",
       "      <td>0.0</td>\n",
       "      <td>0.0</td>\n",
       "      <td>228.0</td>\n",
       "      <td>NaN</td>\n",
       "      <td>0.0</td>\n",
       "      <td>1.0</td>\n",
       "      <td>0.0</td>\n",
       "      <td>0.0</td>\n",
       "      <td>0.0</td>\n",
       "      <td>0.0</td>\n",
       "      <td>0.0</td>\n",
       "      <td>1960</td>\n",
       "      <td>Czechoslovakia: Soviet occupation</td>\n",
       "      <td>0.0</td>\n",
       "      <td>NaN</td>\n",
       "      <td>NaN</td>\n",
       "    </tr>\n",
       "    <tr>\n",
       "      <th>81</th>\n",
       "      <td>409.0</td>\n",
       "      <td>CNL</td>\n",
       "      <td>Democratic Republic of Congo</td>\n",
       "      <td>1964</td>\n",
       "      <td>1965.0</td>\n",
       "      <td>Mobutu regime</td>\n",
       "      <td>0.0</td>\n",
       "      <td>0.0</td>\n",
       "      <td>1.0</td>\n",
       "      <td>0.0</td>\n",
       "      <td>0.0</td>\n",
       "      <td>1.0</td>\n",
       "      <td>1.0</td>\n",
       "      <td>0.0</td>\n",
       "      <td>0.0</td>\n",
       "      <td>0.0</td>\n",
       "      <td>631.0</td>\n",
       "      <td>NaN</td>\n",
       "      <td>0.0</td>\n",
       "      <td>1.0</td>\n",
       "      <td>0.0</td>\n",
       "      <td>NaN</td>\n",
       "      <td>0.0</td>\n",
       "      <td>1.0</td>\n",
       "      <td>1.0</td>\n",
       "      <td>1960</td>\n",
       "      <td>Democratic Republic of Congo: Mobutu regime</td>\n",
       "      <td>0.0</td>\n",
       "      <td>NaN</td>\n",
       "      <td>NaN</td>\n",
       "    </tr>\n",
       "    <tr>\n",
       "      <th>138</th>\n",
       "      <td>355.0</td>\n",
       "      <td>Telangana People's Front</td>\n",
       "      <td>India</td>\n",
       "      <td>1948</td>\n",
       "      <td>1952.0</td>\n",
       "      <td>Indian government</td>\n",
       "      <td>0.0</td>\n",
       "      <td>0.0</td>\n",
       "      <td>1.0</td>\n",
       "      <td>0.0</td>\n",
       "      <td>0.0</td>\n",
       "      <td>1.0</td>\n",
       "      <td>1.0</td>\n",
       "      <td>0.0</td>\n",
       "      <td>0.0</td>\n",
       "      <td>0.0</td>\n",
       "      <td>1506.0</td>\n",
       "      <td>NaN</td>\n",
       "      <td>0.0</td>\n",
       "      <td>1.0</td>\n",
       "      <td>0.0</td>\n",
       "      <td>NaN</td>\n",
       "      <td>1.0</td>\n",
       "      <td>0.0</td>\n",
       "      <td>1.0</td>\n",
       "      <td>1950</td>\n",
       "      <td>India: Indian government</td>\n",
       "      <td>0.0</td>\n",
       "      <td>NaN</td>\n",
       "      <td>NaN</td>\n",
       "    </tr>\n",
       "    <tr>\n",
       "      <th>190</th>\n",
       "      <td>395.0</td>\n",
       "      <td>Hundred Day War</td>\n",
       "      <td>Lebanon</td>\n",
       "      <td>1978</td>\n",
       "      <td>1978.0</td>\n",
       "      <td>Syrian occupation</td>\n",
       "      <td>1.0</td>\n",
       "      <td>0.0</td>\n",
       "      <td>0.0</td>\n",
       "      <td>0.0</td>\n",
       "      <td>0.0</td>\n",
       "      <td>1.0</td>\n",
       "      <td>0.0</td>\n",
       "      <td>1.0</td>\n",
       "      <td>0.0</td>\n",
       "      <td>0.0</td>\n",
       "      <td>255.0</td>\n",
       "      <td>NaN</td>\n",
       "      <td>0.0</td>\n",
       "      <td>1.0</td>\n",
       "      <td>0.0</td>\n",
       "      <td>NaN</td>\n",
       "      <td>1.0</td>\n",
       "      <td>1.0</td>\n",
       "      <td>0.0</td>\n",
       "      <td>1970</td>\n",
       "      <td>Lebanon: Syrian occupation</td>\n",
       "      <td>0.0</td>\n",
       "      <td>NaN</td>\n",
       "      <td>NaN</td>\n",
       "    </tr>\n",
       "    <tr>\n",
       "      <th>232</th>\n",
       "      <td>276.0</td>\n",
       "      <td>Anti-Somoza Strike</td>\n",
       "      <td>Nicaragua</td>\n",
       "      <td>1978</td>\n",
       "      <td>1978.0</td>\n",
       "      <td>Somoza regime</td>\n",
       "      <td>0.0</td>\n",
       "      <td>0.0</td>\n",
       "      <td>1.0</td>\n",
       "      <td>0.0</td>\n",
       "      <td>1.0</td>\n",
       "      <td>0.0</td>\n",
       "      <td>1.0</td>\n",
       "      <td>0.0</td>\n",
       "      <td>0.0</td>\n",
       "      <td>0.0</td>\n",
       "      <td>244.0</td>\n",
       "      <td>NaN</td>\n",
       "      <td>0.0</td>\n",
       "      <td>1.0</td>\n",
       "      <td>0.0</td>\n",
       "      <td>1.0</td>\n",
       "      <td>0.0</td>\n",
       "      <td>0.0</td>\n",
       "      <td>0.0</td>\n",
       "      <td>1970</td>\n",
       "      <td>Nicaragua: Somoza regime</td>\n",
       "      <td>0.0</td>\n",
       "      <td>NaN</td>\n",
       "      <td>NaN</td>\n",
       "    </tr>\n",
       "  </tbody>\n",
       "</table>\n",
       "</div>"
      ],
      "text/plain": [
       "     NAVCOID                                  CAMPAIGN  \\\n",
       "17     254.0                 Pro-Independence Campaign   \n",
       "26     432.0  Popular Revolutionary Movement (Bolivia)   \n",
       "45     236.0                        Tutsi supremacists   \n",
       "73     367.0               Anjouan Separatist Movement   \n",
       "79      64.0                            Czech uprising   \n",
       "81     409.0                                       CNL   \n",
       "138    355.0                  Telangana People's Front   \n",
       "190    395.0                           Hundred Day War   \n",
       "232    276.0                        Anti-Somoza Strike   \n",
       "\n",
       "                         LOCATION  BYEAR   EYEAR  \\\n",
       "17                          Aruba   1977  1977.0   \n",
       "26                        Bolivia   1946  1946.0   \n",
       "45                        Burundi   1991  1992.0   \n",
       "73                        Comoros   1997  2000.0   \n",
       "79                 Czechoslovakia   1968  1968.0   \n",
       "81   Democratic Republic of Congo   1964  1965.0   \n",
       "138                         India   1948  1952.0   \n",
       "190                       Lebanon   1978  1978.0   \n",
       "232                     Nicaragua   1978  1978.0   \n",
       "\n",
       "                                                TARGET  SUCCESS  LIMITED  \\\n",
       "17   Government of the Netherlands and the Netherla...      0.0      0.0   \n",
       "26                                   Villarroel Regime      1.0      0.0   \n",
       "45                                       Buyoya regime      1.0      0.0   \n",
       "73                                        Comoros govt      0.0      0.0   \n",
       "79                                   Soviet occupation      0.0      0.0   \n",
       "81                                       Mobutu regime      0.0      0.0   \n",
       "138                                  Indian government      0.0      0.0   \n",
       "190                                  Syrian occupation      1.0      0.0   \n",
       "232                                      Somoza regime      0.0      0.0   \n",
       "\n",
       "     FAILURE  ONGOING  NONVIOL  VIOL  REGCHANGE  FSELFDET  SECESSION  OTHER  \\\n",
       "17       1.0      0.0      1.0   0.0        0.0       0.0        1.0    0.0   \n",
       "26       0.0      0.0      1.0   0.0        1.0       0.0        0.0    0.0   \n",
       "45       0.0      0.0      0.0   1.0        1.0       0.0        0.0    0.0   \n",
       "73       1.0      0.0      1.0   0.0        0.0       0.0        1.0    0.0   \n",
       "79       1.0      0.0      1.0   0.0        0.0       1.0        0.0    0.0   \n",
       "81       1.0      0.0      0.0   1.0        1.0       0.0        0.0    0.0   \n",
       "138      1.0      0.0      0.0   1.0        1.0       0.0        0.0    0.0   \n",
       "190      0.0      0.0      0.0   1.0        0.0       1.0        0.0    0.0   \n",
       "232      1.0      0.0      1.0   0.0        1.0       0.0        0.0    0.0   \n",
       "\n",
       "     DURATION  PARTICIPATION  PERCENTAGEPOPULARPARTICIPATION  REGVIOL  DEFECT  \\\n",
       "17       13.0            NaN                             0.0      1.0     0.0   \n",
       "26       12.0            NaN                             0.0      1.0     1.0   \n",
       "45      402.0            NaN                             0.0      1.0     1.0   \n",
       "73     1267.0            NaN                             0.0      1.0     1.0   \n",
       "79      228.0            NaN                             0.0      1.0     0.0   \n",
       "81      631.0            NaN                             0.0      1.0     0.0   \n",
       "138    1506.0            NaN                             0.0      1.0     0.0   \n",
       "190     255.0            NaN                             0.0      1.0     0.0   \n",
       "232     244.0            NaN                             0.0      1.0     0.0   \n",
       "\n",
       "     VIOLENTFLANK  VIOLSIM  REGAID  STATESUP Decade  \\\n",
       "17            0.0      0.0     0.0       0.0   1970   \n",
       "26            1.0      0.0     0.0       0.0   1940   \n",
       "45            NaN      0.0     0.0       1.0   1990   \n",
       "73            1.0      0.0     1.0       0.0   2000   \n",
       "79            0.0      0.0     0.0       0.0   1960   \n",
       "81            NaN      0.0     1.0       1.0   1960   \n",
       "138           NaN      1.0     0.0       1.0   1950   \n",
       "190           NaN      1.0     1.0       0.0   1970   \n",
       "232           1.0      0.0     0.0       0.0   1970   \n",
       "\n",
       "                                         CAMPAIGN_NAME  \\\n",
       "17   Aruba: Government of the Netherlands and the N...   \n",
       "26                          Bolivia: Villarroel Regime   \n",
       "45                              Burundi: Buyoya regime   \n",
       "73                               Comoros: Comoros govt   \n",
       "79                   Czechoslovakia: Soviet occupation   \n",
       "81         Democratic Republic of Congo: Mobutu regime   \n",
       "138                           India: Indian government   \n",
       "190                         Lebanon: Syrian occupation   \n",
       "232                           Nicaragua: Somoza regime   \n",
       "\n",
       "     Participation_Percentage  Population  membership_per_capita  \n",
       "17                        0.0         NaN                    NaN  \n",
       "26                        0.0         NaN                    NaN  \n",
       "45                        0.0         NaN                    NaN  \n",
       "73                        0.0         NaN                    NaN  \n",
       "79                        0.0         NaN                    NaN  \n",
       "81                        0.0         NaN                    NaN  \n",
       "138                       0.0         NaN                    NaN  \n",
       "190                       0.0         NaN                    NaN  \n",
       "232                       0.0         NaN                    NaN  "
      ]
     },
     "execution_count": 65,
     "metadata": {},
     "output_type": "execute_result"
    }
   ],
   "source": [
    "Success_prob[Success_prob['PARTICIPATION'].isna()]"
   ]
  },
  {
   "cell_type": "markdown",
   "id": "73b7f1f3-592b-4d07-a2b1-876cb987fb3c",
   "metadata": {},
   "source": [
    "After finding the rows we are dropping them from the final dataframe we are going to use."
   ]
  },
  {
   "cell_type": "code",
   "execution_count": 66,
   "id": "23eaa303-e183-4e33-8bba-cc3e3a624d51",
   "metadata": {},
   "outputs": [],
   "source": [
    "Success_prob = Success_prob.dropna(subset=['PARTICIPATION'])"
   ]
  },
  {
   "cell_type": "markdown",
   "id": "33091423-09ff-48ff-92be-694525027397",
   "metadata": {},
   "source": [
    "We also need the logged population so we just .log() the corresponding column."
   ]
  },
  {
   "cell_type": "code",
   "execution_count": 67,
   "id": "524b6c7f-cdbc-4417-955c-1fd58a900a29",
   "metadata": {},
   "outputs": [
    {
     "name": "stderr",
     "output_type": "stream",
     "text": [
      "C:\\Users\\falin\\AppData\\Local\\Temp\\ipykernel_18332\\3156010736.py:1: SettingWithCopyWarning: \n",
      "A value is trying to be set on a copy of a slice from a DataFrame.\n",
      "Try using .loc[row_indexer,col_indexer] = value instead\n",
      "\n",
      "See the caveats in the documentation: https://pandas.pydata.org/pandas-docs/stable/user_guide/indexing.html#returning-a-view-versus-a-copy\n",
      "  Success_prob['Logged_Population'] = np.log(Success_prob['Population'])\n"
     ]
    }
   ],
   "source": [
    "Success_prob['Logged_Population'] = np.log(Success_prob['Population'])"
   ]
  },
  {
   "cell_type": "markdown",
   "id": "b8e32902-ad16-4bea-92a9-9d9a24952dcd",
   "metadata": {},
   "source": [
    "Here we are setting up our **model**, as we see as independent variables we set the membership_per_capita and the Logged_Population.\n",
    "For the dependend variable we set the SUCCESS column."
   ]
  },
  {
   "cell_type": "markdown",
   "id": "3f99e241-05f3-4c61-8fa8-8ca3476361c1",
   "metadata": {},
   "source": [
    "We set up the model using the statsmodel.api and calling the function Logit to specify a logistic regression model."
   ]
  },
  {
   "cell_type": "markdown",
   "id": "296b07b1-c017-4ad6-bb25-a4f483dc19f2",
   "metadata": {},
   "source": [
    "Then the .fit() function is used to estimate the coefficients between the predictors and the dependend column."
   ]
  },
  {
   "cell_type": "markdown",
   "id": "cb52b4d2-bb37-415f-b7c9-db0021632552",
   "metadata": {},
   "source": [
    "It is really important to use the .add_constant() for creating an intercept."
   ]
  },
  {
   "cell_type": "code",
   "execution_count": 68,
   "id": "c8ef53b5-6033-4956-8098-980eca5b274f",
   "metadata": {},
   "outputs": [
    {
     "name": "stdout",
     "output_type": "stream",
     "text": [
      "Optimization terminated successfully.\n",
      "         Current function value: 0.580756\n",
      "         Iterations 6\n"
     ]
    }
   ],
   "source": [
    "X = sm.add_constant(Success_prob[['membership_per_capita', 'Logged_Population']])\n",
    "\n",
    "y = Success_prob['SUCCESS']\n",
    "\n",
    "model = sm.Logit(y, X)\n",
    "result = model.fit()"
   ]
  },
  {
   "cell_type": "markdown",
   "id": "094dca89-488b-456b-90c8-5bee8e578188",
   "metadata": {},
   "source": [
    "After creating and fitting our model it is time to see our output and make some comments upon it:\n",
    "* Let's see the most important column which is the one with the coefficients, we see that the membership_per_capita is larger than 0 meaning that the membership per person and the success have a positive relationship. On the other hand we see that the Logged_Population has a negative relation with the success outcome.\n",
    "* Second very important variable is the P-value, if it is less than the significance level(0.05) then the variable is statistically significant. The membership_per_capita is 0 meaning there is an absolute relation and affecting impact in the success of a campaign while the Logged_Population is bigger than the P-value.\n",
    "* The LLR is also low that it means that it was a significanly strong fit.\n",
    "* Pseudo R-squared is at 12.9% that shows how much of the success variability is explained by the model, higher would be more desirable.\r\n"
   ]
  },
  {
   "cell_type": "code",
   "execution_count": 69,
   "id": "7852caed-2d17-4c4c-ae59-bc80da1ab39c",
   "metadata": {},
   "outputs": [
    {
     "data": {
      "text/html": [
       "<table class=\"simpletable\">\n",
       "<caption>Logit Regression Results</caption>\n",
       "<tr>\n",
       "  <th>Dep. Variable:</th>        <td>SUCCESS</td>     <th>  No. Observations:  </th>  <td>   380</td>  \n",
       "</tr>\n",
       "<tr>\n",
       "  <th>Model:</th>                 <td>Logit</td>      <th>  Df Residuals:      </th>  <td>   377</td>  \n",
       "</tr>\n",
       "<tr>\n",
       "  <th>Method:</th>                 <td>MLE</td>       <th>  Df Model:          </th>  <td>     2</td>  \n",
       "</tr>\n",
       "<tr>\n",
       "  <th>Date:</th>            <td>Mon, 04 Dec 2023</td> <th>  Pseudo R-squ.:     </th>  <td>0.1297</td>  \n",
       "</tr>\n",
       "<tr>\n",
       "  <th>Time:</th>                <td>19:25:32</td>     <th>  Log-Likelihood:    </th> <td> -220.69</td> \n",
       "</tr>\n",
       "<tr>\n",
       "  <th>converged:</th>             <td>True</td>       <th>  LL-Null:           </th> <td> -253.58</td> \n",
       "</tr>\n",
       "<tr>\n",
       "  <th>Covariance Type:</th>     <td>nonrobust</td>    <th>  LLR p-value:       </th> <td>5.189e-15</td>\n",
       "</tr>\n",
       "</table>\n",
       "<table class=\"simpletable\">\n",
       "<tr>\n",
       "            <td></td>               <th>coef</th>     <th>std err</th>      <th>z</th>      <th>P>|z|</th>  <th>[0.025</th>    <th>0.975]</th>  \n",
       "</tr>\n",
       "<tr>\n",
       "  <th>const</th>                 <td>   -2.8142</td> <td>    1.496</td> <td>   -1.881</td> <td> 0.060</td> <td>   -5.746</td> <td>    0.118</td>\n",
       "</tr>\n",
       "<tr>\n",
       "  <th>membership_per_capita</th> <td>    7.6475</td> <td>    1.166</td> <td>    6.556</td> <td> 0.000</td> <td>    5.361</td> <td>    9.934</td>\n",
       "</tr>\n",
       "<tr>\n",
       "  <th>Logged_Population</th>     <td>   -0.1388</td> <td>    0.074</td> <td>   -1.887</td> <td> 0.059</td> <td>   -0.283</td> <td>    0.005</td>\n",
       "</tr>\n",
       "</table>"
      ],
      "text/latex": [
       "\\begin{center}\n",
       "\\begin{tabular}{lclc}\n",
       "\\toprule\n",
       "\\textbf{Dep. Variable:}          &     SUCCESS      & \\textbf{  No. Observations:  } &      380    \\\\\n",
       "\\textbf{Model:}                  &      Logit       & \\textbf{  Df Residuals:      } &      377    \\\\\n",
       "\\textbf{Method:}                 &       MLE        & \\textbf{  Df Model:          } &        2    \\\\\n",
       "\\textbf{Date:}                   & Mon, 04 Dec 2023 & \\textbf{  Pseudo R-squ.:     } &   0.1297    \\\\\n",
       "\\textbf{Time:}                   &     19:25:32     & \\textbf{  Log-Likelihood:    } &   -220.69   \\\\\n",
       "\\textbf{converged:}              &       True       & \\textbf{  LL-Null:           } &   -253.58   \\\\\n",
       "\\textbf{Covariance Type:}        &    nonrobust     & \\textbf{  LLR p-value:       } & 5.189e-15   \\\\\n",
       "\\bottomrule\n",
       "\\end{tabular}\n",
       "\\begin{tabular}{lcccccc}\n",
       "                                 & \\textbf{coef} & \\textbf{std err} & \\textbf{z} & \\textbf{P$> |$z$|$} & \\textbf{[0.025} & \\textbf{0.975]}  \\\\\n",
       "\\midrule\n",
       "\\textbf{const}                   &      -2.8142  &        1.496     &    -1.881  &         0.060        &       -5.746    &        0.118     \\\\\n",
       "\\textbf{membership\\_per\\_capita} &       7.6475  &        1.166     &     6.556  &         0.000        &        5.361    &        9.934     \\\\\n",
       "\\textbf{Logged\\_Population}      &      -0.1388  &        0.074     &    -1.887  &         0.059        &       -0.283    &        0.005     \\\\\n",
       "\\bottomrule\n",
       "\\end{tabular}\n",
       "%\\caption{Logit Regression Results}\n",
       "\\end{center}"
      ],
      "text/plain": [
       "<class 'statsmodels.iolib.summary.Summary'>\n",
       "\"\"\"\n",
       "                           Logit Regression Results                           \n",
       "==============================================================================\n",
       "Dep. Variable:                SUCCESS   No. Observations:                  380\n",
       "Model:                          Logit   Df Residuals:                      377\n",
       "Method:                           MLE   Df Model:                            2\n",
       "Date:                Mon, 04 Dec 2023   Pseudo R-squ.:                  0.1297\n",
       "Time:                        19:25:32   Log-Likelihood:                -220.69\n",
       "converged:                       True   LL-Null:                       -253.58\n",
       "Covariance Type:            nonrobust   LLR p-value:                 5.189e-15\n",
       "=========================================================================================\n",
       "                            coef    std err          z      P>|z|      [0.025      0.975]\n",
       "-----------------------------------------------------------------------------------------\n",
       "const                    -2.8142      1.496     -1.881      0.060      -5.746       0.118\n",
       "membership_per_capita     7.6475      1.166      6.556      0.000       5.361       9.934\n",
       "Logged_Population        -0.1388      0.074     -1.887      0.059      -0.283       0.005\n",
       "=========================================================================================\n",
       "\"\"\""
      ]
     },
     "execution_count": 69,
     "metadata": {},
     "output_type": "execute_result"
    }
   ],
   "source": [
    "result.summary()"
   ]
  },
  {
   "cell_type": "markdown",
   "id": "2b0a2b0f-adb4-4195-90f0-23682d4916e6",
   "metadata": {},
   "source": [
    "Let's go to **plotting**"
   ]
  },
  {
   "cell_type": "markdown",
   "id": "32bf0ce3-0b41-4aaa-a125-2f2d57fef764",
   "metadata": {},
   "source": [
    "We will need the probability data in the dataframe in order to depict them with the membership_per_capita. Here we will use the result.predict() to store the probabilities."
   ]
  },
  {
   "cell_type": "code",
   "execution_count": 70,
   "id": "16f2cebf-1fab-4f47-a223-b3ad311b94c1",
   "metadata": {},
   "outputs": [
    {
     "name": "stderr",
     "output_type": "stream",
     "text": [
      "C:\\Users\\falin\\AppData\\Local\\Temp\\ipykernel_18332\\3327884281.py:1: SettingWithCopyWarning: \n",
      "A value is trying to be set on a copy of a slice from a DataFrame.\n",
      "Try using .loc[row_indexer,col_indexer] = value instead\n",
      "\n",
      "See the caveats in the documentation: https://pandas.pydata.org/pandas-docs/stable/user_guide/indexing.html#returning-a-view-versus-a-copy\n",
      "  Success_prob['predicted_prob'] = result.predict(X)\n"
     ]
    }
   ],
   "source": [
    "Success_prob['predicted_prob'] = result.predict(X)"
   ]
  },
  {
   "cell_type": "code",
   "execution_count": 71,
   "id": "1027e850-7692-455a-a6e1-db9c225ea8ef",
   "metadata": {},
   "outputs": [
    {
     "data": {
      "image/png": "[encoded data removed]",
      "text/plain": [
       "<Figure size 640x480 with 1 Axes>"
      ]
     },
     "metadata": {},
     "output_type": "display_data"
    }
   ],
   "source": [
    "plt.scatter(Success_prob['membership_per_capita'], Success_prob['predicted_prob'],color = '#4C71AF')\n",
    "plt.xlabel('Participants Per Capita')\n",
    "plt.ylabel('Probability Of Success')\n",
    "plt.grid(True)\n",
    "plt.gca().set_axisbelow(True)\n",
    "plt.show()"
   ]
  },
  {
   "cell_type": "markdown",
   "id": "03bf4c37-7f37-4b36-b212-e4c762bcd6f1",
   "metadata": {},
   "source": [
    "**Conclusion:**\n",
    "We need to see that for the same participats we can have many probabilities, the reason behind this is because of the 'Logged_Population' that has a negative relationship and so the model cannot really specify the probabilities."
   ]
  },
  {
   "cell_type": "markdown",
   "id": "51e27984-1939-4a6b-be0b-ca67c1288f43",
   "metadata": {},
   "source": [
    "### Same but with only the membership per capital as dependent variable."
   ]
  },
  {
   "cell_type": "markdown",
   "id": "e514850e-07b5-4dfe-b314-c145ba337c13",
   "metadata": {},
   "source": [
    "Here we are following the same steps but this time we will not include the Logged_Population of the campaigns."
   ]
  },
  {
   "cell_type": "code",
   "execution_count": 72,
   "id": "80e4a07f-8196-4f99-853d-cabe7527324c",
   "metadata": {},
   "outputs": [
    {
     "name": "stdout",
     "output_type": "stream",
     "text": [
      "Optimization terminated successfully.\n",
      "         Current function value: 0.585556\n",
      "         Iterations 6\n"
     ]
    }
   ],
   "source": [
    "X = sm.add_constant(Success_prob['membership_per_capita'])\n",
    "\n",
    "y = Success_prob['SUCCESS']\n",
    "\n",
    "model2 = sm.Logit(y, X)\n",
    "result2 = model2.fit()"
   ]
  },
  {
   "cell_type": "markdown",
   "id": "2a4e6ed2-d7f1-4bd7-b7e2-54fa2c0e6e7e",
   "metadata": {},
   "source": [
    "Some comments:\n",
    "* The Pseudo R-squarred is 12.25%, it could be higher.\n",
    "* The LLR is low < 0.05 so the model was effective.\n",
    "* the coef for membership_per_capita is again higher than 0 so we have a positive relationship.\n",
    "* The P-value is 0 that means the membership_per_capita affects the outcome of SUCCESS."
   ]
  },
  {
   "cell_type": "code",
   "execution_count": 73,
   "id": "dffa8495-3bca-4c5f-bb39-4cee3a8ec164",
   "metadata": {},
   "outputs": [
    {
     "data": {
      "text/html": [
       "<table class=\"simpletable\">\n",
       "<caption>Logit Regression Results</caption>\n",
       "<tr>\n",
       "  <th>Dep. Variable:</th>        <td>SUCCESS</td>     <th>  No. Observations:  </th>  <td>   380</td>  \n",
       "</tr>\n",
       "<tr>\n",
       "  <th>Model:</th>                 <td>Logit</td>      <th>  Df Residuals:      </th>  <td>   378</td>  \n",
       "</tr>\n",
       "<tr>\n",
       "  <th>Method:</th>                 <td>MLE</td>       <th>  Df Model:          </th>  <td>     1</td>  \n",
       "</tr>\n",
       "<tr>\n",
       "  <th>Date:</th>            <td>Mon, 04 Dec 2023</td> <th>  Pseudo R-squ.:     </th>  <td>0.1225</td>  \n",
       "</tr>\n",
       "<tr>\n",
       "  <th>Time:</th>                <td>19:25:32</td>     <th>  Log-Likelihood:    </th> <td> -222.51</td> \n",
       "</tr>\n",
       "<tr>\n",
       "  <th>converged:</th>             <td>True</td>       <th>  LL-Null:           </th> <td> -253.58</td> \n",
       "</tr>\n",
       "<tr>\n",
       "  <th>Covariance Type:</th>     <td>nonrobust</td>    <th>  LLR p-value:       </th> <td>3.204e-15</td>\n",
       "</tr>\n",
       "</table>\n",
       "<table class=\"simpletable\">\n",
       "<tr>\n",
       "            <td></td>               <th>coef</th>     <th>std err</th>      <th>z</th>      <th>P>|z|</th>  <th>[0.025</th>    <th>0.975]</th>  \n",
       "</tr>\n",
       "<tr>\n",
       "  <th>const</th>                 <td>   -5.3469</td> <td>    0.709</td> <td>   -7.536</td> <td> 0.000</td> <td>   -6.737</td> <td>   -3.956</td>\n",
       "</tr>\n",
       "<tr>\n",
       "  <th>membership_per_capita</th> <td>    8.0495</td> <td>    1.141</td> <td>    7.052</td> <td> 0.000</td> <td>    5.812</td> <td>   10.287</td>\n",
       "</tr>\n",
       "</table>"
      ],
      "text/latex": [
       "\\begin{center}\n",
       "\\begin{tabular}{lclc}\n",
       "\\toprule\n",
       "\\textbf{Dep. Variable:}          &     SUCCESS      & \\textbf{  No. Observations:  } &      380    \\\\\n",
       "\\textbf{Model:}                  &      Logit       & \\textbf{  Df Residuals:      } &      378    \\\\\n",
       "\\textbf{Method:}                 &       MLE        & \\textbf{  Df Model:          } &        1    \\\\\n",
       "\\textbf{Date:}                   & Mon, 04 Dec 2023 & \\textbf{  Pseudo R-squ.:     } &   0.1225    \\\\\n",
       "\\textbf{Time:}                   &     19:25:32     & \\textbf{  Log-Likelihood:    } &   -222.51   \\\\\n",
       "\\textbf{converged:}              &       True       & \\textbf{  LL-Null:           } &   -253.58   \\\\\n",
       "\\textbf{Covariance Type:}        &    nonrobust     & \\textbf{  LLR p-value:       } & 3.204e-15   \\\\\n",
       "\\bottomrule\n",
       "\\end{tabular}\n",
       "\\begin{tabular}{lcccccc}\n",
       "                                 & \\textbf{coef} & \\textbf{std err} & \\textbf{z} & \\textbf{P$> |$z$|$} & \\textbf{[0.025} & \\textbf{0.975]}  \\\\\n",
       "\\midrule\n",
       "\\textbf{const}                   &      -5.3469  &        0.709     &    -7.536  &         0.000        &       -6.737    &       -3.956     \\\\\n",
       "\\textbf{membership\\_per\\_capita} &       8.0495  &        1.141     &     7.052  &         0.000        &        5.812    &       10.287     \\\\\n",
       "\\bottomrule\n",
       "\\end{tabular}\n",
       "%\\caption{Logit Regression Results}\n",
       "\\end{center}"
      ],
      "text/plain": [
       "<class 'statsmodels.iolib.summary.Summary'>\n",
       "\"\"\"\n",
       "                           Logit Regression Results                           \n",
       "==============================================================================\n",
       "Dep. Variable:                SUCCESS   No. Observations:                  380\n",
       "Model:                          Logit   Df Residuals:                      378\n",
       "Method:                           MLE   Df Model:                            1\n",
       "Date:                Mon, 04 Dec 2023   Pseudo R-squ.:                  0.1225\n",
       "Time:                        19:25:32   Log-Likelihood:                -222.51\n",
       "converged:                       True   LL-Null:                       -253.58\n",
       "Covariance Type:            nonrobust   LLR p-value:                 3.204e-15\n",
       "=========================================================================================\n",
       "                            coef    std err          z      P>|z|      [0.025      0.975]\n",
       "-----------------------------------------------------------------------------------------\n",
       "const                    -5.3469      0.709     -7.536      0.000      -6.737      -3.956\n",
       "membership_per_capita     8.0495      1.141      7.052      0.000       5.812      10.287\n",
       "=========================================================================================\n",
       "\"\"\""
      ]
     },
     "execution_count": 73,
     "metadata": {},
     "output_type": "execute_result"
    }
   ],
   "source": [
    "result2.summary()"
   ]
  },
  {
   "cell_type": "code",
   "execution_count": 74,
   "id": "97e18dcd-888e-433c-868e-3b6634852800",
   "metadata": {},
   "outputs": [
    {
     "name": "stderr",
     "output_type": "stream",
     "text": [
      "C:\\Users\\falin\\AppData\\Local\\Temp\\ipykernel_18332\\2535822790.py:1: SettingWithCopyWarning: \n",
      "A value is trying to be set on a copy of a slice from a DataFrame.\n",
      "Try using .loc[row_indexer,col_indexer] = value instead\n",
      "\n",
      "See the caveats in the documentation: https://pandas.pydata.org/pandas-docs/stable/user_guide/indexing.html#returning-a-view-versus-a-copy\n",
      "  Success_prob['predicted_prob2'] = result2.predict(X)\n"
     ]
    }
   ],
   "source": [
    "Success_prob['predicted_prob2'] = result2.predict(X)"
   ]
  },
  {
   "cell_type": "code",
   "execution_count": 75,
   "id": "e566260a-ea66-473f-bd25-9f0afde425a9",
   "metadata": {},
   "outputs": [
    {
     "data": {
      "image/png": "[encoded data removed]",
      "text/plain": [
       "<Figure size 640x480 with 1 Axes>"
      ]
     },
     "metadata": {},
     "output_type": "display_data"
    }
   ],
   "source": [
    "plt.scatter(Success_prob['membership_per_capita'], Success_prob['predicted_prob2'], color = '#4C71AF')\n",
    "\n",
    "plt.xlabel('Participants Per Capita')\n",
    "plt.ylabel('Probability Of Success')\n",
    "plt.grid(True)\n",
    "plt.gca().set_axisbelow(True)\n",
    "plt.show()"
   ]
  },
  {
   "cell_type": "markdown",
   "id": "b3c20718-b673-4d24-8479-57efbf95a825",
   "metadata": {},
   "source": [
    "**Conclusion:**\n",
    "The graph now that we are using only the membership_per_capita which has a positive relation with success is much better and more understandable. Here for each participation percentage we can see the probability of success. "
   ]
  },
  {
   "cell_type": "markdown",
   "id": "3a437ad7-4079-4f28-a87f-295eba6eda08",
   "metadata": {},
   "source": [
    "## The Level of Participation Tipping Point\n"
   ]
  },
  {
   "cell_type": "markdown",
   "id": "d0e56d14-e2a4-4574-b5f5-feab51f286a5",
   "metadata": {},
   "source": [
    "In this part of our survey we will check the tipping point of participation for managing a certain success rate."
   ]
  },
  {
   "cell_type": "markdown",
   "id": "4e89a08b-ece0-4339-bc50-e6601e84fe0c",
   "metadata": {},
   "source": [
    "In favor of the mind of this 'rule' we are going to name the dataframe we will work on Chenoweth."
   ]
  },
  {
   "cell_type": "code",
   "execution_count": 76,
   "id": "cda87c82-7629-47a8-9384-d06831763228",
   "metadata": {},
   "outputs": [],
   "source": [
    "Chenoweth = pd.DataFrame()"
   ]
  },
  {
   "cell_type": "markdown",
   "id": "4b13e3a3-0e01-43a6-a799-f74f25279a18",
   "metadata": {},
   "source": [
    "As we working on participation we need to verify that the dataframe is clean from NaN values."
   ]
  },
  {
   "cell_type": "code",
   "execution_count": 77,
   "id": "c3b4a88b-8a2e-4ff5-b6ce-348a9d2bc25b",
   "metadata": {},
   "outputs": [],
   "source": [
    "columns_to_check = ['PARTICIPATION']\n",
    "df = df.dropna(subset=columns_to_check, how='any')"
   ]
  },
  {
   "cell_type": "code",
   "execution_count": 78,
   "id": "2e245372-daa9-4ae1-be54-756c92a1aed7",
   "metadata": {},
   "outputs": [],
   "source": [
    "Chenoweth[['PERCENTAGEPOPULARPARTICIPATION','SUCCESS']] = df[['PERCENTAGEPOPULARPARTICIPATION','SUCCESS']]"
   ]
  },
  {
   "cell_type": "code",
   "execution_count": 79,
   "id": "14463780-9380-4ad0-91a1-3ec6f9a8368f",
   "metadata": {},
   "outputs": [],
   "source": [
    "columns_to_check = ['PERCENTAGEPOPULARPARTICIPATION']\n",
    "Chenoweth = Chenoweth.dropna(subset=columns_to_check, how='any')"
   ]
  },
  {
   "cell_type": "markdown",
   "id": "c3e8b175-c94e-4e81-9920-797399693d46",
   "metadata": {},
   "source": [
    "For this project we will need the percentage of population that participated in the peak point and also the binary success."
   ]
  },
  {
   "cell_type": "code",
   "execution_count": 80,
   "id": "ac46ed62-59af-42a2-993e-5c3ce98b6866",
   "metadata": {},
   "outputs": [
    {
     "data": {
      "text/html": [
       "<div>\n",
       "<style scoped>\n",
       "    .dataframe tbody tr th:only-of-type {\n",
       "        vertical-align: middle;\n",
       "    }\n",
       "\n",
       "    .dataframe tbody tr th {\n",
       "        vertical-align: top;\n",
       "    }\n",
       "\n",
       "    .dataframe thead th {\n",
       "        text-align: right;\n",
       "    }\n",
       "</style>\n",
       "<table border=\"1\" class=\"dataframe\">\n",
       "  <thead>\n",
       "    <tr style=\"text-align: right;\">\n",
       "      <th></th>\n",
       "      <th>PERCENTAGEPOPULARPARTICIPATION</th>\n",
       "      <th>SUCCESS</th>\n",
       "    </tr>\n",
       "  </thead>\n",
       "  <tbody>\n",
       "    <tr>\n",
       "      <th>0</th>\n",
       "      <td>0.000641</td>\n",
       "      <td>1.0</td>\n",
       "    </tr>\n",
       "    <tr>\n",
       "      <th>1</th>\n",
       "      <td>0.000685</td>\n",
       "      <td>1.0</td>\n",
       "    </tr>\n",
       "    <tr>\n",
       "      <th>2</th>\n",
       "      <td>0.000893</td>\n",
       "      <td>1.0</td>\n",
       "    </tr>\n",
       "    <tr>\n",
       "      <th>3</th>\n",
       "      <td>0.001625</td>\n",
       "      <td>0.0</td>\n",
       "    </tr>\n",
       "    <tr>\n",
       "      <th>4</th>\n",
       "      <td>0.091068</td>\n",
       "      <td>1.0</td>\n",
       "    </tr>\n",
       "    <tr>\n",
       "      <th>...</th>\n",
       "      <td>...</td>\n",
       "      <td>...</td>\n",
       "    </tr>\n",
       "    <tr>\n",
       "      <th>384</th>\n",
       "      <td>0.285063</td>\n",
       "      <td>1.0</td>\n",
       "    </tr>\n",
       "    <tr>\n",
       "      <th>385</th>\n",
       "      <td>0.002791</td>\n",
       "      <td>1.0</td>\n",
       "    </tr>\n",
       "    <tr>\n",
       "      <th>386</th>\n",
       "      <td>0.000277</td>\n",
       "      <td>1.0</td>\n",
       "    </tr>\n",
       "    <tr>\n",
       "      <th>387</th>\n",
       "      <td>0.000145</td>\n",
       "      <td>0.0</td>\n",
       "    </tr>\n",
       "    <tr>\n",
       "      <th>388</th>\n",
       "      <td>0.000542</td>\n",
       "      <td>0.0</td>\n",
       "    </tr>\n",
       "  </tbody>\n",
       "</table>\n",
       "<p>380 rows × 2 columns</p>\n",
       "</div>"
      ],
      "text/plain": [
       "     PERCENTAGEPOPULARPARTICIPATION  SUCCESS\n",
       "0                          0.000641      1.0\n",
       "1                          0.000685      1.0\n",
       "2                          0.000893      1.0\n",
       "3                          0.001625      0.0\n",
       "4                          0.091068      1.0\n",
       "..                              ...      ...\n",
       "384                        0.285063      1.0\n",
       "385                        0.002791      1.0\n",
       "386                        0.000277      1.0\n",
       "387                        0.000145      0.0\n",
       "388                        0.000542      0.0\n",
       "\n",
       "[380 rows x 2 columns]"
      ]
     },
     "execution_count": 80,
     "metadata": {},
     "output_type": "execute_result"
    }
   ],
   "source": [
    "Chenoweth"
   ]
  },
  {
   "cell_type": "markdown",
   "id": "e0712992-6d14-45a6-bf0b-bb57d19782b8",
   "metadata": {},
   "source": [
    "This is the method that categorizes the values based on their percentage of participation, it is a simple sum of 'if' statements."
   ]
  },
  {
   "cell_type": "code",
   "execution_count": 81,
   "id": "69c000a6-5daa-49f4-9d87-be34b0402f1f",
   "metadata": {},
   "outputs": [],
   "source": [
    "def label_observations(participation):\n",
    "    if participation > 0.035:\n",
    "        return 'greater than 3.5%', 1\n",
    "    elif participation > 0.01 : \n",
    "        return '1.0%-3.5%', 2\n",
    "    elif participation > 0.0025 : \n",
    "        return '0.25% - 1.0%', 3\n",
    "    elif participation  > 0.0006:\n",
    "        return '0.06% - 0.25%', 4\n",
    "    elif participation > 0.00015 : \n",
    "        return '0.015% - 0.06%', 5\n",
    "    elif participation > 0.000035 : \n",
    "        return '0.0035% - 0.015%', 6\n",
    "    else: \n",
    "        return 'less than 0.0035%', 7"
   ]
  },
  {
   "cell_type": "markdown",
   "id": "276231ad-ef59-4438-b85a-4881d07cc513",
   "metadata": {},
   "source": [
    "We apply the method creating two new columns, one for the category and one unique ID for each category that we will need in the next steps."
   ]
  },
  {
   "cell_type": "code",
   "execution_count": 82,
   "id": "3c82ba81-3cd4-4bb1-a5d4-379e3e86396c",
   "metadata": {},
   "outputs": [],
   "source": [
    "Chenoweth[['Peak_Popular_Participation_%','ID']] = Chenoweth['PERCENTAGEPOPULARPARTICIPATION'].apply(label_observations).apply(pd.Series)"
   ]
  },
  {
   "cell_type": "code",
   "execution_count": 83,
   "id": "3c2b2d25-a8e4-4d25-b1a8-dda760572d16",
   "metadata": {},
   "outputs": [
    {
     "data": {
      "text/html": [
       "<div>\n",
       "<style scoped>\n",
       "    .dataframe tbody tr th:only-of-type {\n",
       "        vertical-align: middle;\n",
       "    }\n",
       "\n",
       "    .dataframe tbody tr th {\n",
       "        vertical-align: top;\n",
       "    }\n",
       "\n",
       "    .dataframe thead th {\n",
       "        text-align: right;\n",
       "    }\n",
       "</style>\n",
       "<table border=\"1\" class=\"dataframe\">\n",
       "  <thead>\n",
       "    <tr style=\"text-align: right;\">\n",
       "      <th></th>\n",
       "      <th>PERCENTAGEPOPULARPARTICIPATION</th>\n",
       "      <th>SUCCESS</th>\n",
       "      <th>Peak_Popular_Participation_%</th>\n",
       "      <th>ID</th>\n",
       "    </tr>\n",
       "  </thead>\n",
       "  <tbody>\n",
       "    <tr>\n",
       "      <th>0</th>\n",
       "      <td>0.000641</td>\n",
       "      <td>1.0</td>\n",
       "      <td>0.06% - 0.25%</td>\n",
       "      <td>4</td>\n",
       "    </tr>\n",
       "    <tr>\n",
       "      <th>1</th>\n",
       "      <td>0.000685</td>\n",
       "      <td>1.0</td>\n",
       "      <td>0.06% - 0.25%</td>\n",
       "      <td>4</td>\n",
       "    </tr>\n",
       "    <tr>\n",
       "      <th>2</th>\n",
       "      <td>0.000893</td>\n",
       "      <td>1.0</td>\n",
       "      <td>0.06% - 0.25%</td>\n",
       "      <td>4</td>\n",
       "    </tr>\n",
       "    <tr>\n",
       "      <th>3</th>\n",
       "      <td>0.001625</td>\n",
       "      <td>0.0</td>\n",
       "      <td>0.06% - 0.25%</td>\n",
       "      <td>4</td>\n",
       "    </tr>\n",
       "    <tr>\n",
       "      <th>4</th>\n",
       "      <td>0.091068</td>\n",
       "      <td>1.0</td>\n",
       "      <td>greater than 3.5%</td>\n",
       "      <td>1</td>\n",
       "    </tr>\n",
       "    <tr>\n",
       "      <th>...</th>\n",
       "      <td>...</td>\n",
       "      <td>...</td>\n",
       "      <td>...</td>\n",
       "      <td>...</td>\n",
       "    </tr>\n",
       "    <tr>\n",
       "      <th>384</th>\n",
       "      <td>0.285063</td>\n",
       "      <td>1.0</td>\n",
       "      <td>greater than 3.5%</td>\n",
       "      <td>1</td>\n",
       "    </tr>\n",
       "    <tr>\n",
       "      <th>385</th>\n",
       "      <td>0.002791</td>\n",
       "      <td>1.0</td>\n",
       "      <td>0.25% - 1.0%</td>\n",
       "      <td>3</td>\n",
       "    </tr>\n",
       "    <tr>\n",
       "      <th>386</th>\n",
       "      <td>0.000277</td>\n",
       "      <td>1.0</td>\n",
       "      <td>0.015% - 0.06%</td>\n",
       "      <td>5</td>\n",
       "    </tr>\n",
       "    <tr>\n",
       "      <th>387</th>\n",
       "      <td>0.000145</td>\n",
       "      <td>0.0</td>\n",
       "      <td>0.0035% - 0.015%</td>\n",
       "      <td>6</td>\n",
       "    </tr>\n",
       "    <tr>\n",
       "      <th>388</th>\n",
       "      <td>0.000542</td>\n",
       "      <td>0.0</td>\n",
       "      <td>0.015% - 0.06%</td>\n",
       "      <td>5</td>\n",
       "    </tr>\n",
       "  </tbody>\n",
       "</table>\n",
       "<p>380 rows × 4 columns</p>\n",
       "</div>"
      ],
      "text/plain": [
       "     PERCENTAGEPOPULARPARTICIPATION  SUCCESS Peak_Popular_Participation_%  ID\n",
       "0                          0.000641      1.0                0.06% - 0.25%   4\n",
       "1                          0.000685      1.0                0.06% - 0.25%   4\n",
       "2                          0.000893      1.0                0.06% - 0.25%   4\n",
       "3                          0.001625      0.0                0.06% - 0.25%   4\n",
       "4                          0.091068      1.0            greater than 3.5%   1\n",
       "..                              ...      ...                          ...  ..\n",
       "384                        0.285063      1.0            greater than 3.5%   1\n",
       "385                        0.002791      1.0                 0.25% - 1.0%   3\n",
       "386                        0.000277      1.0               0.015% - 0.06%   5\n",
       "387                        0.000145      0.0             0.0035% - 0.015%   6\n",
       "388                        0.000542      0.0               0.015% - 0.06%   5\n",
       "\n",
       "[380 rows x 4 columns]"
      ]
     },
     "execution_count": 83,
     "metadata": {},
     "output_type": "execute_result"
    }
   ],
   "source": [
    "Chenoweth"
   ]
  },
  {
   "cell_type": "markdown",
   "id": "5216a3fe-f98d-4598-aa0d-c2672ec799d0",
   "metadata": {},
   "source": [
    "Let's validade that the categories were created fine."
   ]
  },
  {
   "cell_type": "code",
   "execution_count": 84,
   "id": "a3131e00-80c5-421b-84a8-62b04ab8539d",
   "metadata": {},
   "outputs": [
    {
     "data": {
      "text/plain": [
       "array(['0.06% - 0.25%', 'greater than 3.5%', '0.25% - 1.0%',\n",
       "       '0.015% - 0.06%', '0.0035% - 0.015%', '1.0%-3.5%',\n",
       "       'less than 0.0035%'], dtype=object)"
      ]
     },
     "execution_count": 84,
     "metadata": {},
     "output_type": "execute_result"
    }
   ],
   "source": [
    "Chenoweth['Peak_Popular_Participation_%'].unique()"
   ]
  },
  {
   "cell_type": "markdown",
   "id": "41e134d4-f90f-489e-9702-710efb0b781a",
   "metadata": {},
   "source": [
    "We count the number of campaigns in each category using the transform method."
   ]
  },
  {
   "cell_type": "code",
   "execution_count": 85,
   "id": "99d0c1ad-b980-42f1-94e0-d241ab8794d5",
   "metadata": {},
   "outputs": [],
   "source": [
    "Chenoweth['Observations'] = Chenoweth.groupby('Peak_Popular_Participation_%')['Peak_Popular_Participation_%'].transform('count')"
   ]
  },
  {
   "cell_type": "code",
   "execution_count": 86,
   "id": "df4e2fc8-f677-494d-a402-2bd6c465d1f0",
   "metadata": {},
   "outputs": [
    {
     "data": {
      "text/plain": [
       "PERCENTAGEPOPULARPARTICIPATION    float64\n",
       "SUCCESS                           float64\n",
       "Peak_Popular_Participation_%       object\n",
       "ID                                  int64\n",
       "Observations                        int64\n",
       "dtype: object"
      ]
     },
     "execution_count": 86,
     "metadata": {},
     "output_type": "execute_result"
    }
   ],
   "source": [
    "Chenoweth.dtypes"
   ]
  },
  {
   "cell_type": "code",
   "execution_count": 87,
   "id": "b0f0a61f-daa0-4d8b-8b6d-ae1dbee36524",
   "metadata": {},
   "outputs": [
    {
     "data": {
      "text/html": [
       "<div>\n",
       "<style scoped>\n",
       "    .dataframe tbody tr th:only-of-type {\n",
       "        vertical-align: middle;\n",
       "    }\n",
       "\n",
       "    .dataframe tbody tr th {\n",
       "        vertical-align: top;\n",
       "    }\n",
       "\n",
       "    .dataframe thead th {\n",
       "        text-align: right;\n",
       "    }\n",
       "</style>\n",
       "<table border=\"1\" class=\"dataframe\">\n",
       "  <thead>\n",
       "    <tr style=\"text-align: right;\">\n",
       "      <th></th>\n",
       "      <th>PERCENTAGEPOPULARPARTICIPATION</th>\n",
       "      <th>SUCCESS</th>\n",
       "      <th>Peak_Popular_Participation_%</th>\n",
       "      <th>ID</th>\n",
       "      <th>Observations</th>\n",
       "    </tr>\n",
       "  </thead>\n",
       "  <tbody>\n",
       "    <tr>\n",
       "      <th>0</th>\n",
       "      <td>0.000641</td>\n",
       "      <td>1.0</td>\n",
       "      <td>0.06% - 0.25%</td>\n",
       "      <td>4</td>\n",
       "      <td>95</td>\n",
       "    </tr>\n",
       "    <tr>\n",
       "      <th>1</th>\n",
       "      <td>0.000685</td>\n",
       "      <td>1.0</td>\n",
       "      <td>0.06% - 0.25%</td>\n",
       "      <td>4</td>\n",
       "      <td>95</td>\n",
       "    </tr>\n",
       "    <tr>\n",
       "      <th>2</th>\n",
       "      <td>0.000893</td>\n",
       "      <td>1.0</td>\n",
       "      <td>0.06% - 0.25%</td>\n",
       "      <td>4</td>\n",
       "      <td>95</td>\n",
       "    </tr>\n",
       "    <tr>\n",
       "      <th>3</th>\n",
       "      <td>0.001625</td>\n",
       "      <td>0.0</td>\n",
       "      <td>0.06% - 0.25%</td>\n",
       "      <td>4</td>\n",
       "      <td>95</td>\n",
       "    </tr>\n",
       "    <tr>\n",
       "      <th>4</th>\n",
       "      <td>0.091068</td>\n",
       "      <td>1.0</td>\n",
       "      <td>greater than 3.5%</td>\n",
       "      <td>1</td>\n",
       "      <td>18</td>\n",
       "    </tr>\n",
       "    <tr>\n",
       "      <th>...</th>\n",
       "      <td>...</td>\n",
       "      <td>...</td>\n",
       "      <td>...</td>\n",
       "      <td>...</td>\n",
       "      <td>...</td>\n",
       "    </tr>\n",
       "    <tr>\n",
       "      <th>384</th>\n",
       "      <td>0.285063</td>\n",
       "      <td>1.0</td>\n",
       "      <td>greater than 3.5%</td>\n",
       "      <td>1</td>\n",
       "      <td>18</td>\n",
       "    </tr>\n",
       "    <tr>\n",
       "      <th>385</th>\n",
       "      <td>0.002791</td>\n",
       "      <td>1.0</td>\n",
       "      <td>0.25% - 1.0%</td>\n",
       "      <td>3</td>\n",
       "      <td>92</td>\n",
       "    </tr>\n",
       "    <tr>\n",
       "      <th>386</th>\n",
       "      <td>0.000277</td>\n",
       "      <td>1.0</td>\n",
       "      <td>0.015% - 0.06%</td>\n",
       "      <td>5</td>\n",
       "      <td>66</td>\n",
       "    </tr>\n",
       "    <tr>\n",
       "      <th>387</th>\n",
       "      <td>0.000145</td>\n",
       "      <td>0.0</td>\n",
       "      <td>0.0035% - 0.015%</td>\n",
       "      <td>6</td>\n",
       "      <td>44</td>\n",
       "    </tr>\n",
       "    <tr>\n",
       "      <th>388</th>\n",
       "      <td>0.000542</td>\n",
       "      <td>0.0</td>\n",
       "      <td>0.015% - 0.06%</td>\n",
       "      <td>5</td>\n",
       "      <td>66</td>\n",
       "    </tr>\n",
       "  </tbody>\n",
       "</table>\n",
       "<p>380 rows × 5 columns</p>\n",
       "</div>"
      ],
      "text/plain": [
       "     PERCENTAGEPOPULARPARTICIPATION  SUCCESS Peak_Popular_Participation_%  ID  \\\n",
       "0                          0.000641      1.0                0.06% - 0.25%   4   \n",
       "1                          0.000685      1.0                0.06% - 0.25%   4   \n",
       "2                          0.000893      1.0                0.06% - 0.25%   4   \n",
       "3                          0.001625      0.0                0.06% - 0.25%   4   \n",
       "4                          0.091068      1.0            greater than 3.5%   1   \n",
       "..                              ...      ...                          ...  ..   \n",
       "384                        0.285063      1.0            greater than 3.5%   1   \n",
       "385                        0.002791      1.0                 0.25% - 1.0%   3   \n",
       "386                        0.000277      1.0               0.015% - 0.06%   5   \n",
       "387                        0.000145      0.0             0.0035% - 0.015%   6   \n",
       "388                        0.000542      0.0               0.015% - 0.06%   5   \n",
       "\n",
       "     Observations  \n",
       "0              95  \n",
       "1              95  \n",
       "2              95  \n",
       "3              95  \n",
       "4              18  \n",
       "..            ...  \n",
       "384            18  \n",
       "385            92  \n",
       "386            66  \n",
       "387            44  \n",
       "388            66  \n",
       "\n",
       "[380 rows x 5 columns]"
      ]
     },
     "execution_count": 87,
     "metadata": {},
     "output_type": "execute_result"
    }
   ],
   "source": [
    "Chenoweth"
   ]
  },
  {
   "cell_type": "markdown",
   "id": "a016d6ee-88b8-4a05-8fc7-04692b8e3f97",
   "metadata": {},
   "source": [
    "Lastly for the success rate we fine the mean price for each unique ID. Here is were we needed the ID column, an integer value."
   ]
  },
  {
   "cell_type": "code",
   "execution_count": 88,
   "id": "6ec7f2bd-e82d-47d1-a3cd-2dbb2a66b03e",
   "metadata": {},
   "outputs": [],
   "source": [
    "Chenoweth['Success_Rate'] = Chenoweth.groupby('ID')['SUCCESS'].transform('mean')\n"
   ]
  },
  {
   "cell_type": "code",
   "execution_count": 89,
   "id": "a05bf758-f419-456c-98dc-28f8a6149d37",
   "metadata": {},
   "outputs": [],
   "source": [
    "Chenoweth = Chenoweth.sort_values(by='ID')"
   ]
  },
  {
   "cell_type": "code",
   "execution_count": 90,
   "id": "729ce6c2-18b3-4ea1-b911-ba48e2b234e8",
   "metadata": {},
   "outputs": [
    {
     "data": {
      "text/html": [
       "<div>\n",
       "<style scoped>\n",
       "    .dataframe tbody tr th:only-of-type {\n",
       "        vertical-align: middle;\n",
       "    }\n",
       "\n",
       "    .dataframe tbody tr th {\n",
       "        vertical-align: top;\n",
       "    }\n",
       "\n",
       "    .dataframe thead th {\n",
       "        text-align: right;\n",
       "    }\n",
       "</style>\n",
       "<table border=\"1\" class=\"dataframe\">\n",
       "  <thead>\n",
       "    <tr style=\"text-align: right;\">\n",
       "      <th></th>\n",
       "      <th>PERCENTAGEPOPULARPARTICIPATION</th>\n",
       "      <th>SUCCESS</th>\n",
       "      <th>Peak_Popular_Participation_%</th>\n",
       "      <th>ID</th>\n",
       "      <th>Observations</th>\n",
       "      <th>Success_Rate</th>\n",
       "    </tr>\n",
       "  </thead>\n",
       "  <tbody>\n",
       "    <tr>\n",
       "      <th>295</th>\n",
       "      <td>0.450129</td>\n",
       "      <td>1.0</td>\n",
       "      <td>greater than 3.5%</td>\n",
       "      <td>1</td>\n",
       "      <td>18</td>\n",
       "      <td>0.888889</td>\n",
       "    </tr>\n",
       "    <tr>\n",
       "      <th>34</th>\n",
       "      <td>0.044641</td>\n",
       "      <td>0.0</td>\n",
       "      <td>greater than 3.5%</td>\n",
       "      <td>1</td>\n",
       "      <td>18</td>\n",
       "      <td>0.888889</td>\n",
       "    </tr>\n",
       "    <tr>\n",
       "      <th>14</th>\n",
       "      <td>0.302013</td>\n",
       "      <td>1.0</td>\n",
       "      <td>greater than 3.5%</td>\n",
       "      <td>1</td>\n",
       "      <td>18</td>\n",
       "      <td>0.888889</td>\n",
       "    </tr>\n",
       "    <tr>\n",
       "      <th>115</th>\n",
       "      <td>0.046501</td>\n",
       "      <td>1.0</td>\n",
       "      <td>greater than 3.5%</td>\n",
       "      <td>1</td>\n",
       "      <td>18</td>\n",
       "      <td>0.888889</td>\n",
       "    </tr>\n",
       "    <tr>\n",
       "      <th>187</th>\n",
       "      <td>0.094319</td>\n",
       "      <td>1.0</td>\n",
       "      <td>greater than 3.5%</td>\n",
       "      <td>1</td>\n",
       "      <td>18</td>\n",
       "      <td>0.888889</td>\n",
       "    </tr>\n",
       "    <tr>\n",
       "      <th>...</th>\n",
       "      <td>...</td>\n",
       "      <td>...</td>\n",
       "      <td>...</td>\n",
       "      <td>...</td>\n",
       "      <td>...</td>\n",
       "      <td>...</td>\n",
       "    </tr>\n",
       "    <tr>\n",
       "      <th>242</th>\n",
       "      <td>0.000017</td>\n",
       "      <td>0.0</td>\n",
       "      <td>less than 0.0035%</td>\n",
       "      <td>7</td>\n",
       "      <td>24</td>\n",
       "      <td>0.041667</td>\n",
       "    </tr>\n",
       "    <tr>\n",
       "      <th>238</th>\n",
       "      <td>0.000013</td>\n",
       "      <td>0.0</td>\n",
       "      <td>less than 0.0035%</td>\n",
       "      <td>7</td>\n",
       "      <td>24</td>\n",
       "      <td>0.041667</td>\n",
       "    </tr>\n",
       "    <tr>\n",
       "      <th>94</th>\n",
       "      <td>0.000015</td>\n",
       "      <td>0.0</td>\n",
       "      <td>less than 0.0035%</td>\n",
       "      <td>7</td>\n",
       "      <td>24</td>\n",
       "      <td>0.041667</td>\n",
       "    </tr>\n",
       "    <tr>\n",
       "      <th>335</th>\n",
       "      <td>0.000009</td>\n",
       "      <td>0.0</td>\n",
       "      <td>less than 0.0035%</td>\n",
       "      <td>7</td>\n",
       "      <td>24</td>\n",
       "      <td>0.041667</td>\n",
       "    </tr>\n",
       "    <tr>\n",
       "      <th>251</th>\n",
       "      <td>0.000022</td>\n",
       "      <td>0.0</td>\n",
       "      <td>less than 0.0035%</td>\n",
       "      <td>7</td>\n",
       "      <td>24</td>\n",
       "      <td>0.041667</td>\n",
       "    </tr>\n",
       "  </tbody>\n",
       "</table>\n",
       "<p>380 rows × 6 columns</p>\n",
       "</div>"
      ],
      "text/plain": [
       "     PERCENTAGEPOPULARPARTICIPATION  SUCCESS Peak_Popular_Participation_%  ID  \\\n",
       "295                        0.450129      1.0            greater than 3.5%   1   \n",
       "34                         0.044641      0.0            greater than 3.5%   1   \n",
       "14                         0.302013      1.0            greater than 3.5%   1   \n",
       "115                        0.046501      1.0            greater than 3.5%   1   \n",
       "187                        0.094319      1.0            greater than 3.5%   1   \n",
       "..                              ...      ...                          ...  ..   \n",
       "242                        0.000017      0.0            less than 0.0035%   7   \n",
       "238                        0.000013      0.0            less than 0.0035%   7   \n",
       "94                         0.000015      0.0            less than 0.0035%   7   \n",
       "335                        0.000009      0.0            less than 0.0035%   7   \n",
       "251                        0.000022      0.0            less than 0.0035%   7   \n",
       "\n",
       "     Observations  Success_Rate  \n",
       "295            18      0.888889  \n",
       "34             18      0.888889  \n",
       "14             18      0.888889  \n",
       "115            18      0.888889  \n",
       "187            18      0.888889  \n",
       "..            ...           ...  \n",
       "242            24      0.041667  \n",
       "238            24      0.041667  \n",
       "94             24      0.041667  \n",
       "335            24      0.041667  \n",
       "251            24      0.041667  \n",
       "\n",
       "[380 rows x 6 columns]"
      ]
     },
     "execution_count": 90,
     "metadata": {},
     "output_type": "execute_result"
    }
   ],
   "source": [
    "Chenoweth"
   ]
  },
  {
   "cell_type": "markdown",
   "id": "17ec2167-0b7c-4bee-965d-9722e5e93215",
   "metadata": {},
   "source": [
    "We drop the columns that we used for the calculations and are now useless."
   ]
  },
  {
   "cell_type": "code",
   "execution_count": 91,
   "id": "6951a806-6f42-46aa-a85d-aa7214de9374",
   "metadata": {},
   "outputs": [],
   "source": [
    "columns_to_drop = ['PERCENTAGEPOPULARPARTICIPATION', 'SUCCESS', 'ID']\n",
    "Chenoweth = Chenoweth.drop(columns=columns_to_drop)"
   ]
  },
  {
   "cell_type": "markdown",
   "id": "4abdc700-a27a-4e73-8a87-6fad42c75b2a",
   "metadata": {},
   "source": [
    "We drop the duplicates values and reset the index to 0-6"
   ]
  },
  {
   "cell_type": "code",
   "execution_count": 92,
   "id": "991646de-84a5-4038-b61b-3114d7d8a7c8",
   "metadata": {},
   "outputs": [],
   "source": [
    "Chenoweth = Chenoweth.drop_duplicates().reset_index(drop=True)"
   ]
  },
  {
   "cell_type": "code",
   "execution_count": 93,
   "id": "d2764e3e-37f3-4d8d-b19d-80132bd2f9b7",
   "metadata": {},
   "outputs": [
    {
     "data": {
      "text/html": [
       "<div>\n",
       "<style scoped>\n",
       "    .dataframe tbody tr th:only-of-type {\n",
       "        vertical-align: middle;\n",
       "    }\n",
       "\n",
       "    .dataframe tbody tr th {\n",
       "        vertical-align: top;\n",
       "    }\n",
       "\n",
       "    .dataframe thead th {\n",
       "        text-align: right;\n",
       "    }\n",
       "</style>\n",
       "<table border=\"1\" class=\"dataframe\">\n",
       "  <thead>\n",
       "    <tr style=\"text-align: right;\">\n",
       "      <th></th>\n",
       "      <th>Peak_Popular_Participation_%</th>\n",
       "      <th>Observations</th>\n",
       "      <th>Success_Rate</th>\n",
       "    </tr>\n",
       "  </thead>\n",
       "  <tbody>\n",
       "    <tr>\n",
       "      <th>0</th>\n",
       "      <td>greater than 3.5%</td>\n",
       "      <td>18</td>\n",
       "      <td>0.888889</td>\n",
       "    </tr>\n",
       "    <tr>\n",
       "      <th>1</th>\n",
       "      <td>1.0%-3.5%</td>\n",
       "      <td>41</td>\n",
       "      <td>0.609756</td>\n",
       "    </tr>\n",
       "    <tr>\n",
       "      <th>2</th>\n",
       "      <td>0.25% - 1.0%</td>\n",
       "      <td>92</td>\n",
       "      <td>0.456522</td>\n",
       "    </tr>\n",
       "    <tr>\n",
       "      <th>3</th>\n",
       "      <td>0.06% - 0.25%</td>\n",
       "      <td>95</td>\n",
       "      <td>0.452632</td>\n",
       "    </tr>\n",
       "    <tr>\n",
       "      <th>4</th>\n",
       "      <td>0.015% - 0.06%</td>\n",
       "      <td>66</td>\n",
       "      <td>0.242424</td>\n",
       "    </tr>\n",
       "    <tr>\n",
       "      <th>5</th>\n",
       "      <td>0.0035% - 0.015%</td>\n",
       "      <td>44</td>\n",
       "      <td>0.090909</td>\n",
       "    </tr>\n",
       "    <tr>\n",
       "      <th>6</th>\n",
       "      <td>less than 0.0035%</td>\n",
       "      <td>24</td>\n",
       "      <td>0.041667</td>\n",
       "    </tr>\n",
       "  </tbody>\n",
       "</table>\n",
       "</div>"
      ],
      "text/plain": [
       "  Peak_Popular_Participation_%  Observations  Success_Rate\n",
       "0            greater than 3.5%            18      0.888889\n",
       "1                    1.0%-3.5%            41      0.609756\n",
       "2                 0.25% - 1.0%            92      0.456522\n",
       "3                0.06% - 0.25%            95      0.452632\n",
       "4               0.015% - 0.06%            66      0.242424\n",
       "5             0.0035% - 0.015%            44      0.090909\n",
       "6            less than 0.0035%            24      0.041667"
      ]
     },
     "execution_count": 93,
     "metadata": {},
     "output_type": "execute_result"
    }
   ],
   "source": [
    "Chenoweth"
   ]
  },
  {
   "cell_type": "markdown",
   "id": "3cbb7863-f360-49fe-a5e5-790e9775f613",
   "metadata": {},
   "source": [
    "We make the values of the column Success Rate into percentages, rounding them to two decimals and lastly placing the '%'. "
   ]
  },
  {
   "cell_type": "code",
   "execution_count": 94,
   "id": "35ad5142-1e35-4514-9019-92cb66a1c6bc",
   "metadata": {},
   "outputs": [],
   "source": [
    "Chenoweth['Success_Rate'] = Chenoweth['Success_Rate'].apply(lambda x: f\"{round(x * 100, 2)}%\")"
   ]
  },
  {
   "cell_type": "markdown",
   "id": "ddf407c5-b378-4dad-8302-ceca215f639b",
   "metadata": {},
   "source": [
    "This is our final table, We can see the reason behind the rule of Chenoweth, we can see that for participation larger than 3.5% 88.89% of the occassion we have success.  "
   ]
  },
  {
   "cell_type": "markdown",
   "id": "7fb18e9f-7376-49e1-abb3-7f37400802f5",
   "metadata": {},
   "source": [
    "Let's check the **11.11%** (100% - 88.89% = 11.11%) of the observations which ignore this tendency, 'rule'."
   ]
  },
  {
   "cell_type": "code",
   "execution_count": 95,
   "id": "dc29df29-cc5b-408a-b63b-ec1c9117de2e",
   "metadata": {},
   "outputs": [
    {
     "data": {
      "text/html": [
       "<div>\n",
       "<style scoped>\n",
       "    .dataframe tbody tr th:only-of-type {\n",
       "        vertical-align: middle;\n",
       "    }\n",
       "\n",
       "    .dataframe tbody tr th {\n",
       "        vertical-align: top;\n",
       "    }\n",
       "\n",
       "    .dataframe thead th {\n",
       "        text-align: right;\n",
       "    }\n",
       "</style>\n",
       "<table border=\"1\" class=\"dataframe\">\n",
       "  <thead>\n",
       "    <tr style=\"text-align: right;\">\n",
       "      <th></th>\n",
       "      <th>NAVCOID</th>\n",
       "      <th>CAMPAIGN</th>\n",
       "      <th>LOCATION</th>\n",
       "      <th>BYEAR</th>\n",
       "      <th>EYEAR</th>\n",
       "      <th>TARGET</th>\n",
       "      <th>SUCCESS</th>\n",
       "      <th>LIMITED</th>\n",
       "      <th>FAILURE</th>\n",
       "      <th>ONGOING</th>\n",
       "      <th>NONVIOL</th>\n",
       "      <th>VIOL</th>\n",
       "      <th>REGCHANGE</th>\n",
       "      <th>FSELFDET</th>\n",
       "      <th>SECESSION</th>\n",
       "      <th>OTHER</th>\n",
       "      <th>DURATION</th>\n",
       "      <th>PARTICIPATION</th>\n",
       "      <th>PERCENTAGEPOPULARPARTICIPATION</th>\n",
       "      <th>REGVIOL</th>\n",
       "      <th>DEFECT</th>\n",
       "      <th>VIOLENTFLANK</th>\n",
       "      <th>VIOLSIM</th>\n",
       "      <th>REGAID</th>\n",
       "      <th>STATESUP</th>\n",
       "      <th>Decade</th>\n",
       "      <th>CAMPAIGN_NAME</th>\n",
       "      <th>Participation_Percentage</th>\n",
       "      <th>Population</th>\n",
       "      <th>membership_per_capita</th>\n",
       "    </tr>\n",
       "  </thead>\n",
       "  <tbody>\n",
       "    <tr>\n",
       "      <th>19</th>\n",
       "      <td>255.0</td>\n",
       "      <td>Anti-King Hamad Campaign</td>\n",
       "      <td>Bahrain</td>\n",
       "      <td>2011</td>\n",
       "      <td>2014.0</td>\n",
       "      <td>Monarchy of King Hamad</td>\n",
       "      <td>0.0</td>\n",
       "      <td>0.0</td>\n",
       "      <td>1.0</td>\n",
       "      <td>1.0</td>\n",
       "      <td>1.0</td>\n",
       "      <td>0.0</td>\n",
       "      <td>1.0</td>\n",
       "      <td>0.0</td>\n",
       "      <td>0.0</td>\n",
       "      <td>0.0</td>\n",
       "      <td>1050.0</td>\n",
       "      <td>100000.0</td>\n",
       "      <td>0.063816</td>\n",
       "      <td>1.0</td>\n",
       "      <td>0.0</td>\n",
       "      <td>1.0</td>\n",
       "      <td>0.0</td>\n",
       "      <td>0.0</td>\n",
       "      <td>0.0</td>\n",
       "      <td>2010</td>\n",
       "      <td>Bahrain: Monarchy of King Hamad</td>\n",
       "      <td>6.38</td>\n",
       "      <td>1566993.0</td>\n",
       "      <td>0.807094</td>\n",
       "    </tr>\n",
       "    <tr>\n",
       "      <th>34</th>\n",
       "      <td>383.0</td>\n",
       "      <td>Brunei Revolt</td>\n",
       "      <td>Brunei</td>\n",
       "      <td>1962</td>\n",
       "      <td>1962.0</td>\n",
       "      <td>Brunei government</td>\n",
       "      <td>0.0</td>\n",
       "      <td>0.0</td>\n",
       "      <td>1.0</td>\n",
       "      <td>0.0</td>\n",
       "      <td>0.0</td>\n",
       "      <td>1.0</td>\n",
       "      <td>1.0</td>\n",
       "      <td>0.0</td>\n",
       "      <td>0.0</td>\n",
       "      <td>0.0</td>\n",
       "      <td>9.0</td>\n",
       "      <td>4000.0</td>\n",
       "      <td>0.044641</td>\n",
       "      <td>1.0</td>\n",
       "      <td>0.0</td>\n",
       "      <td>NaN</td>\n",
       "      <td>0.0</td>\n",
       "      <td>1.0</td>\n",
       "      <td>1.0</td>\n",
       "      <td>1960</td>\n",
       "      <td>Brunei: Brunei government</td>\n",
       "      <td>4.46</td>\n",
       "      <td>89603.0</td>\n",
       "      <td>0.727348</td>\n",
       "    </tr>\n",
       "  </tbody>\n",
       "</table>\n",
       "</div>"
      ],
      "text/plain": [
       "    NAVCOID                  CAMPAIGN LOCATION  BYEAR   EYEAR  \\\n",
       "19    255.0  Anti-King Hamad Campaign  Bahrain   2011  2014.0   \n",
       "34    383.0             Brunei Revolt   Brunei   1962  1962.0   \n",
       "\n",
       "                    TARGET  SUCCESS  LIMITED  FAILURE  ONGOING  NONVIOL  VIOL  \\\n",
       "19  Monarchy of King Hamad      0.0      0.0      1.0      1.0      1.0   0.0   \n",
       "34       Brunei government      0.0      0.0      1.0      0.0      0.0   1.0   \n",
       "\n",
       "    REGCHANGE  FSELFDET  SECESSION  OTHER  DURATION  PARTICIPATION  \\\n",
       "19        1.0       0.0        0.0    0.0    1050.0       100000.0   \n",
       "34        1.0       0.0        0.0    0.0       9.0         4000.0   \n",
       "\n",
       "    PERCENTAGEPOPULARPARTICIPATION  REGVIOL  DEFECT  VIOLENTFLANK  VIOLSIM  \\\n",
       "19                        0.063816      1.0     0.0           1.0      0.0   \n",
       "34                        0.044641      1.0     0.0           NaN      0.0   \n",
       "\n",
       "    REGAID  STATESUP Decade                    CAMPAIGN_NAME  \\\n",
       "19     0.0       0.0   2010  Bahrain: Monarchy of King Hamad   \n",
       "34     1.0       1.0   1960        Brunei: Brunei government   \n",
       "\n",
       "    Participation_Percentage  Population  membership_per_capita  \n",
       "19                      6.38   1566993.0               0.807094  \n",
       "34                      4.46     89603.0               0.727348  "
      ]
     },
     "execution_count": 95,
     "metadata": {},
     "output_type": "execute_result"
    }
   ],
   "source": [
    "df[(df['PERCENTAGEPOPULARPARTICIPATION'] >= 0.035) & (df['SUCCESS'] == 0.0)]"
   ]
  },
  {
   "cell_type": "markdown",
   "id": "93845ffe-2d0d-45a9-ba9c-25aca6949b75",
   "metadata": {},
   "source": [
    "We can see that the two that 'break' this rule are Bahrain and Brunei, we already explained the reasons that those two are considered outliers and why those two violate this tendency.\n",
    "let's recall them : \n",
    "\n",
    "**Bahrain: Monarchy of King Hamad**\n",
    "* The participation is not very high for the percentage that it represents, that is explained by the fact the Bahrain is a small island country located in the middle east and also this group of minority controling the country had also the support of Saudi Arabia so it also had their help againgst the campaign, so as it is obvious for these reasons it could not keep up with the rule.\n",
    "\n",
    "**Brunei: Brunei government**\n",
    "* Checking out the participation we understand that the percentage is high because their population is very low and also they had help from other nations, looking up for more information specifically from British military. (UK)"
   ]
  },
  {
   "cell_type": "markdown",
   "id": "d4cd802c-2ca4-4491-8f81-1bb7d5b88d5f",
   "metadata": {},
   "source": [
    "Based on these campaigns and the data we found it is a good tendency (rather than a rule) to say **\"the claim that no government has withstood a challenge of 3.5% of their population mobilized against it during a peak event.\"**"
   ]
  },
  {
   "cell_type": "code",
   "execution_count": 96,
   "id": "81f7febc-89e7-4d18-bfbd-27056189c1c2",
   "metadata": {},
   "outputs": [
    {
     "data": {
      "text/html": [
       "<div>\n",
       "<style scoped>\n",
       "    .dataframe tbody tr th:only-of-type {\n",
       "        vertical-align: middle;\n",
       "    }\n",
       "\n",
       "    .dataframe tbody tr th {\n",
       "        vertical-align: top;\n",
       "    }\n",
       "\n",
       "    .dataframe thead th {\n",
       "        text-align: right;\n",
       "    }\n",
       "</style>\n",
       "<table border=\"1\" class=\"dataframe\">\n",
       "  <thead>\n",
       "    <tr style=\"text-align: right;\">\n",
       "      <th></th>\n",
       "      <th>Peak_Popular_Participation_%</th>\n",
       "      <th>Observations</th>\n",
       "      <th>Success_Rate</th>\n",
       "    </tr>\n",
       "  </thead>\n",
       "  <tbody>\n",
       "    <tr>\n",
       "      <th>0</th>\n",
       "      <td>greater than 3.5%</td>\n",
       "      <td>18</td>\n",
       "      <td>88.89%</td>\n",
       "    </tr>\n",
       "    <tr>\n",
       "      <th>1</th>\n",
       "      <td>1.0%-3.5%</td>\n",
       "      <td>41</td>\n",
       "      <td>60.98%</td>\n",
       "    </tr>\n",
       "    <tr>\n",
       "      <th>2</th>\n",
       "      <td>0.25% - 1.0%</td>\n",
       "      <td>92</td>\n",
       "      <td>45.65%</td>\n",
       "    </tr>\n",
       "    <tr>\n",
       "      <th>3</th>\n",
       "      <td>0.06% - 0.25%</td>\n",
       "      <td>95</td>\n",
       "      <td>45.26%</td>\n",
       "    </tr>\n",
       "    <tr>\n",
       "      <th>4</th>\n",
       "      <td>0.015% - 0.06%</td>\n",
       "      <td>66</td>\n",
       "      <td>24.24%</td>\n",
       "    </tr>\n",
       "    <tr>\n",
       "      <th>5</th>\n",
       "      <td>0.0035% - 0.015%</td>\n",
       "      <td>44</td>\n",
       "      <td>9.09%</td>\n",
       "    </tr>\n",
       "    <tr>\n",
       "      <th>6</th>\n",
       "      <td>less than 0.0035%</td>\n",
       "      <td>24</td>\n",
       "      <td>4.17%</td>\n",
       "    </tr>\n",
       "  </tbody>\n",
       "</table>\n",
       "</div>"
      ],
      "text/plain": [
       "  Peak_Popular_Participation_%  Observations Success_Rate\n",
       "0            greater than 3.5%            18       88.89%\n",
       "1                    1.0%-3.5%            41       60.98%\n",
       "2                 0.25% - 1.0%            92       45.65%\n",
       "3                0.06% - 0.25%            95       45.26%\n",
       "4               0.015% - 0.06%            66       24.24%\n",
       "5             0.0035% - 0.015%            44        9.09%\n",
       "6            less than 0.0035%            24        4.17%"
      ]
     },
     "execution_count": 96,
     "metadata": {},
     "output_type": "execute_result"
    }
   ],
   "source": [
    "Chenoweth"
   ]
  },
  {
   "cell_type": "markdown",
   "id": "96164496-55ec-4bb8-b7a9-107017739985",
   "metadata": {},
   "source": [
    "### Percentage of the population that is the tipping point for success in a campaign with 99% probability."
   ]
  },
  {
   "cell_type": "markdown",
   "id": "2c1b80a2-0e02-40b8-86b9-8f49278d5f6c",
   "metadata": {},
   "source": [
    "The table should be interpreted as a depiction of the observed outcomes rather than a table of probabilities of success based on the participation levels."
   ]
  },
  {
   "cell_type": "markdown",
   "id": "cabbe1d4-b78d-4f4d-9645-492376325ac7",
   "metadata": {},
   "source": [
    "For this reason we will see statistically based on probabilities the participation needed for 99% success probability."
   ]
  },
  {
   "cell_type": "markdown",
   "id": "41c45433-b263-4cd9-9560-7feccea83ae2",
   "metadata": {},
   "source": [
    "We set up the model we used in the previous step for the membership per capita as the independend and the SUCCESS as the dependend. We are using this model because the other one were scatter cause the synergy of the two X variables created a scattered graph."
   ]
  },
  {
   "cell_type": "markdown",
   "id": "eb3013f5-4fdf-4aa3-bf1a-d22378f24436",
   "metadata": {},
   "source": [
    "We also find the probabilities as before using the result3 model we created and also we create confidence intervals using the .conf_int() and setting an alpha for the significance level of our confidence intervals."
   ]
  },
  {
   "cell_type": "code",
   "execution_count": 97,
   "id": "c318bf67-7b0f-490e-a9d8-84f00db09438",
   "metadata": {},
   "outputs": [
    {
     "name": "stdout",
     "output_type": "stream",
     "text": [
      "Optimization terminated successfully.\n",
      "         Current function value: 0.585556\n",
      "         Iterations 6\n"
     ]
    }
   ],
   "source": [
    "X = sm.add_constant(Success_prob['membership_per_capita'])\n",
    "y = Success_prob['SUCCESS']\n",
    "model = sm.Logit(y, X)\n",
    "result3 = model.fit()\n",
    "\n",
    "pred_prob = result3.predict(X)\n",
    "\n",
    "pred_ci = result3.get_prediction(X).conf_int(alpha = 0.000000000001)"
   ]
  },
  {
   "cell_type": "code",
   "execution_count": 98,
   "id": "845276d5-f97f-4162-aec8-19d2186e3a25",
   "metadata": {},
   "outputs": [
    {
     "data": {
      "text/html": [
       "<table class=\"simpletable\">\n",
       "<caption>Logit Regression Results</caption>\n",
       "<tr>\n",
       "  <th>Dep. Variable:</th>        <td>SUCCESS</td>     <th>  No. Observations:  </th>  <td>   380</td>  \n",
       "</tr>\n",
       "<tr>\n",
       "  <th>Model:</th>                 <td>Logit</td>      <th>  Df Residuals:      </th>  <td>   378</td>  \n",
       "</tr>\n",
       "<tr>\n",
       "  <th>Method:</th>                 <td>MLE</td>       <th>  Df Model:          </th>  <td>     1</td>  \n",
       "</tr>\n",
       "<tr>\n",
       "  <th>Date:</th>            <td>Mon, 04 Dec 2023</td> <th>  Pseudo R-squ.:     </th>  <td>0.1225</td>  \n",
       "</tr>\n",
       "<tr>\n",
       "  <th>Time:</th>                <td>19:25:32</td>     <th>  Log-Likelihood:    </th> <td> -222.51</td> \n",
       "</tr>\n",
       "<tr>\n",
       "  <th>converged:</th>             <td>True</td>       <th>  LL-Null:           </th> <td> -253.58</td> \n",
       "</tr>\n",
       "<tr>\n",
       "  <th>Covariance Type:</th>     <td>nonrobust</td>    <th>  LLR p-value:       </th> <td>3.204e-15</td>\n",
       "</tr>\n",
       "</table>\n",
       "<table class=\"simpletable\">\n",
       "<tr>\n",
       "            <td></td>               <th>coef</th>     <th>std err</th>      <th>z</th>      <th>P>|z|</th>  <th>[0.025</th>    <th>0.975]</th>  \n",
       "</tr>\n",
       "<tr>\n",
       "  <th>const</th>                 <td>   -5.3469</td> <td>    0.709</td> <td>   -7.536</td> <td> 0.000</td> <td>   -6.737</td> <td>   -3.956</td>\n",
       "</tr>\n",
       "<tr>\n",
       "  <th>membership_per_capita</th> <td>    8.0495</td> <td>    1.141</td> <td>    7.052</td> <td> 0.000</td> <td>    5.812</td> <td>   10.287</td>\n",
       "</tr>\n",
       "</table>"
      ],
      "text/latex": [
       "\\begin{center}\n",
       "\\begin{tabular}{lclc}\n",
       "\\toprule\n",
       "\\textbf{Dep. Variable:}          &     SUCCESS      & \\textbf{  No. Observations:  } &      380    \\\\\n",
       "\\textbf{Model:}                  &      Logit       & \\textbf{  Df Residuals:      } &      378    \\\\\n",
       "\\textbf{Method:}                 &       MLE        & \\textbf{  Df Model:          } &        1    \\\\\n",
       "\\textbf{Date:}                   & Mon, 04 Dec 2023 & \\textbf{  Pseudo R-squ.:     } &   0.1225    \\\\\n",
       "\\textbf{Time:}                   &     19:25:32     & \\textbf{  Log-Likelihood:    } &   -222.51   \\\\\n",
       "\\textbf{converged:}              &       True       & \\textbf{  LL-Null:           } &   -253.58   \\\\\n",
       "\\textbf{Covariance Type:}        &    nonrobust     & \\textbf{  LLR p-value:       } & 3.204e-15   \\\\\n",
       "\\bottomrule\n",
       "\\end{tabular}\n",
       "\\begin{tabular}{lcccccc}\n",
       "                                 & \\textbf{coef} & \\textbf{std err} & \\textbf{z} & \\textbf{P$> |$z$|$} & \\textbf{[0.025} & \\textbf{0.975]}  \\\\\n",
       "\\midrule\n",
       "\\textbf{const}                   &      -5.3469  &        0.709     &    -7.536  &         0.000        &       -6.737    &       -3.956     \\\\\n",
       "\\textbf{membership\\_per\\_capita} &       8.0495  &        1.141     &     7.052  &         0.000        &        5.812    &       10.287     \\\\\n",
       "\\bottomrule\n",
       "\\end{tabular}\n",
       "%\\caption{Logit Regression Results}\n",
       "\\end{center}"
      ],
      "text/plain": [
       "<class 'statsmodels.iolib.summary.Summary'>\n",
       "\"\"\"\n",
       "                           Logit Regression Results                           \n",
       "==============================================================================\n",
       "Dep. Variable:                SUCCESS   No. Observations:                  380\n",
       "Model:                          Logit   Df Residuals:                      378\n",
       "Method:                           MLE   Df Model:                            1\n",
       "Date:                Mon, 04 Dec 2023   Pseudo R-squ.:                  0.1225\n",
       "Time:                        19:25:32   Log-Likelihood:                -222.51\n",
       "converged:                       True   LL-Null:                       -253.58\n",
       "Covariance Type:            nonrobust   LLR p-value:                 3.204e-15\n",
       "=========================================================================================\n",
       "                            coef    std err          z      P>|z|      [0.025      0.975]\n",
       "-----------------------------------------------------------------------------------------\n",
       "const                    -5.3469      0.709     -7.536      0.000      -6.737      -3.956\n",
       "membership_per_capita     8.0495      1.141      7.052      0.000       5.812      10.287\n",
       "=========================================================================================\n",
       "\"\"\""
      ]
     },
     "execution_count": 98,
     "metadata": {},
     "output_type": "execute_result"
    }
   ],
   "source": [
    "result3.summary()"
   ]
  },
  {
   "cell_type": "markdown",
   "id": "61b8d729-e110-4db7-ba56-58596a08c061",
   "metadata": {},
   "source": [
    "Here we can the probabilities for each membership per capita."
   ]
  },
  {
   "cell_type": "code",
   "execution_count": 99,
   "id": "12fba25f-4c05-4c43-93c7-7a8b1dbd875c",
   "metadata": {},
   "outputs": [
    {
     "data": {
      "text/plain": [
       "0      0.295117\n",
       "1      0.298870\n",
       "2      0.345998\n",
       "3      0.434322\n",
       "4      0.804936\n",
       "         ...   \n",
       "384    0.884145\n",
       "385    0.432853\n",
       "386    0.202945\n",
       "387    0.139988\n",
       "388    0.255078\n",
       "Length: 380, dtype: float64"
      ]
     },
     "execution_count": 99,
     "metadata": {},
     "output_type": "execute_result"
    }
   ],
   "source": [
    "pred_prob"
   ]
  },
  {
   "cell_type": "markdown",
   "id": "367b9b96-bc39-413f-a898-ee69b29a1d63",
   "metadata": {},
   "source": [
    "We also print the confidence intervals for each probability."
   ]
  },
  {
   "cell_type": "code",
   "execution_count": 100,
   "id": "4dd763cb-ef2e-44e9-96a0-7defec7b52ae",
   "metadata": {
    "scrolled": true
   },
   "outputs": [
    {
     "data": {
      "text/plain": [
       "array([[0.14041177, 0.51763083],\n",
       "       [0.14368472, 0.51990155],\n",
       "       [0.18455508, 0.55290832],\n",
       "       [0.25076568, 0.63785251],\n",
       "       [0.35389448, 0.96883597],\n",
       "       [0.27408065, 0.68502975],\n",
       "       [0.27456814, 0.686163  ],\n",
       "       [0.12588806, 0.50806273],\n",
       "       [0.30108351, 0.75938955],\n",
       "       [0.20521365, 0.57399716],\n",
       "       [0.25517996, 0.64583016],\n",
       "       [0.01941018, 0.4497868 ],\n",
       "       [0.0674571 , 0.47536901],\n",
       "       [0.0465452 , 0.46470813],\n",
       "       [0.36272061, 0.99222348],\n",
       "       [0.33316716, 0.88346434],\n",
       "       [0.29918855, 0.75331624],\n",
       "       [0.1786653 , 0.54752322],\n",
       "       [0.34852421, 0.94907751],\n",
       "       [0.01935158, 0.44975015],\n",
       "       [0.01151009, 0.44440503],\n",
       "       [0.22502522, 0.59823356],\n",
       "       [0.31920236, 0.82480981],\n",
       "       [0.28103713, 0.70186276],\n",
       "       [0.30377067, 0.76824679],\n",
       "       [0.29497822, 0.74032128],\n",
       "       [0.33089496, 0.87358238],\n",
       "       [0.31499326, 0.80842292],\n",
       "       [0.02771157, 0.45468799],\n",
       "       [0.3290893 , 0.86579652],\n",
       "       [0.10216817, 0.49390644],\n",
       "       [0.33705147, 0.90047247],\n",
       "       [0.32564451, 0.85116502],\n",
       "       [0.32256405, 0.83838263],\n",
       "       [0.22029682, 0.59202762],\n",
       "       [0.20394877, 0.57259539],\n",
       "       [0.09791459, 0.49152207],\n",
       "       [0.23524096, 0.61268717],\n",
       "       [0.02573249, 0.45356275],\n",
       "       [0.19335058, 0.56143971],\n",
       "       [0.28612363, 0.71512376],\n",
       "       [0.06893506, 0.47612655],\n",
       "       [0.06477516, 0.47399803],\n",
       "       [0.08729169, 0.48572814],\n",
       "       [0.2965351 , 0.74504744],\n",
       "       [0.27066399, 0.67727351],\n",
       "       [0.31239447, 0.79865954],\n",
       "       [0.25489057, 0.64529486],\n",
       "       [0.16082535, 0.53259921],\n",
       "       [0.0861069 , 0.48509454],\n",
       "       [0.28544717, 0.71331122],\n",
       "       [0.03378392, 0.45802662],\n",
       "       [0.28544717, 0.71331122],\n",
       "       [0.04061439, 0.46164144],\n",
       "       [0.26824937, 0.67198243],\n",
       "       [0.31378827, 0.80386172],\n",
       "       [0.12600908, 0.5081393 ],\n",
       "       [0.0291596 , 0.45549832],\n",
       "       [0.03909577, 0.46084713],\n",
       "       [0.30087012, 0.75869852],\n",
       "       [0.351136  , 0.95907062],\n",
       "       [0.30364683, 0.76783221],\n",
       "       [0.08468109, 0.48433506],\n",
       "       [0.27428365, 0.68550083],\n",
       "       [0.06630731, 0.47478071],\n",
       "       [0.29476117, 0.73966966],\n",
       "       [0.14074944, 0.51786302],\n",
       "       [0.28469809, 0.71132191],\n",
       "       [0.30996591, 0.78978571],\n",
       "       [0.10868589, 0.49764216],\n",
       "       [0.10884647, 0.49773554],\n",
       "       [0.0585448 , 0.47082545],\n",
       "       [0.30603473, 0.77593595],\n",
       "       [0.30371709, 0.76806736],\n",
       "       [0.09463232, 0.48970865],\n",
       "       [0.34953777, 0.95303043],\n",
       "       [0.15038326, 0.52469549],\n",
       "       [0.26147916, 0.65793565],\n",
       "       [0.0736324 , 0.47854618],\n",
       "       [0.0523266 , 0.46766272],\n",
       "       [0.24962846, 0.6358607 ],\n",
       "       [0.33550382, 0.89368871],\n",
       "       [0.14931182, 0.52391492],\n",
       "       [0.34062411, 0.91606692],\n",
       "       [0.29160624, 0.73039476],\n",
       "       [0.1298999 , 0.51062792],\n",
       "       [0.2568987 , 0.64904632],\n",
       "       [0.31219489, 0.79792114],\n",
       "       [0.01333057, 0.44574408],\n",
       "       [0.04733813, 0.46511487],\n",
       "       [0.29891757, 0.75245929],\n",
       "       [0.08211152, 0.48297417],\n",
       "       [0.3602881 , 0.98720061],\n",
       "       [0.32839742, 0.86283264],\n",
       "       [0.21291398, 0.58288572],\n",
       "       [0.14867148, 0.52345098],\n",
       "       [0.06075333, 0.47194873],\n",
       "       [0.28380144, 0.70896507],\n",
       "       [0.35899761, 0.98406044],\n",
       "       [0.11132707, 0.49918664],\n",
       "       [0.20401571, 0.57266919],\n",
       "       [0.15944938, 0.53152555],\n",
       "       [0.17912665, 0.54793615],\n",
       "       [0.19742481, 0.56560816],\n",
       "       [0.15134324, 0.52539946],\n",
       "       [0.14414345, 0.52022345],\n",
       "       [0.3317403 , 0.87724939],\n",
       "       [0.089398  , 0.48686035],\n",
       "       [0.14951986, 0.52406606],\n",
       "       [0.3469743 , 0.94287426],\n",
       "       [0.31609792, 0.81265578],\n",
       "       [0.32784981, 0.86049522],\n",
       "       [0.32257988, 0.83844749],\n",
       "       [0.28857432, 0.72182029],\n",
       "       [0.06202851, 0.47259783],\n",
       "       [0.03710006, 0.45979587],\n",
       "       [0.04677133, 0.46482419],\n",
       "       [0.31792009, 0.81974411],\n",
       "       [0.30495183, 0.77223221],\n",
       "       [0.27677101, 0.69136917],\n",
       "       [0.24863565, 0.63414234],\n",
       "       [0.28515341, 0.71252886],\n",
       "       [0.19510116, 0.56321315],\n",
       "       [0.30824681, 0.78365101],\n",
       "       [0.10301376, 0.49438532],\n",
       "       [0.17549964, 0.54472895],\n",
       "       [0.33670787, 0.89896657],\n",
       "       [0.02651696, 0.45401139],\n",
       "       [0.31875718, 0.82304394],\n",
       "       [0.30334268, 0.76681664],\n",
       "       [0.13267092, 0.51243314],\n",
       "       [0.08490181, 0.48445242],\n",
       "       [0.05408289, 0.46855671],\n",
       "       [0.01309291, 0.44557355],\n",
       "       [0.01210718, 0.44485291],\n",
       "       [0.15913261, 0.53127982],\n",
       "       [0.01629102, 0.44778037],\n",
       "       [0.08603378, 0.48505552],\n",
       "       [0.01419405, 0.44635407],\n",
       "       [0.01572701, 0.44740371],\n",
       "       [0.0142776 , 0.44641233],\n",
       "       [0.0111736 , 0.44414849],\n",
       "       [0.01948385, 0.44983281],\n",
       "       [0.28307617, 0.7070779 ],\n",
       "       [0.04602282, 0.46443982],\n",
       "       [0.09094494, 0.48769684],\n",
       "       [0.07207935, 0.47774397],\n",
       "       [0.02468721, 0.45295912],\n",
       "       [0.05596227, 0.4695125 ],\n",
       "       [0.05569315, 0.46937567],\n",
       "       [0.02595369, 0.45368962],\n",
       "       [0.35258775, 0.9643237 ],\n",
       "       [0.08577524, 0.48491759],\n",
       "       [0.01332032, 0.44573675],\n",
       "       [0.03081455, 0.45641274],\n",
       "       [0.30173156, 0.76149913],\n",
       "       [0.0817808 , 0.48279972],\n",
       "       [0.26331169, 0.66162732],\n",
       "       [0.08196324, 0.48289594],\n",
       "       [0.10907804, 0.49787032],\n",
       "       [0.0688921 , 0.47610451],\n",
       "       [0.24744567, 0.63210751],\n",
       "       [0.28033137, 0.70008827],\n",
       "       [0.27510132, 0.68741021],\n",
       "       [0.15297941, 0.5266095 ],\n",
       "       [0.25345089, 0.64265776],\n",
       "       [0.25659482, 0.64847305],\n",
       "       [0.30968775, 0.78878481],\n",
       "       [0.15157256, 0.52556827],\n",
       "       [0.27474626, 0.68657873],\n",
       "       [0.16077085, 0.53255649],\n",
       "       [0.08383566, 0.48388621],\n",
       "       [0.26861593, 0.67277578],\n",
       "       [0.26185538, 0.6586871 ],\n",
       "       [0.06314201, 0.47316508],\n",
       "       [0.06314201, 0.47316508],\n",
       "       [0.1415601 , 0.51842237],\n",
       "       [0.28488644, 0.71182036],\n",
       "       [0.32342709, 0.8419322 ],\n",
       "       [0.28551292, 0.71348673],\n",
       "       [0.35389788, 0.96884741],\n",
       "       [0.28916523, 0.72346596],\n",
       "       [0.30140068, 0.76041993],\n",
       "       [0.11017907, 0.49851306],\n",
       "       [0.36115491, 0.98912837],\n",
       "       [0.07164027, 0.47751759],\n",
       "       [0.3597605 , 0.98595508],\n",
       "       [0.13170457, 0.51180041],\n",
       "       [0.25300916, 0.64185723],\n",
       "       [0.25004852, 0.63659347],\n",
       "       [0.18767554, 0.55586518],\n",
       "       [0.34285305, 0.92566594],\n",
       "       [0.31090392, 0.79318437],\n",
       "       [0.35109373, 0.95891416],\n",
       "       [0.22161517, 0.59372918],\n",
       "       [0.1543789 , 0.52765488],\n",
       "       [0.32672203, 0.85570654],\n",
       "       [0.34476033, 0.93373775],\n",
       "       [0.34479518, 0.93388369],\n",
       "       [0.22506881, 0.59829213],\n",
       "       [0.33043078, 0.87157442],\n",
       "       [0.16451922, 0.53553291],\n",
       "       [0.04047911, 0.46157087],\n",
       "       [0.0931117 , 0.48887586],\n",
       "       [0.32218092, 0.83681514],\n",
       "       [0.23798377, 0.61683381],\n",
       "       [0.13261957, 0.51239943],\n",
       "       [0.32272166, 0.83902893],\n",
       "       [0.05516727, 0.46910827],\n",
       "       [0.07158794, 0.47749062],\n",
       "       [0.24181382, 0.62282926],\n",
       "       [0.33286817, 0.88215974],\n",
       "       [0.25602861, 0.64741026],\n",
       "       [0.21692678, 0.587775  ],\n",
       "       [0.17503637, 0.54432565],\n",
       "       [0.17214704, 0.54184186],\n",
       "       [0.29761506, 0.74838008],\n",
       "       [0.16128545, 0.53296051],\n",
       "       [0.20973647, 0.57914194],\n",
       "       [0.25558364, 0.64657987],\n",
       "       [0.32628719, 0.8538697 ],\n",
       "       [0.07106181, 0.47721961],\n",
       "       [0.33021594, 0.87064647],\n",
       "       [0.30284581, 0.76516559],\n",
       "       [0.11896285, 0.50376088],\n",
       "       [0.24146294, 0.62226974],\n",
       "       [0.17202485, 0.541738  ],\n",
       "       [0.28772682, 0.7194812 ],\n",
       "       [0.22214405, 0.59441796],\n",
       "       [0.01271408, 0.44529921],\n",
       "       [0.29996902, 0.75580049],\n",
       "       [0.33172839, 0.87719763],\n",
       "       [0.05275546, 0.46788112],\n",
       "       [0.01393344, 0.44617149],\n",
       "       [0.13443415, 0.5135966 ],\n",
       "       [0.13772422, 0.51579946],\n",
       "       [0.03375149, 0.45800917],\n",
       "       [0.25244508, 0.64084078],\n",
       "       [0.20806213, 0.57721272],\n",
       "       [0.20014823, 0.56847671],\n",
       "       [0.1911789 , 0.55927555],\n",
       "       [0.24169136, 0.62263374],\n",
       "       [0.02598125, 0.4537054 ],\n",
       "       [0.03357851, 0.45791597],\n",
       "       [0.15507344, 0.5281773 ],\n",
       "       [0.14657712, 0.52194671],\n",
       "       [0.34179576, 0.92113091],\n",
       "       [0.10116237, 0.49333899],\n",
       "       [0.084507  , 0.48424254],\n",
       "       [0.24642417, 0.63038196],\n",
       "       [0.06393102, 0.47356734],\n",
       "       [0.16797111, 0.53834474],\n",
       "       [0.07317712, 0.47831076],\n",
       "       [0.2537335 , 0.64317201],\n",
       "       [0.15534259, 0.5283804 ],\n",
       "       [0.06688756, 0.47507749],\n",
       "       [0.13231912, 0.51220239],\n",
       "       [0.34927181, 0.95200179],\n",
       "       [0.32295805, 0.83999994],\n",
       "       [0.29151238, 0.73012442],\n",
       "       [0.29214618, 0.73195621],\n",
       "       [0.16561348, 0.53641676],\n",
       "       [0.10785119, 0.49715785],\n",
       "       [0.26442681, 0.66391308],\n",
       "       [0.23582288, 0.61355698],\n",
       "       [0.16937168, 0.53950573],\n",
       "       [0.04441522, 0.46361223],\n",
       "       [0.23530995, 0.61279001],\n",
       "       [0.29817648, 0.75013027],\n",
       "       [0.33966352, 0.91189165],\n",
       "       [0.32010331, 0.8284066 ],\n",
       "       [0.06268686, 0.47293316],\n",
       "       [0.08426607, 0.48411458],\n",
       "       [0.01048528, 0.44361364],\n",
       "       [0.25858963, 0.65227305],\n",
       "       [0.26556947, 0.66628681],\n",
       "       [0.07957499, 0.48164006],\n",
       "       [0.22788945, 0.60213626],\n",
       "       [0.23052584, 0.60582917],\n",
       "       [0.23791063, 0.61672168],\n",
       "       [0.08473112, 0.48436165],\n",
       "       [0.08473112, 0.48436165],\n",
       "       [0.10348344, 0.49465202],\n",
       "       [0.34042871, 0.91521912],\n",
       "       [0.14287986, 0.51933893],\n",
       "       [0.32260006, 0.83853021],\n",
       "       [0.36364724, 0.99381294],\n",
       "       [0.05532488, 0.46918842],\n",
       "       [0.18026937, 0.54896531],\n",
       "       [0.13088185, 0.51126443],\n",
       "       [0.11186056, 0.49950087],\n",
       "       [0.13380032, 0.51317703],\n",
       "       [0.30996889, 0.78979642],\n",
       "       [0.29549783, 0.74188845],\n",
       "       [0.28147562, 0.70297312],\n",
       "       [0.34446699, 0.93250695],\n",
       "       [0.29015203, 0.72624149],\n",
       "       [0.27319047, 0.68297776],\n",
       "       [0.17639581, 0.54551314],\n",
       "       [0.03784818, 0.46019101],\n",
       "       [0.04624849, 0.46455577],\n",
       "       [0.09020049, 0.48729375],\n",
       "       [0.02513477, 0.45321842],\n",
       "       [0.14368472, 0.51990155],\n",
       "       [0.03801097, 0.46027681],\n",
       "       [0.35578675, 0.97495953],\n",
       "       [0.10417665, 0.49504662],\n",
       "       [0.23153159, 0.60726424],\n",
       "       [0.06021066, 0.47167264],\n",
       "       [0.20748214, 0.57655127],\n",
       "       [0.31584259, 0.81167305],\n",
       "       [0.26332694, 0.66165837],\n",
       "       [0.31672429, 0.81507762],\n",
       "       [0.30092969, 0.75889125],\n",
       "       [0.21022884, 0.5797149 ],\n",
       "       [0.13028704, 0.51087845],\n",
       "       [0.23683626, 0.61508444],\n",
       "       [0.10857065, 0.49757519],\n",
       "       [0.31731957, 0.81739361],\n",
       "       [0.30079422, 0.7584532 ],\n",
       "       [0.02357975, 0.45231172],\n",
       "       [0.26047994, 0.65595588],\n",
       "       [0.10008849, 0.49273565],\n",
       "       [0.26003144, 0.65507475],\n",
       "       [0.29656285, 0.74513254],\n",
       "       [0.29136372, 0.72969684],\n",
       "       [0.03211935, 0.45712583],\n",
       "       [0.21767652, 0.58870926],\n",
       "       [0.27314942, 0.68288365],\n",
       "       [0.24657022, 0.63062748],\n",
       "       [0.30851543, 0.78460156],\n",
       "       [0.06071703, 0.47193026],\n",
       "       [0.31798883, 0.82001404],\n",
       "       [0.35990551, 0.98630277],\n",
       "       [0.05109391, 0.46703454],\n",
       "       [0.10378046, 0.49482096],\n",
       "       [0.02792808, 0.45480981],\n",
       "       [0.13408261, 0.51336371],\n",
       "       [0.04927332, 0.46610524],\n",
       "       [0.02981805, 0.45586355],\n",
       "       [0.0486181 , 0.46577025],\n",
       "       [0.32190797, 0.83570157],\n",
       "       [0.33156347, 0.87648126],\n",
       "       [0.3436219 , 0.92893854],\n",
       "       [0.11647142, 0.50224982],\n",
       "       [0.32477643, 0.8475318 ],\n",
       "       [0.18605012, 0.5543157 ],\n",
       "       [0.15154706, 0.52554949],\n",
       "       [0.05101499, 0.46699429],\n",
       "       [0.02688413, 0.45422017],\n",
       "       [0.32040752, 0.82962793],\n",
       "       [0.08015744, 0.48194563],\n",
       "       [0.20580646, 0.57465959],\n",
       "       [0.06290083, 0.47304218],\n",
       "       [0.05119584, 0.46708651],\n",
       "       [0.02701733, 0.45429573],\n",
       "       [0.23816379, 0.61711017],\n",
       "       [0.04876132, 0.4658435 ],\n",
       "       [0.27088526, 0.67776612],\n",
       "       [0.07309427, 0.47826795],\n",
       "       [0.29317906, 0.73497278],\n",
       "       [0.33002506, 0.86982283],\n",
       "       [0.01772721, 0.44871921],\n",
       "       [0.2956096 , 0.74222688],\n",
       "       [0.0704993 , 0.47693014],\n",
       "       [0.34288697, 0.92581083],\n",
       "       [0.15876979, 0.53099902],\n",
       "       [0.17085301, 0.54074667],\n",
       "       [0.16925228, 0.5394063 ],\n",
       "       [0.13105744, 0.51137861],\n",
       "       [0.1602621 , 0.53215848],\n",
       "       [0.18201061, 0.55055126],\n",
       "       [0.13200108, 0.51199419],\n",
       "       [0.05917142, 0.47114407],\n",
       "       [0.01599401, 0.44758261],\n",
       "       [0.36174876, 0.99036188],\n",
       "       [0.2498393 , 0.63622807],\n",
       "       [0.06684923, 0.47505788],\n",
       "       [0.03060478, 0.45629747],\n",
       "       [0.10634989, 0.49629122]])"
      ]
     },
     "execution_count": 100,
     "metadata": {},
     "output_type": "execute_result"
    }
   ],
   "source": [
    "pred_ci"
   ]
  },
  {
   "cell_type": "markdown",
   "id": "e689d433-3b48-43c1-8927-1c0bbc9551fe",
   "metadata": {},
   "source": [
    "Next step now is to create dataframes so we can create one mutual dataframe for the probabilities, the intervals and also the membership per capita and the participation percentage that we will need for the 99% probability of success. "
   ]
  },
  {
   "cell_type": "markdown",
   "id": "26e29bcf-7722-410e-bc14-7bd2665d6728",
   "metadata": {},
   "source": [
    "We also reset the index because the previous one had some false values."
   ]
  },
  {
   "cell_type": "code",
   "execution_count": 101,
   "id": "4067523c-cadd-47e1-94d1-15771ee8aa06",
   "metadata": {},
   "outputs": [],
   "source": [
    "pred_prob = pd.DataFrame(pred_prob, columns=['probabilities']).reset_index()"
   ]
  },
  {
   "cell_type": "code",
   "execution_count": 102,
   "id": "a1adee52-d969-460d-97d1-580d3b296c56",
   "metadata": {},
   "outputs": [
    {
     "data": {
      "text/html": [
       "<div>\n",
       "<style scoped>\n",
       "    .dataframe tbody tr th:only-of-type {\n",
       "        vertical-align: middle;\n",
       "    }\n",
       "\n",
       "    .dataframe tbody tr th {\n",
       "        vertical-align: top;\n",
       "    }\n",
       "\n",
       "    .dataframe thead th {\n",
       "        text-align: right;\n",
       "    }\n",
       "</style>\n",
       "<table border=\"1\" class=\"dataframe\">\n",
       "  <thead>\n",
       "    <tr style=\"text-align: right;\">\n",
       "      <th></th>\n",
       "      <th>index</th>\n",
       "      <th>probabilities</th>\n",
       "    </tr>\n",
       "  </thead>\n",
       "  <tbody>\n",
       "    <tr>\n",
       "      <th>0</th>\n",
       "      <td>0</td>\n",
       "      <td>0.295117</td>\n",
       "    </tr>\n",
       "    <tr>\n",
       "      <th>1</th>\n",
       "      <td>1</td>\n",
       "      <td>0.298870</td>\n",
       "    </tr>\n",
       "    <tr>\n",
       "      <th>2</th>\n",
       "      <td>2</td>\n",
       "      <td>0.345998</td>\n",
       "    </tr>\n",
       "    <tr>\n",
       "      <th>3</th>\n",
       "      <td>3</td>\n",
       "      <td>0.434322</td>\n",
       "    </tr>\n",
       "    <tr>\n",
       "      <th>4</th>\n",
       "      <td>4</td>\n",
       "      <td>0.804936</td>\n",
       "    </tr>\n",
       "    <tr>\n",
       "      <th>...</th>\n",
       "      <td>...</td>\n",
       "      <td>...</td>\n",
       "    </tr>\n",
       "    <tr>\n",
       "      <th>375</th>\n",
       "      <td>384</td>\n",
       "      <td>0.884145</td>\n",
       "    </tr>\n",
       "    <tr>\n",
       "      <th>376</th>\n",
       "      <td>385</td>\n",
       "      <td>0.432853</td>\n",
       "    </tr>\n",
       "    <tr>\n",
       "      <th>377</th>\n",
       "      <td>386</td>\n",
       "      <td>0.202945</td>\n",
       "    </tr>\n",
       "    <tr>\n",
       "      <th>378</th>\n",
       "      <td>387</td>\n",
       "      <td>0.139988</td>\n",
       "    </tr>\n",
       "    <tr>\n",
       "      <th>379</th>\n",
       "      <td>388</td>\n",
       "      <td>0.255078</td>\n",
       "    </tr>\n",
       "  </tbody>\n",
       "</table>\n",
       "<p>380 rows × 2 columns</p>\n",
       "</div>"
      ],
      "text/plain": [
       "     index  probabilities\n",
       "0        0       0.295117\n",
       "1        1       0.298870\n",
       "2        2       0.345998\n",
       "3        3       0.434322\n",
       "4        4       0.804936\n",
       "..     ...            ...\n",
       "375    384       0.884145\n",
       "376    385       0.432853\n",
       "377    386       0.202945\n",
       "378    387       0.139988\n",
       "379    388       0.255078\n",
       "\n",
       "[380 rows x 2 columns]"
      ]
     },
     "execution_count": 102,
     "metadata": {},
     "output_type": "execute_result"
    }
   ],
   "source": [
    "pred_prob"
   ]
  },
  {
   "cell_type": "markdown",
   "id": "60320306-c925-4d63-a0a8-29163401901b",
   "metadata": {},
   "source": [
    "Here we gather in one dataframe the column membership per capita and percentage of participation."
   ]
  },
  {
   "cell_type": "markdown",
   "id": "b25f0d83-2018-446c-b2b4-a5c40ea17587",
   "metadata": {},
   "source": [
    "We also reset the index because the previous one had some false values."
   ]
  },
  {
   "cell_type": "code",
   "execution_count": 103,
   "id": "d529ae7a-bbf7-4306-a40c-551dd9a6056a",
   "metadata": {},
   "outputs": [],
   "source": [
    "membership_participation = Success_prob[['membership_per_capita', 'PERCENTAGEPOPULARPARTICIPATION']].reset_index()"
   ]
  },
  {
   "cell_type": "code",
   "execution_count": 104,
   "id": "62ccb6fa-c8b6-43ff-a0ba-3d37df55e343",
   "metadata": {},
   "outputs": [
    {
     "data": {
      "text/html": [
       "<div>\n",
       "<style scoped>\n",
       "    .dataframe tbody tr th:only-of-type {\n",
       "        vertical-align: middle;\n",
       "    }\n",
       "\n",
       "    .dataframe tbody tr th {\n",
       "        vertical-align: top;\n",
       "    }\n",
       "\n",
       "    .dataframe thead th {\n",
       "        text-align: right;\n",
       "    }\n",
       "</style>\n",
       "<table border=\"1\" class=\"dataframe\">\n",
       "  <thead>\n",
       "    <tr style=\"text-align: right;\">\n",
       "      <th></th>\n",
       "      <th>index</th>\n",
       "      <th>membership_per_capita</th>\n",
       "      <th>PERCENTAGEPOPULARPARTICIPATION</th>\n",
       "    </tr>\n",
       "  </thead>\n",
       "  <tbody>\n",
       "    <tr>\n",
       "      <th>0</th>\n",
       "      <td>0</td>\n",
       "      <td>0.556087</td>\n",
       "      <td>0.000641</td>\n",
       "    </tr>\n",
       "    <tr>\n",
       "      <th>1</th>\n",
       "      <td>1</td>\n",
       "      <td>0.558320</td>\n",
       "      <td>0.000685</td>\n",
       "    </tr>\n",
       "    <tr>\n",
       "      <th>2</th>\n",
       "      <td>2</td>\n",
       "      <td>0.585154</td>\n",
       "      <td>0.000893</td>\n",
       "    </tr>\n",
       "    <tr>\n",
       "      <th>3</th>\n",
       "      <td>3</td>\n",
       "      <td>0.631423</td>\n",
       "      <td>0.001625</td>\n",
       "    </tr>\n",
       "    <tr>\n",
       "      <th>4</th>\n",
       "      <td>4</td>\n",
       "      <td>0.840339</td>\n",
       "      <td>0.091068</td>\n",
       "    </tr>\n",
       "    <tr>\n",
       "      <th>...</th>\n",
       "      <td>...</td>\n",
       "      <td>...</td>\n",
       "      <td>...</td>\n",
       "    </tr>\n",
       "    <tr>\n",
       "      <th>375</th>\n",
       "      <td>384</td>\n",
       "      <td>0.916722</td>\n",
       "      <td>0.285063</td>\n",
       "    </tr>\n",
       "    <tr>\n",
       "      <th>376</th>\n",
       "      <td>385</td>\n",
       "      <td>0.630680</td>\n",
       "      <td>0.002791</td>\n",
       "    </tr>\n",
       "    <tr>\n",
       "      <th>377</th>\n",
       "      <td>386</td>\n",
       "      <td>0.494303</td>\n",
       "      <td>0.000277</td>\n",
       "    </tr>\n",
       "    <tr>\n",
       "      <th>378</th>\n",
       "      <td>387</td>\n",
       "      <td>0.438722</td>\n",
       "      <td>0.000145</td>\n",
       "    </tr>\n",
       "    <tr>\n",
       "      <th>379</th>\n",
       "      <td>388</td>\n",
       "      <td>0.531110</td>\n",
       "      <td>0.000542</td>\n",
       "    </tr>\n",
       "  </tbody>\n",
       "</table>\n",
       "<p>380 rows × 3 columns</p>\n",
       "</div>"
      ],
      "text/plain": [
       "     index  membership_per_capita  PERCENTAGEPOPULARPARTICIPATION\n",
       "0        0               0.556087                        0.000641\n",
       "1        1               0.558320                        0.000685\n",
       "2        2               0.585154                        0.000893\n",
       "3        3               0.631423                        0.001625\n",
       "4        4               0.840339                        0.091068\n",
       "..     ...                    ...                             ...\n",
       "375    384               0.916722                        0.285063\n",
       "376    385               0.630680                        0.002791\n",
       "377    386               0.494303                        0.000277\n",
       "378    387               0.438722                        0.000145\n",
       "379    388               0.531110                        0.000542\n",
       "\n",
       "[380 rows x 3 columns]"
      ]
     },
     "execution_count": 104,
     "metadata": {},
     "output_type": "execute_result"
    }
   ],
   "source": [
    "membership_participation"
   ]
  },
  {
   "cell_type": "markdown",
   "id": "17681f44-d7f4-4ae9-ba73-5a04f88ddaa4",
   "metadata": {},
   "source": [
    "We merge them on the indexes."
   ]
  },
  {
   "cell_type": "code",
   "execution_count": 105,
   "id": "d52e2820-a1cb-4bb9-9c25-1a515d27f356",
   "metadata": {},
   "outputs": [],
   "source": [
    "membership_prob = pd.merge(membership_participation, pred_prob, left_index=True, right_index=True)"
   ]
  },
  {
   "cell_type": "markdown",
   "id": "109c3518-5ba8-4767-b286-d073c0ede5a0",
   "metadata": {},
   "source": [
    "We drop the two index columns we don't need anymore."
   ]
  },
  {
   "cell_type": "code",
   "execution_count": 106,
   "id": "38e82e61-ef02-4811-bdc3-ffadbc42e321",
   "metadata": {},
   "outputs": [],
   "source": [
    "membership_prob = membership_prob.drop(columns=['index_x','index_y'])"
   ]
  },
  {
   "cell_type": "code",
   "execution_count": 107,
   "id": "0ce1447f-3bf1-473a-890d-f397185f16cd",
   "metadata": {},
   "outputs": [
    {
     "data": {
      "text/html": [
       "<div>\n",
       "<style scoped>\n",
       "    .dataframe tbody tr th:only-of-type {\n",
       "        vertical-align: middle;\n",
       "    }\n",
       "\n",
       "    .dataframe tbody tr th {\n",
       "        vertical-align: top;\n",
       "    }\n",
       "\n",
       "    .dataframe thead th {\n",
       "        text-align: right;\n",
       "    }\n",
       "</style>\n",
       "<table border=\"1\" class=\"dataframe\">\n",
       "  <thead>\n",
       "    <tr style=\"text-align: right;\">\n",
       "      <th></th>\n",
       "      <th>membership_per_capita</th>\n",
       "      <th>PERCENTAGEPOPULARPARTICIPATION</th>\n",
       "      <th>probabilities</th>\n",
       "    </tr>\n",
       "  </thead>\n",
       "  <tbody>\n",
       "    <tr>\n",
       "      <th>0</th>\n",
       "      <td>0.556087</td>\n",
       "      <td>0.000641</td>\n",
       "      <td>0.295117</td>\n",
       "    </tr>\n",
       "    <tr>\n",
       "      <th>1</th>\n",
       "      <td>0.558320</td>\n",
       "      <td>0.000685</td>\n",
       "      <td>0.298870</td>\n",
       "    </tr>\n",
       "    <tr>\n",
       "      <th>2</th>\n",
       "      <td>0.585154</td>\n",
       "      <td>0.000893</td>\n",
       "      <td>0.345998</td>\n",
       "    </tr>\n",
       "    <tr>\n",
       "      <th>3</th>\n",
       "      <td>0.631423</td>\n",
       "      <td>0.001625</td>\n",
       "      <td>0.434322</td>\n",
       "    </tr>\n",
       "    <tr>\n",
       "      <th>4</th>\n",
       "      <td>0.840339</td>\n",
       "      <td>0.091068</td>\n",
       "      <td>0.804936</td>\n",
       "    </tr>\n",
       "    <tr>\n",
       "      <th>...</th>\n",
       "      <td>...</td>\n",
       "      <td>...</td>\n",
       "      <td>...</td>\n",
       "    </tr>\n",
       "    <tr>\n",
       "      <th>375</th>\n",
       "      <td>0.916722</td>\n",
       "      <td>0.285063</td>\n",
       "      <td>0.884145</td>\n",
       "    </tr>\n",
       "    <tr>\n",
       "      <th>376</th>\n",
       "      <td>0.630680</td>\n",
       "      <td>0.002791</td>\n",
       "      <td>0.432853</td>\n",
       "    </tr>\n",
       "    <tr>\n",
       "      <th>377</th>\n",
       "      <td>0.494303</td>\n",
       "      <td>0.000277</td>\n",
       "      <td>0.202945</td>\n",
       "    </tr>\n",
       "    <tr>\n",
       "      <th>378</th>\n",
       "      <td>0.438722</td>\n",
       "      <td>0.000145</td>\n",
       "      <td>0.139988</td>\n",
       "    </tr>\n",
       "    <tr>\n",
       "      <th>379</th>\n",
       "      <td>0.531110</td>\n",
       "      <td>0.000542</td>\n",
       "      <td>0.255078</td>\n",
       "    </tr>\n",
       "  </tbody>\n",
       "</table>\n",
       "<p>380 rows × 3 columns</p>\n",
       "</div>"
      ],
      "text/plain": [
       "     membership_per_capita  PERCENTAGEPOPULARPARTICIPATION  probabilities\n",
       "0                 0.556087                        0.000641       0.295117\n",
       "1                 0.558320                        0.000685       0.298870\n",
       "2                 0.585154                        0.000893       0.345998\n",
       "3                 0.631423                        0.001625       0.434322\n",
       "4                 0.840339                        0.091068       0.804936\n",
       "..                     ...                             ...            ...\n",
       "375               0.916722                        0.285063       0.884145\n",
       "376               0.630680                        0.002791       0.432853\n",
       "377               0.494303                        0.000277       0.202945\n",
       "378               0.438722                        0.000145       0.139988\n",
       "379               0.531110                        0.000542       0.255078\n",
       "\n",
       "[380 rows x 3 columns]"
      ]
     },
     "execution_count": 107,
     "metadata": {},
     "output_type": "execute_result"
    }
   ],
   "source": [
    "membership_prob"
   ]
  },
  {
   "cell_type": "markdown",
   "id": "c5650ea3-d149-4502-b434-cf25ce5489fe",
   "metadata": {},
   "source": [
    "Now that we have gathered our essential data for the step, let's see the confidence intervals."
   ]
  },
  {
   "cell_type": "code",
   "execution_count": 108,
   "id": "3ee5f163-c46e-49e1-b9d3-e72deffd777d",
   "metadata": {},
   "outputs": [],
   "source": [
    "pred_ci = pd.DataFrame(pred_ci, columns=['lower_bound', 'upper_bound']).reset_index()"
   ]
  },
  {
   "cell_type": "code",
   "execution_count": 109,
   "id": "2db7bafe-3884-4ec5-abe9-1738f7fa0d36",
   "metadata": {},
   "outputs": [
    {
     "data": {
      "text/html": [
       "<div>\n",
       "<style scoped>\n",
       "    .dataframe tbody tr th:only-of-type {\n",
       "        vertical-align: middle;\n",
       "    }\n",
       "\n",
       "    .dataframe tbody tr th {\n",
       "        vertical-align: top;\n",
       "    }\n",
       "\n",
       "    .dataframe thead th {\n",
       "        text-align: right;\n",
       "    }\n",
       "</style>\n",
       "<table border=\"1\" class=\"dataframe\">\n",
       "  <thead>\n",
       "    <tr style=\"text-align: right;\">\n",
       "      <th></th>\n",
       "      <th>index</th>\n",
       "      <th>lower_bound</th>\n",
       "      <th>upper_bound</th>\n",
       "    </tr>\n",
       "  </thead>\n",
       "  <tbody>\n",
       "    <tr>\n",
       "      <th>0</th>\n",
       "      <td>0</td>\n",
       "      <td>0.140412</td>\n",
       "      <td>0.517631</td>\n",
       "    </tr>\n",
       "    <tr>\n",
       "      <th>1</th>\n",
       "      <td>1</td>\n",
       "      <td>0.143685</td>\n",
       "      <td>0.519902</td>\n",
       "    </tr>\n",
       "    <tr>\n",
       "      <th>2</th>\n",
       "      <td>2</td>\n",
       "      <td>0.184555</td>\n",
       "      <td>0.552908</td>\n",
       "    </tr>\n",
       "    <tr>\n",
       "      <th>3</th>\n",
       "      <td>3</td>\n",
       "      <td>0.250766</td>\n",
       "      <td>0.637853</td>\n",
       "    </tr>\n",
       "    <tr>\n",
       "      <th>4</th>\n",
       "      <td>4</td>\n",
       "      <td>0.353894</td>\n",
       "      <td>0.968836</td>\n",
       "    </tr>\n",
       "    <tr>\n",
       "      <th>...</th>\n",
       "      <td>...</td>\n",
       "      <td>...</td>\n",
       "      <td>...</td>\n",
       "    </tr>\n",
       "    <tr>\n",
       "      <th>375</th>\n",
       "      <td>375</td>\n",
       "      <td>0.361749</td>\n",
       "      <td>0.990362</td>\n",
       "    </tr>\n",
       "    <tr>\n",
       "      <th>376</th>\n",
       "      <td>376</td>\n",
       "      <td>0.249839</td>\n",
       "      <td>0.636228</td>\n",
       "    </tr>\n",
       "    <tr>\n",
       "      <th>377</th>\n",
       "      <td>377</td>\n",
       "      <td>0.066849</td>\n",
       "      <td>0.475058</td>\n",
       "    </tr>\n",
       "    <tr>\n",
       "      <th>378</th>\n",
       "      <td>378</td>\n",
       "      <td>0.030605</td>\n",
       "      <td>0.456297</td>\n",
       "    </tr>\n",
       "    <tr>\n",
       "      <th>379</th>\n",
       "      <td>379</td>\n",
       "      <td>0.106350</td>\n",
       "      <td>0.496291</td>\n",
       "    </tr>\n",
       "  </tbody>\n",
       "</table>\n",
       "<p>380 rows × 3 columns</p>\n",
       "</div>"
      ],
      "text/plain": [
       "     index  lower_bound  upper_bound\n",
       "0        0     0.140412     0.517631\n",
       "1        1     0.143685     0.519902\n",
       "2        2     0.184555     0.552908\n",
       "3        3     0.250766     0.637853\n",
       "4        4     0.353894     0.968836\n",
       "..     ...          ...          ...\n",
       "375    375     0.361749     0.990362\n",
       "376    376     0.249839     0.636228\n",
       "377    377     0.066849     0.475058\n",
       "378    378     0.030605     0.456297\n",
       "379    379     0.106350     0.496291\n",
       "\n",
       "[380 rows x 3 columns]"
      ]
     },
     "execution_count": 109,
     "metadata": {},
     "output_type": "execute_result"
    }
   ],
   "source": [
    "pred_ci"
   ]
  },
  {
   "cell_type": "code",
   "execution_count": 110,
   "id": "322b4524-464f-44d5-b856-55ce0c3292c5",
   "metadata": {},
   "outputs": [],
   "source": [
    "result_df = pd.merge(membership_prob, pred_ci, left_index=True, right_index=True)"
   ]
  },
  {
   "cell_type": "code",
   "execution_count": 111,
   "id": "31b39844-bc3b-46b5-be14-d8aab54bac6c",
   "metadata": {},
   "outputs": [
    {
     "data": {
      "text/html": [
       "<div>\n",
       "<style scoped>\n",
       "    .dataframe tbody tr th:only-of-type {\n",
       "        vertical-align: middle;\n",
       "    }\n",
       "\n",
       "    .dataframe tbody tr th {\n",
       "        vertical-align: top;\n",
       "    }\n",
       "\n",
       "    .dataframe thead th {\n",
       "        text-align: right;\n",
       "    }\n",
       "</style>\n",
       "<table border=\"1\" class=\"dataframe\">\n",
       "  <thead>\n",
       "    <tr style=\"text-align: right;\">\n",
       "      <th></th>\n",
       "      <th>membership_per_capita</th>\n",
       "      <th>PERCENTAGEPOPULARPARTICIPATION</th>\n",
       "      <th>probabilities</th>\n",
       "      <th>index</th>\n",
       "      <th>lower_bound</th>\n",
       "      <th>upper_bound</th>\n",
       "    </tr>\n",
       "  </thead>\n",
       "  <tbody>\n",
       "    <tr>\n",
       "      <th>0</th>\n",
       "      <td>0.556087</td>\n",
       "      <td>0.000641</td>\n",
       "      <td>0.295117</td>\n",
       "      <td>0</td>\n",
       "      <td>0.140412</td>\n",
       "      <td>0.517631</td>\n",
       "    </tr>\n",
       "    <tr>\n",
       "      <th>1</th>\n",
       "      <td>0.558320</td>\n",
       "      <td>0.000685</td>\n",
       "      <td>0.298870</td>\n",
       "      <td>1</td>\n",
       "      <td>0.143685</td>\n",
       "      <td>0.519902</td>\n",
       "    </tr>\n",
       "    <tr>\n",
       "      <th>2</th>\n",
       "      <td>0.585154</td>\n",
       "      <td>0.000893</td>\n",
       "      <td>0.345998</td>\n",
       "      <td>2</td>\n",
       "      <td>0.184555</td>\n",
       "      <td>0.552908</td>\n",
       "    </tr>\n",
       "    <tr>\n",
       "      <th>3</th>\n",
       "      <td>0.631423</td>\n",
       "      <td>0.001625</td>\n",
       "      <td>0.434322</td>\n",
       "      <td>3</td>\n",
       "      <td>0.250766</td>\n",
       "      <td>0.637853</td>\n",
       "    </tr>\n",
       "    <tr>\n",
       "      <th>4</th>\n",
       "      <td>0.840339</td>\n",
       "      <td>0.091068</td>\n",
       "      <td>0.804936</td>\n",
       "      <td>4</td>\n",
       "      <td>0.353894</td>\n",
       "      <td>0.968836</td>\n",
       "    </tr>\n",
       "    <tr>\n",
       "      <th>...</th>\n",
       "      <td>...</td>\n",
       "      <td>...</td>\n",
       "      <td>...</td>\n",
       "      <td>...</td>\n",
       "      <td>...</td>\n",
       "      <td>...</td>\n",
       "    </tr>\n",
       "    <tr>\n",
       "      <th>375</th>\n",
       "      <td>0.916722</td>\n",
       "      <td>0.285063</td>\n",
       "      <td>0.884145</td>\n",
       "      <td>375</td>\n",
       "      <td>0.361749</td>\n",
       "      <td>0.990362</td>\n",
       "    </tr>\n",
       "    <tr>\n",
       "      <th>376</th>\n",
       "      <td>0.630680</td>\n",
       "      <td>0.002791</td>\n",
       "      <td>0.432853</td>\n",
       "      <td>376</td>\n",
       "      <td>0.249839</td>\n",
       "      <td>0.636228</td>\n",
       "    </tr>\n",
       "    <tr>\n",
       "      <th>377</th>\n",
       "      <td>0.494303</td>\n",
       "      <td>0.000277</td>\n",
       "      <td>0.202945</td>\n",
       "      <td>377</td>\n",
       "      <td>0.066849</td>\n",
       "      <td>0.475058</td>\n",
       "    </tr>\n",
       "    <tr>\n",
       "      <th>378</th>\n",
       "      <td>0.438722</td>\n",
       "      <td>0.000145</td>\n",
       "      <td>0.139988</td>\n",
       "      <td>378</td>\n",
       "      <td>0.030605</td>\n",
       "      <td>0.456297</td>\n",
       "    </tr>\n",
       "    <tr>\n",
       "      <th>379</th>\n",
       "      <td>0.531110</td>\n",
       "      <td>0.000542</td>\n",
       "      <td>0.255078</td>\n",
       "      <td>379</td>\n",
       "      <td>0.106350</td>\n",
       "      <td>0.496291</td>\n",
       "    </tr>\n",
       "  </tbody>\n",
       "</table>\n",
       "<p>380 rows × 6 columns</p>\n",
       "</div>"
      ],
      "text/plain": [
       "     membership_per_capita  PERCENTAGEPOPULARPARTICIPATION  probabilities  \\\n",
       "0                 0.556087                        0.000641       0.295117   \n",
       "1                 0.558320                        0.000685       0.298870   \n",
       "2                 0.585154                        0.000893       0.345998   \n",
       "3                 0.631423                        0.001625       0.434322   \n",
       "4                 0.840339                        0.091068       0.804936   \n",
       "..                     ...                             ...            ...   \n",
       "375               0.916722                        0.285063       0.884145   \n",
       "376               0.630680                        0.002791       0.432853   \n",
       "377               0.494303                        0.000277       0.202945   \n",
       "378               0.438722                        0.000145       0.139988   \n",
       "379               0.531110                        0.000542       0.255078   \n",
       "\n",
       "     index  lower_bound  upper_bound  \n",
       "0        0     0.140412     0.517631  \n",
       "1        1     0.143685     0.519902  \n",
       "2        2     0.184555     0.552908  \n",
       "3        3     0.250766     0.637853  \n",
       "4        4     0.353894     0.968836  \n",
       "..     ...          ...          ...  \n",
       "375    375     0.361749     0.990362  \n",
       "376    376     0.249839     0.636228  \n",
       "377    377     0.066849     0.475058  \n",
       "378    378     0.030605     0.456297  \n",
       "379    379     0.106350     0.496291  \n",
       "\n",
       "[380 rows x 6 columns]"
      ]
     },
     "execution_count": 111,
     "metadata": {},
     "output_type": "execute_result"
    }
   ],
   "source": [
    "result_df"
   ]
  },
  {
   "cell_type": "markdown",
   "id": "4ff55ac8-cbbc-4d9f-a80c-fad0e691128e",
   "metadata": {},
   "source": [
    "Once again we drop the index column"
   ]
  },
  {
   "cell_type": "code",
   "execution_count": 112,
   "id": "ed3ae2e8-bddd-4b3e-a807-c640e09de67e",
   "metadata": {},
   "outputs": [],
   "source": [
    "result_df = result_df.drop(columns=['index'])"
   ]
  },
  {
   "cell_type": "code",
   "execution_count": 113,
   "id": "7fe2ca70-6d11-4951-af9f-3a4aa91e4364",
   "metadata": {},
   "outputs": [
    {
     "data": {
      "text/html": [
       "<div>\n",
       "<style scoped>\n",
       "    .dataframe tbody tr th:only-of-type {\n",
       "        vertical-align: middle;\n",
       "    }\n",
       "\n",
       "    .dataframe tbody tr th {\n",
       "        vertical-align: top;\n",
       "    }\n",
       "\n",
       "    .dataframe thead th {\n",
       "        text-align: right;\n",
       "    }\n",
       "</style>\n",
       "<table border=\"1\" class=\"dataframe\">\n",
       "  <thead>\n",
       "    <tr style=\"text-align: right;\">\n",
       "      <th></th>\n",
       "      <th>membership_per_capita</th>\n",
       "      <th>PERCENTAGEPOPULARPARTICIPATION</th>\n",
       "      <th>probabilities</th>\n",
       "      <th>lower_bound</th>\n",
       "      <th>upper_bound</th>\n",
       "    </tr>\n",
       "  </thead>\n",
       "  <tbody>\n",
       "    <tr>\n",
       "      <th>0</th>\n",
       "      <td>0.556087</td>\n",
       "      <td>0.000641</td>\n",
       "      <td>0.295117</td>\n",
       "      <td>0.140412</td>\n",
       "      <td>0.517631</td>\n",
       "    </tr>\n",
       "    <tr>\n",
       "      <th>1</th>\n",
       "      <td>0.558320</td>\n",
       "      <td>0.000685</td>\n",
       "      <td>0.298870</td>\n",
       "      <td>0.143685</td>\n",
       "      <td>0.519902</td>\n",
       "    </tr>\n",
       "    <tr>\n",
       "      <th>2</th>\n",
       "      <td>0.585154</td>\n",
       "      <td>0.000893</td>\n",
       "      <td>0.345998</td>\n",
       "      <td>0.184555</td>\n",
       "      <td>0.552908</td>\n",
       "    </tr>\n",
       "    <tr>\n",
       "      <th>3</th>\n",
       "      <td>0.631423</td>\n",
       "      <td>0.001625</td>\n",
       "      <td>0.434322</td>\n",
       "      <td>0.250766</td>\n",
       "      <td>0.637853</td>\n",
       "    </tr>\n",
       "    <tr>\n",
       "      <th>4</th>\n",
       "      <td>0.840339</td>\n",
       "      <td>0.091068</td>\n",
       "      <td>0.804936</td>\n",
       "      <td>0.353894</td>\n",
       "      <td>0.968836</td>\n",
       "    </tr>\n",
       "    <tr>\n",
       "      <th>...</th>\n",
       "      <td>...</td>\n",
       "      <td>...</td>\n",
       "      <td>...</td>\n",
       "      <td>...</td>\n",
       "      <td>...</td>\n",
       "    </tr>\n",
       "    <tr>\n",
       "      <th>375</th>\n",
       "      <td>0.916722</td>\n",
       "      <td>0.285063</td>\n",
       "      <td>0.884145</td>\n",
       "      <td>0.361749</td>\n",
       "      <td>0.990362</td>\n",
       "    </tr>\n",
       "    <tr>\n",
       "      <th>376</th>\n",
       "      <td>0.630680</td>\n",
       "      <td>0.002791</td>\n",
       "      <td>0.432853</td>\n",
       "      <td>0.249839</td>\n",
       "      <td>0.636228</td>\n",
       "    </tr>\n",
       "    <tr>\n",
       "      <th>377</th>\n",
       "      <td>0.494303</td>\n",
       "      <td>0.000277</td>\n",
       "      <td>0.202945</td>\n",
       "      <td>0.066849</td>\n",
       "      <td>0.475058</td>\n",
       "    </tr>\n",
       "    <tr>\n",
       "      <th>378</th>\n",
       "      <td>0.438722</td>\n",
       "      <td>0.000145</td>\n",
       "      <td>0.139988</td>\n",
       "      <td>0.030605</td>\n",
       "      <td>0.456297</td>\n",
       "    </tr>\n",
       "    <tr>\n",
       "      <th>379</th>\n",
       "      <td>0.531110</td>\n",
       "      <td>0.000542</td>\n",
       "      <td>0.255078</td>\n",
       "      <td>0.106350</td>\n",
       "      <td>0.496291</td>\n",
       "    </tr>\n",
       "  </tbody>\n",
       "</table>\n",
       "<p>380 rows × 5 columns</p>\n",
       "</div>"
      ],
      "text/plain": [
       "     membership_per_capita  PERCENTAGEPOPULARPARTICIPATION  probabilities  \\\n",
       "0                 0.556087                        0.000641       0.295117   \n",
       "1                 0.558320                        0.000685       0.298870   \n",
       "2                 0.585154                        0.000893       0.345998   \n",
       "3                 0.631423                        0.001625       0.434322   \n",
       "4                 0.840339                        0.091068       0.804936   \n",
       "..                     ...                             ...            ...   \n",
       "375               0.916722                        0.285063       0.884145   \n",
       "376               0.630680                        0.002791       0.432853   \n",
       "377               0.494303                        0.000277       0.202945   \n",
       "378               0.438722                        0.000145       0.139988   \n",
       "379               0.531110                        0.000542       0.255078   \n",
       "\n",
       "     lower_bound  upper_bound  \n",
       "0       0.140412     0.517631  \n",
       "1       0.143685     0.519902  \n",
       "2       0.184555     0.552908  \n",
       "3       0.250766     0.637853  \n",
       "4       0.353894     0.968836  \n",
       "..           ...          ...  \n",
       "375     0.361749     0.990362  \n",
       "376     0.249839     0.636228  \n",
       "377     0.066849     0.475058  \n",
       "378     0.030605     0.456297  \n",
       "379     0.106350     0.496291  \n",
       "\n",
       "[380 rows x 5 columns]"
      ]
     },
     "execution_count": 113,
     "metadata": {},
     "output_type": "execute_result"
    }
   ],
   "source": [
    "result_df"
   ]
  },
  {
   "cell_type": "markdown",
   "id": "c55749cb-85cc-4484-8d17-07d8e5f64e87",
   "metadata": {},
   "source": [
    "We got our dataframe ready for our crusial step."
   ]
  },
  {
   "cell_type": "code",
   "execution_count": 114,
   "id": "8b261e95-db31-4ec1-baf0-303b47f4095d",
   "metadata": {},
   "outputs": [],
   "source": [
    "result_df = result_df.sort_values(by='probabilities')"
   ]
  },
  {
   "cell_type": "markdown",
   "id": "e2c65a34-ed30-47df-a880-466aa7d6f974",
   "metadata": {},
   "source": [
    "**Commmets on the plot:**\n",
    "* First we plot the membersip per capita with it's probability of success.\n",
    "* Next step, we create the space of the confidence intervals to see how much a probability of success can vary.\n",
    "* We enable grid for better understanding.\n",
    "* We plot the red line which represents the probability of success we are looking for."
   ]
  },
  {
   "cell_type": "code",
   "execution_count": 115,
   "id": "9ed6651c-8726-4337-8be9-2322cf6b7893",
   "metadata": {},
   "outputs": [],
   "source": [
    "result_df = result_df.sort_values(by='membership_per_capita')"
   ]
  },
  {
   "cell_type": "code",
   "execution_count": 116,
   "id": "4101937a-a265-4276-8a0b-a144fa8c9be1",
   "metadata": {},
   "outputs": [
    {
     "data": {
      "image/png": "[encoded data removed]",
      "text/plain": [
       "<Figure size 640x480 with 1 Axes>"
      ]
     },
     "metadata": {},
     "output_type": "display_data"
    }
   ],
   "source": [
    "plt.plot(result_df['membership_per_capita'], result_df['probabilities'],color = '#5B7CB5', label='Predicted Probability of Success')\n",
    "plt.fill_between(result_df['membership_per_capita'],result_df['lower_bound'], result_df['upper_bound'], color='#D9E0EC', alpha=0.5, label='95% CI')\n",
    "\n",
    "\n",
    "plt.xlabel('Membership per Person')\n",
    "plt.ylabel('Probability of Success')\n",
    "plt.grid(True)\n",
    "plt.axhline(y=0.99, color='red', label='0.99 Probability of Success')\n",
    "\n",
    "plt.show()"
   ]
  },
  {
   "cell_type": "markdown",
   "id": "f670c70a-c51a-4125-bde3-2a107268fa35",
   "metadata": {},
   "source": [
    "**Last step** is to find the upper bounds that touch the red line of 99% probability of success to see which is the minimum percentage of participation."
   ]
  },
  {
   "cell_type": "markdown",
   "id": "5a3fcaa8-54c1-4064-a8ff-0d06088c292e",
   "metadata": {},
   "source": [
    "We keep only the rows with upper bound touching the red line."
   ]
  },
  {
   "cell_type": "code",
   "execution_count": 117,
   "id": "6da9abe2-a5bd-40b9-aef4-186bdaf1f78e",
   "metadata": {},
   "outputs": [],
   "source": [
    "final_df = result_df[result_df['upper_bound']>=0.99]"
   ]
  },
  {
   "cell_type": "markdown",
   "id": "febb7b4c-a5b6-43f2-b0dc-a667155b4d65",
   "metadata": {},
   "source": [
    "We find the minimun of them."
   ]
  },
  {
   "cell_type": "code",
   "execution_count": 118,
   "id": "8c6a3738-caca-466e-a4e7-b9254aa85e28",
   "metadata": {},
   "outputs": [
    {
     "data": {
      "text/plain": [
       "0.9903618798732311"
      ]
     },
     "execution_count": 118,
     "metadata": {},
     "output_type": "execute_result"
    }
   ],
   "source": [
    "final_df['upper_bound'].min()"
   ]
  },
  {
   "cell_type": "markdown",
   "id": "b5530f3d-6730-46f6-b209-194c8b3c13c2",
   "metadata": {},
   "source": [
    "The least percentage of participation needed to accomplish 99% probability of success is the minimun upper bound found."
   ]
  },
  {
   "cell_type": "code",
   "execution_count": 119,
   "id": "5df8e696-3121-4352-8286-5b8dba29ecd7",
   "metadata": {},
   "outputs": [
    {
     "data": {
      "text/plain": [
       "0.2850627137970353"
      ]
     },
     "execution_count": 119,
     "metadata": {},
     "output_type": "execute_result"
    }
   ],
   "source": [
    "final_df['PERCENTAGEPOPULARPARTICIPATION'].min()"
   ]
  },
  {
   "cell_type": "code",
   "execution_count": 120,
   "id": "1f8ea9a8-6807-4c8c-bd7b-0c6aa83817e2",
   "metadata": {},
   "outputs": [
    {
     "data": {
      "text/html": [
       "<div>\n",
       "<style scoped>\n",
       "    .dataframe tbody tr th:only-of-type {\n",
       "        vertical-align: middle;\n",
       "    }\n",
       "\n",
       "    .dataframe tbody tr th {\n",
       "        vertical-align: top;\n",
       "    }\n",
       "\n",
       "    .dataframe thead th {\n",
       "        text-align: right;\n",
       "    }\n",
       "</style>\n",
       "<table border=\"1\" class=\"dataframe\">\n",
       "  <thead>\n",
       "    <tr style=\"text-align: right;\">\n",
       "      <th></th>\n",
       "      <th>membership_per_capita</th>\n",
       "      <th>PERCENTAGEPOPULARPARTICIPATION</th>\n",
       "      <th>probabilities</th>\n",
       "      <th>lower_bound</th>\n",
       "      <th>upper_bound</th>\n",
       "    </tr>\n",
       "  </thead>\n",
       "  <tbody>\n",
       "    <tr>\n",
       "      <th>375</th>\n",
       "      <td>0.916722</td>\n",
       "      <td>0.285063</td>\n",
       "      <td>0.884145</td>\n",
       "      <td>0.361749</td>\n",
       "      <td>0.990362</td>\n",
       "    </tr>\n",
       "    <tr>\n",
       "      <th>14</th>\n",
       "      <td>0.930431</td>\n",
       "      <td>0.302013</td>\n",
       "      <td>0.894978</td>\n",
       "      <td>0.362721</td>\n",
       "      <td>0.992223</td>\n",
       "    </tr>\n",
       "    <tr>\n",
       "      <th>286</th>\n",
       "      <td>0.944982</td>\n",
       "      <td>0.450129</td>\n",
       "      <td>0.905489</td>\n",
       "      <td>0.363647</td>\n",
       "      <td>0.993813</td>\n",
       "    </tr>\n",
       "  </tbody>\n",
       "</table>\n",
       "</div>"
      ],
      "text/plain": [
       "     membership_per_capita  PERCENTAGEPOPULARPARTICIPATION  probabilities  \\\n",
       "375               0.916722                        0.285063       0.884145   \n",
       "14                0.930431                        0.302013       0.894978   \n",
       "286               0.944982                        0.450129       0.905489   \n",
       "\n",
       "     lower_bound  upper_bound  \n",
       "375     0.361749     0.990362  \n",
       "14      0.362721     0.992223  \n",
       "286     0.363647     0.993813  "
      ]
     },
     "execution_count": 120,
     "metadata": {},
     "output_type": "execute_result"
    }
   ],
   "source": [
    "final_df"
   ]
  },
  {
   "cell_type": "markdown",
   "id": "b300c79e-d454-43a2-b319-add5ac0c278b",
   "metadata": {},
   "source": [
    "In our occassion is the 28.5% of participation from our total population."
   ]
  },
  {
   "cell_type": "markdown",
   "id": "82c6691a-baf6-40cd-b2db-24ab9cd6d6a7",
   "metadata": {},
   "source": [
    "**Conclusion:**\n",
    "We need at least the participation of 28.5% of the total population so as to be there a probability of 99% success outcome.\n",
    "As much the participation percentage increases, so does and then probability of showing 99% success outcome."
   ]
  },
  {
   "cell_type": "markdown",
   "id": "03e55126-b9a5-4a98-b5aa-3754c0ce45e4",
   "metadata": {},
   "source": [
    "## Nonviolent Resistance and Target Regime Type"
   ]
  },
  {
   "cell_type": "markdown",
   "id": "472d19e0-ba85-4344-be1d-f69f4f4ba13a",
   "metadata": {},
   "source": [
    "In our last part of the survey we are going to analyse whether the regime type has a significant role in the non violent campaigns. "
   ]
  },
  {
   "cell_type": "markdown",
   "id": "f92cb191-9e21-46f1-8c04-fd92d5129b9b",
   "metadata": {},
   "source": [
    "Step 1 is to import the regime type in the dataframe we are working on."
   ]
  },
  {
   "cell_type": "code",
   "execution_count": 121,
   "id": "e07a4e0c-099d-4240-baba-5b89c3a6f975",
   "metadata": {},
   "outputs": [],
   "source": [
    "p5 = pd.read_excel('p5v2018.xls')"
   ]
  },
  {
   "cell_type": "code",
   "execution_count": 122,
   "id": "d966d98d-f8f3-47c1-a882-73f00d2af875",
   "metadata": {},
   "outputs": [
    {
     "data": {
      "text/html": [
       "<div>\n",
       "<style scoped>\n",
       "    .dataframe tbody tr th:only-of-type {\n",
       "        vertical-align: middle;\n",
       "    }\n",
       "\n",
       "    .dataframe tbody tr th {\n",
       "        vertical-align: top;\n",
       "    }\n",
       "\n",
       "    .dataframe thead th {\n",
       "        text-align: right;\n",
       "    }\n",
       "</style>\n",
       "<table border=\"1\" class=\"dataframe\">\n",
       "  <thead>\n",
       "    <tr style=\"text-align: right;\">\n",
       "      <th></th>\n",
       "      <th>p5</th>\n",
       "      <th>cyear</th>\n",
       "      <th>ccode</th>\n",
       "      <th>scode</th>\n",
       "      <th>country</th>\n",
       "      <th>year</th>\n",
       "      <th>flag</th>\n",
       "      <th>fragment</th>\n",
       "      <th>democ</th>\n",
       "      <th>autoc</th>\n",
       "      <th>polity</th>\n",
       "      <th>polity2</th>\n",
       "      <th>durable</th>\n",
       "      <th>xrreg</th>\n",
       "      <th>xrcomp</th>\n",
       "      <th>xropen</th>\n",
       "      <th>xconst</th>\n",
       "      <th>parreg</th>\n",
       "      <th>parcomp</th>\n",
       "      <th>exrec</th>\n",
       "      <th>exconst</th>\n",
       "      <th>polcomp</th>\n",
       "      <th>prior</th>\n",
       "      <th>emonth</th>\n",
       "      <th>eday</th>\n",
       "      <th>eyear</th>\n",
       "      <th>eprec</th>\n",
       "      <th>interim</th>\n",
       "      <th>bmonth</th>\n",
       "      <th>bday</th>\n",
       "      <th>byear</th>\n",
       "      <th>bprec</th>\n",
       "      <th>post</th>\n",
       "      <th>change</th>\n",
       "      <th>d5</th>\n",
       "      <th>sf</th>\n",
       "      <th>regtrans</th>\n",
       "    </tr>\n",
       "  </thead>\n",
       "  <tbody>\n",
       "    <tr>\n",
       "      <th>0</th>\n",
       "      <td>0</td>\n",
       "      <td>7001800</td>\n",
       "      <td>700</td>\n",
       "      <td>AFG</td>\n",
       "      <td>Afghanistan</td>\n",
       "      <td>1800</td>\n",
       "      <td>0</td>\n",
       "      <td>NaN</td>\n",
       "      <td>1</td>\n",
       "      <td>7</td>\n",
       "      <td>-6</td>\n",
       "      <td>-6.0</td>\n",
       "      <td>NaN</td>\n",
       "      <td>3</td>\n",
       "      <td>1</td>\n",
       "      <td>1</td>\n",
       "      <td>1</td>\n",
       "      <td>3</td>\n",
       "      <td>3</td>\n",
       "      <td>1.0</td>\n",
       "      <td>1</td>\n",
       "      <td>6.0</td>\n",
       "      <td>NaN</td>\n",
       "      <td>NaN</td>\n",
       "      <td>NaN</td>\n",
       "      <td>NaN</td>\n",
       "      <td>NaN</td>\n",
       "      <td>NaN</td>\n",
       "      <td>1.0</td>\n",
       "      <td>1.0</td>\n",
       "      <td>1800.0</td>\n",
       "      <td>1.0</td>\n",
       "      <td>-6.0</td>\n",
       "      <td>88.0</td>\n",
       "      <td>1.0</td>\n",
       "      <td>NaN</td>\n",
       "      <td>NaN</td>\n",
       "    </tr>\n",
       "    <tr>\n",
       "      <th>1</th>\n",
       "      <td>0</td>\n",
       "      <td>7001801</td>\n",
       "      <td>700</td>\n",
       "      <td>AFG</td>\n",
       "      <td>Afghanistan</td>\n",
       "      <td>1801</td>\n",
       "      <td>0</td>\n",
       "      <td>NaN</td>\n",
       "      <td>1</td>\n",
       "      <td>7</td>\n",
       "      <td>-6</td>\n",
       "      <td>-6.0</td>\n",
       "      <td>NaN</td>\n",
       "      <td>3</td>\n",
       "      <td>1</td>\n",
       "      <td>1</td>\n",
       "      <td>1</td>\n",
       "      <td>3</td>\n",
       "      <td>3</td>\n",
       "      <td>1.0</td>\n",
       "      <td>1</td>\n",
       "      <td>6.0</td>\n",
       "      <td>NaN</td>\n",
       "      <td>NaN</td>\n",
       "      <td>NaN</td>\n",
       "      <td>NaN</td>\n",
       "      <td>NaN</td>\n",
       "      <td>NaN</td>\n",
       "      <td>NaN</td>\n",
       "      <td>NaN</td>\n",
       "      <td>NaN</td>\n",
       "      <td>NaN</td>\n",
       "      <td>NaN</td>\n",
       "      <td>NaN</td>\n",
       "      <td>NaN</td>\n",
       "      <td>NaN</td>\n",
       "      <td>NaN</td>\n",
       "    </tr>\n",
       "    <tr>\n",
       "      <th>2</th>\n",
       "      <td>0</td>\n",
       "      <td>7001802</td>\n",
       "      <td>700</td>\n",
       "      <td>AFG</td>\n",
       "      <td>Afghanistan</td>\n",
       "      <td>1802</td>\n",
       "      <td>0</td>\n",
       "      <td>NaN</td>\n",
       "      <td>1</td>\n",
       "      <td>7</td>\n",
       "      <td>-6</td>\n",
       "      <td>-6.0</td>\n",
       "      <td>NaN</td>\n",
       "      <td>3</td>\n",
       "      <td>1</td>\n",
       "      <td>1</td>\n",
       "      <td>1</td>\n",
       "      <td>3</td>\n",
       "      <td>3</td>\n",
       "      <td>1.0</td>\n",
       "      <td>1</td>\n",
       "      <td>6.0</td>\n",
       "      <td>NaN</td>\n",
       "      <td>NaN</td>\n",
       "      <td>NaN</td>\n",
       "      <td>NaN</td>\n",
       "      <td>NaN</td>\n",
       "      <td>NaN</td>\n",
       "      <td>NaN</td>\n",
       "      <td>NaN</td>\n",
       "      <td>NaN</td>\n",
       "      <td>NaN</td>\n",
       "      <td>NaN</td>\n",
       "      <td>NaN</td>\n",
       "      <td>NaN</td>\n",
       "      <td>NaN</td>\n",
       "      <td>NaN</td>\n",
       "    </tr>\n",
       "    <tr>\n",
       "      <th>3</th>\n",
       "      <td>0</td>\n",
       "      <td>7001803</td>\n",
       "      <td>700</td>\n",
       "      <td>AFG</td>\n",
       "      <td>Afghanistan</td>\n",
       "      <td>1803</td>\n",
       "      <td>0</td>\n",
       "      <td>NaN</td>\n",
       "      <td>1</td>\n",
       "      <td>7</td>\n",
       "      <td>-6</td>\n",
       "      <td>-6.0</td>\n",
       "      <td>NaN</td>\n",
       "      <td>3</td>\n",
       "      <td>1</td>\n",
       "      <td>1</td>\n",
       "      <td>1</td>\n",
       "      <td>3</td>\n",
       "      <td>3</td>\n",
       "      <td>1.0</td>\n",
       "      <td>1</td>\n",
       "      <td>6.0</td>\n",
       "      <td>NaN</td>\n",
       "      <td>NaN</td>\n",
       "      <td>NaN</td>\n",
       "      <td>NaN</td>\n",
       "      <td>NaN</td>\n",
       "      <td>NaN</td>\n",
       "      <td>NaN</td>\n",
       "      <td>NaN</td>\n",
       "      <td>NaN</td>\n",
       "      <td>NaN</td>\n",
       "      <td>NaN</td>\n",
       "      <td>NaN</td>\n",
       "      <td>NaN</td>\n",
       "      <td>NaN</td>\n",
       "      <td>NaN</td>\n",
       "    </tr>\n",
       "    <tr>\n",
       "      <th>4</th>\n",
       "      <td>0</td>\n",
       "      <td>7001804</td>\n",
       "      <td>700</td>\n",
       "      <td>AFG</td>\n",
       "      <td>Afghanistan</td>\n",
       "      <td>1804</td>\n",
       "      <td>0</td>\n",
       "      <td>NaN</td>\n",
       "      <td>1</td>\n",
       "      <td>7</td>\n",
       "      <td>-6</td>\n",
       "      <td>-6.0</td>\n",
       "      <td>NaN</td>\n",
       "      <td>3</td>\n",
       "      <td>1</td>\n",
       "      <td>1</td>\n",
       "      <td>1</td>\n",
       "      <td>3</td>\n",
       "      <td>3</td>\n",
       "      <td>1.0</td>\n",
       "      <td>1</td>\n",
       "      <td>6.0</td>\n",
       "      <td>NaN</td>\n",
       "      <td>NaN</td>\n",
       "      <td>NaN</td>\n",
       "      <td>NaN</td>\n",
       "      <td>NaN</td>\n",
       "      <td>NaN</td>\n",
       "      <td>NaN</td>\n",
       "      <td>NaN</td>\n",
       "      <td>NaN</td>\n",
       "      <td>NaN</td>\n",
       "      <td>NaN</td>\n",
       "      <td>NaN</td>\n",
       "      <td>NaN</td>\n",
       "      <td>NaN</td>\n",
       "      <td>NaN</td>\n",
       "    </tr>\n",
       "    <tr>\n",
       "      <th>...</th>\n",
       "      <td>...</td>\n",
       "      <td>...</td>\n",
       "      <td>...</td>\n",
       "      <td>...</td>\n",
       "      <td>...</td>\n",
       "      <td>...</td>\n",
       "      <td>...</td>\n",
       "      <td>...</td>\n",
       "      <td>...</td>\n",
       "      <td>...</td>\n",
       "      <td>...</td>\n",
       "      <td>...</td>\n",
       "      <td>...</td>\n",
       "      <td>...</td>\n",
       "      <td>...</td>\n",
       "      <td>...</td>\n",
       "      <td>...</td>\n",
       "      <td>...</td>\n",
       "      <td>...</td>\n",
       "      <td>...</td>\n",
       "      <td>...</td>\n",
       "      <td>...</td>\n",
       "      <td>...</td>\n",
       "      <td>...</td>\n",
       "      <td>...</td>\n",
       "      <td>...</td>\n",
       "      <td>...</td>\n",
       "      <td>...</td>\n",
       "      <td>...</td>\n",
       "      <td>...</td>\n",
       "      <td>...</td>\n",
       "      <td>...</td>\n",
       "      <td>...</td>\n",
       "      <td>...</td>\n",
       "      <td>...</td>\n",
       "      <td>...</td>\n",
       "      <td>...</td>\n",
       "    </tr>\n",
       "    <tr>\n",
       "      <th>17569</th>\n",
       "      <td>1</td>\n",
       "      <td>5522014</td>\n",
       "      <td>552</td>\n",
       "      <td>ZIM</td>\n",
       "      <td>Zimbabwe</td>\n",
       "      <td>2014</td>\n",
       "      <td>0</td>\n",
       "      <td>0.0</td>\n",
       "      <td>5</td>\n",
       "      <td>1</td>\n",
       "      <td>4</td>\n",
       "      <td>4.0</td>\n",
       "      <td>1.0</td>\n",
       "      <td>2</td>\n",
       "      <td>2</td>\n",
       "      <td>4</td>\n",
       "      <td>5</td>\n",
       "      <td>3</td>\n",
       "      <td>3</td>\n",
       "      <td>7.0</td>\n",
       "      <td>5</td>\n",
       "      <td>6.0</td>\n",
       "      <td>NaN</td>\n",
       "      <td>NaN</td>\n",
       "      <td>NaN</td>\n",
       "      <td>NaN</td>\n",
       "      <td>NaN</td>\n",
       "      <td>NaN</td>\n",
       "      <td>NaN</td>\n",
       "      <td>NaN</td>\n",
       "      <td>NaN</td>\n",
       "      <td>NaN</td>\n",
       "      <td>NaN</td>\n",
       "      <td>NaN</td>\n",
       "      <td>NaN</td>\n",
       "      <td>NaN</td>\n",
       "      <td>NaN</td>\n",
       "    </tr>\n",
       "    <tr>\n",
       "      <th>17570</th>\n",
       "      <td>1</td>\n",
       "      <td>5522015</td>\n",
       "      <td>552</td>\n",
       "      <td>ZIM</td>\n",
       "      <td>Zimbabwe</td>\n",
       "      <td>2015</td>\n",
       "      <td>0</td>\n",
       "      <td>0.0</td>\n",
       "      <td>5</td>\n",
       "      <td>1</td>\n",
       "      <td>4</td>\n",
       "      <td>4.0</td>\n",
       "      <td>2.0</td>\n",
       "      <td>2</td>\n",
       "      <td>2</td>\n",
       "      <td>4</td>\n",
       "      <td>5</td>\n",
       "      <td>3</td>\n",
       "      <td>3</td>\n",
       "      <td>7.0</td>\n",
       "      <td>5</td>\n",
       "      <td>6.0</td>\n",
       "      <td>NaN</td>\n",
       "      <td>NaN</td>\n",
       "      <td>NaN</td>\n",
       "      <td>NaN</td>\n",
       "      <td>NaN</td>\n",
       "      <td>NaN</td>\n",
       "      <td>NaN</td>\n",
       "      <td>NaN</td>\n",
       "      <td>NaN</td>\n",
       "      <td>NaN</td>\n",
       "      <td>NaN</td>\n",
       "      <td>NaN</td>\n",
       "      <td>NaN</td>\n",
       "      <td>NaN</td>\n",
       "      <td>NaN</td>\n",
       "    </tr>\n",
       "    <tr>\n",
       "      <th>17571</th>\n",
       "      <td>1</td>\n",
       "      <td>5522016</td>\n",
       "      <td>552</td>\n",
       "      <td>ZIM</td>\n",
       "      <td>Zimbabwe</td>\n",
       "      <td>2016</td>\n",
       "      <td>0</td>\n",
       "      <td>0.0</td>\n",
       "      <td>5</td>\n",
       "      <td>1</td>\n",
       "      <td>4</td>\n",
       "      <td>4.0</td>\n",
       "      <td>3.0</td>\n",
       "      <td>2</td>\n",
       "      <td>2</td>\n",
       "      <td>4</td>\n",
       "      <td>5</td>\n",
       "      <td>3</td>\n",
       "      <td>3</td>\n",
       "      <td>7.0</td>\n",
       "      <td>5</td>\n",
       "      <td>6.0</td>\n",
       "      <td>NaN</td>\n",
       "      <td>NaN</td>\n",
       "      <td>NaN</td>\n",
       "      <td>NaN</td>\n",
       "      <td>NaN</td>\n",
       "      <td>NaN</td>\n",
       "      <td>NaN</td>\n",
       "      <td>NaN</td>\n",
       "      <td>NaN</td>\n",
       "      <td>NaN</td>\n",
       "      <td>NaN</td>\n",
       "      <td>NaN</td>\n",
       "      <td>NaN</td>\n",
       "      <td>NaN</td>\n",
       "      <td>NaN</td>\n",
       "    </tr>\n",
       "    <tr>\n",
       "      <th>17572</th>\n",
       "      <td>1</td>\n",
       "      <td>5522017</td>\n",
       "      <td>552</td>\n",
       "      <td>ZIM</td>\n",
       "      <td>Zimbabwe</td>\n",
       "      <td>2017</td>\n",
       "      <td>0</td>\n",
       "      <td>0.0</td>\n",
       "      <td>5</td>\n",
       "      <td>1</td>\n",
       "      <td>4</td>\n",
       "      <td>4.0</td>\n",
       "      <td>4.0</td>\n",
       "      <td>2</td>\n",
       "      <td>2</td>\n",
       "      <td>4</td>\n",
       "      <td>5</td>\n",
       "      <td>3</td>\n",
       "      <td>3</td>\n",
       "      <td>7.0</td>\n",
       "      <td>5</td>\n",
       "      <td>6.0</td>\n",
       "      <td>NaN</td>\n",
       "      <td>NaN</td>\n",
       "      <td>NaN</td>\n",
       "      <td>NaN</td>\n",
       "      <td>NaN</td>\n",
       "      <td>NaN</td>\n",
       "      <td>NaN</td>\n",
       "      <td>NaN</td>\n",
       "      <td>NaN</td>\n",
       "      <td>NaN</td>\n",
       "      <td>NaN</td>\n",
       "      <td>NaN</td>\n",
       "      <td>NaN</td>\n",
       "      <td>NaN</td>\n",
       "      <td>NaN</td>\n",
       "    </tr>\n",
       "    <tr>\n",
       "      <th>17573</th>\n",
       "      <td>1</td>\n",
       "      <td>5522018</td>\n",
       "      <td>552</td>\n",
       "      <td>ZIM</td>\n",
       "      <td>Zimbabwe</td>\n",
       "      <td>2018</td>\n",
       "      <td>0</td>\n",
       "      <td>0.0</td>\n",
       "      <td>5</td>\n",
       "      <td>1</td>\n",
       "      <td>4</td>\n",
       "      <td>4.0</td>\n",
       "      <td>5.0</td>\n",
       "      <td>2</td>\n",
       "      <td>2</td>\n",
       "      <td>4</td>\n",
       "      <td>5</td>\n",
       "      <td>3</td>\n",
       "      <td>3</td>\n",
       "      <td>7.0</td>\n",
       "      <td>5</td>\n",
       "      <td>6.0</td>\n",
       "      <td>NaN</td>\n",
       "      <td>NaN</td>\n",
       "      <td>NaN</td>\n",
       "      <td>NaN</td>\n",
       "      <td>NaN</td>\n",
       "      <td>NaN</td>\n",
       "      <td>NaN</td>\n",
       "      <td>NaN</td>\n",
       "      <td>NaN</td>\n",
       "      <td>NaN</td>\n",
       "      <td>NaN</td>\n",
       "      <td>NaN</td>\n",
       "      <td>NaN</td>\n",
       "      <td>NaN</td>\n",
       "      <td>NaN</td>\n",
       "    </tr>\n",
       "  </tbody>\n",
       "</table>\n",
       "<p>17574 rows × 37 columns</p>\n",
       "</div>"
      ],
      "text/plain": [
       "       p5    cyear  ccode scode      country  year  flag  fragment  democ  \\\n",
       "0       0  7001800    700   AFG  Afghanistan  1800     0       NaN      1   \n",
       "1       0  7001801    700   AFG  Afghanistan  1801     0       NaN      1   \n",
       "2       0  7001802    700   AFG  Afghanistan  1802     0       NaN      1   \n",
       "3       0  7001803    700   AFG  Afghanistan  1803     0       NaN      1   \n",
       "4       0  7001804    700   AFG  Afghanistan  1804     0       NaN      1   \n",
       "...    ..      ...    ...   ...          ...   ...   ...       ...    ...   \n",
       "17569   1  5522014    552   ZIM     Zimbabwe  2014     0       0.0      5   \n",
       "17570   1  5522015    552   ZIM     Zimbabwe  2015     0       0.0      5   \n",
       "17571   1  5522016    552   ZIM     Zimbabwe  2016     0       0.0      5   \n",
       "17572   1  5522017    552   ZIM     Zimbabwe  2017     0       0.0      5   \n",
       "17573   1  5522018    552   ZIM     Zimbabwe  2018     0       0.0      5   \n",
       "\n",
       "       autoc  polity  polity2  durable  xrreg  xrcomp  xropen  xconst  parreg  \\\n",
       "0          7      -6     -6.0      NaN      3       1       1       1       3   \n",
       "1          7      -6     -6.0      NaN      3       1       1       1       3   \n",
       "2          7      -6     -6.0      NaN      3       1       1       1       3   \n",
       "3          7      -6     -6.0      NaN      3       1       1       1       3   \n",
       "4          7      -6     -6.0      NaN      3       1       1       1       3   \n",
       "...      ...     ...      ...      ...    ...     ...     ...     ...     ...   \n",
       "17569      1       4      4.0      1.0      2       2       4       5       3   \n",
       "17570      1       4      4.0      2.0      2       2       4       5       3   \n",
       "17571      1       4      4.0      3.0      2       2       4       5       3   \n",
       "17572      1       4      4.0      4.0      2       2       4       5       3   \n",
       "17573      1       4      4.0      5.0      2       2       4       5       3   \n",
       "\n",
       "       parcomp  exrec  exconst  polcomp  prior  emonth  eday  eyear  eprec  \\\n",
       "0            3    1.0        1      6.0    NaN     NaN   NaN    NaN    NaN   \n",
       "1            3    1.0        1      6.0    NaN     NaN   NaN    NaN    NaN   \n",
       "2            3    1.0        1      6.0    NaN     NaN   NaN    NaN    NaN   \n",
       "3            3    1.0        1      6.0    NaN     NaN   NaN    NaN    NaN   \n",
       "4            3    1.0        1      6.0    NaN     NaN   NaN    NaN    NaN   \n",
       "...        ...    ...      ...      ...    ...     ...   ...    ...    ...   \n",
       "17569        3    7.0        5      6.0    NaN     NaN   NaN    NaN    NaN   \n",
       "17570        3    7.0        5      6.0    NaN     NaN   NaN    NaN    NaN   \n",
       "17571        3    7.0        5      6.0    NaN     NaN   NaN    NaN    NaN   \n",
       "17572        3    7.0        5      6.0    NaN     NaN   NaN    NaN    NaN   \n",
       "17573        3    7.0        5      6.0    NaN     NaN   NaN    NaN    NaN   \n",
       "\n",
       "       interim  bmonth  bday   byear  bprec  post  change   d5  sf  regtrans  \n",
       "0          NaN     1.0   1.0  1800.0    1.0  -6.0    88.0  1.0 NaN       NaN  \n",
       "1          NaN     NaN   NaN     NaN    NaN   NaN     NaN  NaN NaN       NaN  \n",
       "2          NaN     NaN   NaN     NaN    NaN   NaN     NaN  NaN NaN       NaN  \n",
       "3          NaN     NaN   NaN     NaN    NaN   NaN     NaN  NaN NaN       NaN  \n",
       "4          NaN     NaN   NaN     NaN    NaN   NaN     NaN  NaN NaN       NaN  \n",
       "...        ...     ...   ...     ...    ...   ...     ...  ...  ..       ...  \n",
       "17569      NaN     NaN   NaN     NaN    NaN   NaN     NaN  NaN NaN       NaN  \n",
       "17570      NaN     NaN   NaN     NaN    NaN   NaN     NaN  NaN NaN       NaN  \n",
       "17571      NaN     NaN   NaN     NaN    NaN   NaN     NaN  NaN NaN       NaN  \n",
       "17572      NaN     NaN   NaN     NaN    NaN   NaN     NaN  NaN NaN       NaN  \n",
       "17573      NaN     NaN   NaN     NaN    NaN   NaN     NaN  NaN NaN       NaN  \n",
       "\n",
       "[17574 rows x 37 columns]"
      ]
     },
     "execution_count": 122,
     "metadata": {},
     "output_type": "execute_result"
    }
   ],
   "source": [
    "p5"
   ]
  },
  {
   "cell_type": "markdown",
   "id": "93dd3477-91b8-4d4e-b3ab-25f2c3875bb4",
   "metadata": {},
   "source": [
    "To do this we create a new polityV column where we import the polity2 column from our new dataframe we just imported."
   ]
  },
  {
   "cell_type": "markdown",
   "id": "20980be8-4564-4da0-af87-a9ca440799b8",
   "metadata": {},
   "source": [
    "We are using polity2 and not polity because it modifies the combined annual POLITY score(-66, -77, and -88) to conventional polity scores (-10 to 10) \n",
    "* -66 Cases of foreign 'interruption' are inplace with NaN for 'missing values'.\n",
    "  \n",
    "* -77 Cases of 'interregnum', or anarchy, are converted to a 'neutral' Polity score using the 0 value.\n",
    "  \n",
    "* -88 Cases of 'transition' are counted in a proportional manner throughout the entire period of that transition."
   ]
  },
  {
   "cell_type": "code",
   "execution_count": 123,
   "id": "0f3da2aa-e08a-4397-9c8b-c07c66112eb8",
   "metadata": {},
   "outputs": [],
   "source": [
    "PolityV = df"
   ]
  },
  {
   "cell_type": "code",
   "execution_count": 124,
   "id": "85221609-f5f1-4cf6-85b4-57ba5998b091",
   "metadata": {},
   "outputs": [
    {
     "name": "stderr",
     "output_type": "stream",
     "text": [
      "C:\\Users\\falin\\AppData\\Local\\Temp\\ipykernel_18332\\49473769.py:1: SettingWithCopyWarning: \n",
      "A value is trying to be set on a copy of a slice from a DataFrame.\n",
      "Try using .loc[row_indexer,col_indexer] = value instead\n",
      "\n",
      "See the caveats in the documentation: https://pandas.pydata.org/pandas-docs/stable/user_guide/indexing.html#returning-a-view-versus-a-copy\n",
      "  PolityV['polityV'] = PolityV.apply(\n"
     ]
    }
   ],
   "source": [
    "PolityV['polityV'] = PolityV.apply(\n",
    "    lambda row: p5.loc[(p5['year'] == row['EYEAR']) & (p5['country'] == row['LOCATION']), 'polity2'].values[0]\n",
    "    if not p5[(p5['year'] == row['EYEAR']) & (p5['country'] == row['LOCATION'])].empty\n",
    "    else None,\n",
    "    axis=1\n",
    ")"
   ]
  },
  {
   "cell_type": "markdown",
   "id": "a723890e-55ad-4344-a1c5-6a5a846c8694",
   "metadata": {},
   "source": [
    "In this step we must clarify that in the polityV column we have values from -10 to 10. If the polityV is smaller than 0 then we are talking about an absolutist regime nation. If its larger than 0 then we are talking about a democratic one."
   ]
  },
  {
   "cell_type": "code",
   "execution_count": 125,
   "id": "b2f85f7f-987f-4a02-a728-dc2a38f6784f",
   "metadata": {},
   "outputs": [
    {
     "data": {
      "text/plain": [
       "0      NaN\n",
       "1     -8.0\n",
       "2     -7.0\n",
       "3     -1.0\n",
       "4      3.0\n",
       "      ... \n",
       "384    NaN\n",
       "385    6.0\n",
       "386    5.0\n",
       "387    NaN\n",
       "388   -6.0\n",
       "Name: polityV, Length: 380, dtype: float64"
      ]
     },
     "execution_count": 125,
     "metadata": {},
     "output_type": "execute_result"
    }
   ],
   "source": [
    "PolityV['polityV']"
   ]
  },
  {
   "cell_type": "markdown",
   "id": "78361d1b-9945-4132-aa12-7d20ace6d108",
   "metadata": {},
   "source": [
    "Important first step before we use the statsmodel is clean our dataframe from NaN values for the column we are going to use."
   ]
  },
  {
   "cell_type": "code",
   "execution_count": 126,
   "id": "2449d705-2633-4a29-9b9e-134583e5c7d8",
   "metadata": {},
   "outputs": [],
   "source": [
    "columns_to_check = ['PARTICIPATION', 'polityV']\n",
    "PolityV = PolityV.dropna(subset=columns_to_check, how='any')"
   ]
  },
  {
   "cell_type": "code",
   "execution_count": 127,
   "id": "4223d4ec-0e1f-4541-b763-b3785dec7a6f",
   "metadata": {},
   "outputs": [
    {
     "data": {
      "text/html": [
       "<div>\n",
       "<style scoped>\n",
       "    .dataframe tbody tr th:only-of-type {\n",
       "        vertical-align: middle;\n",
       "    }\n",
       "\n",
       "    .dataframe tbody tr th {\n",
       "        vertical-align: top;\n",
       "    }\n",
       "\n",
       "    .dataframe thead th {\n",
       "        text-align: right;\n",
       "    }\n",
       "</style>\n",
       "<table border=\"1\" class=\"dataframe\">\n",
       "  <thead>\n",
       "    <tr style=\"text-align: right;\">\n",
       "      <th></th>\n",
       "      <th>NAVCOID</th>\n",
       "      <th>CAMPAIGN</th>\n",
       "      <th>LOCATION</th>\n",
       "      <th>BYEAR</th>\n",
       "      <th>EYEAR</th>\n",
       "      <th>TARGET</th>\n",
       "      <th>SUCCESS</th>\n",
       "      <th>LIMITED</th>\n",
       "      <th>FAILURE</th>\n",
       "      <th>ONGOING</th>\n",
       "      <th>NONVIOL</th>\n",
       "      <th>VIOL</th>\n",
       "      <th>REGCHANGE</th>\n",
       "      <th>FSELFDET</th>\n",
       "      <th>SECESSION</th>\n",
       "      <th>OTHER</th>\n",
       "      <th>DURATION</th>\n",
       "      <th>PARTICIPATION</th>\n",
       "      <th>PERCENTAGEPOPULARPARTICIPATION</th>\n",
       "      <th>REGVIOL</th>\n",
       "      <th>DEFECT</th>\n",
       "      <th>VIOLENTFLANK</th>\n",
       "      <th>VIOLSIM</th>\n",
       "      <th>REGAID</th>\n",
       "      <th>STATESUP</th>\n",
       "      <th>Decade</th>\n",
       "      <th>CAMPAIGN_NAME</th>\n",
       "      <th>Participation_Percentage</th>\n",
       "      <th>Population</th>\n",
       "      <th>membership_per_capita</th>\n",
       "      <th>polityV</th>\n",
       "    </tr>\n",
       "  </thead>\n",
       "  <tbody>\n",
       "    <tr>\n",
       "      <th>1</th>\n",
       "      <td>3.0</td>\n",
       "      <td>Afghan resistance</td>\n",
       "      <td>Afghanistan</td>\n",
       "      <td>1980</td>\n",
       "      <td>1989.0</td>\n",
       "      <td>Soviet occupation</td>\n",
       "      <td>1.0</td>\n",
       "      <td>0.0</td>\n",
       "      <td>0.0</td>\n",
       "      <td>0.0</td>\n",
       "      <td>0.0</td>\n",
       "      <td>1.0</td>\n",
       "      <td>0.0</td>\n",
       "      <td>1.0</td>\n",
       "      <td>0.0</td>\n",
       "      <td>0.0</td>\n",
       "      <td>3281.0</td>\n",
       "      <td>10000.0</td>\n",
       "      <td>0.000685</td>\n",
       "      <td>1.0</td>\n",
       "      <td>0.0</td>\n",
       "      <td>NaN</td>\n",
       "      <td>1.0</td>\n",
       "      <td>0.0</td>\n",
       "      <td>1.0</td>\n",
       "      <td>1980</td>\n",
       "      <td>Afghanistan: Soviet occupation</td>\n",
       "      <td>0.07</td>\n",
       "      <td>1.460000e+07</td>\n",
       "      <td>0.558320</td>\n",
       "      <td>-8.0</td>\n",
       "    </tr>\n",
       "    <tr>\n",
       "      <th>2</th>\n",
       "      <td>218.0</td>\n",
       "      <td>Taliban/anti-government forces</td>\n",
       "      <td>Afghanistan</td>\n",
       "      <td>1992</td>\n",
       "      <td>1996.0</td>\n",
       "      <td>Afghan regime</td>\n",
       "      <td>1.0</td>\n",
       "      <td>0.0</td>\n",
       "      <td>0.0</td>\n",
       "      <td>0.0</td>\n",
       "      <td>0.0</td>\n",
       "      <td>1.0</td>\n",
       "      <td>1.0</td>\n",
       "      <td>0.0</td>\n",
       "      <td>0.0</td>\n",
       "      <td>0.0</td>\n",
       "      <td>1370.0</td>\n",
       "      <td>20000.0</td>\n",
       "      <td>0.000893</td>\n",
       "      <td>1.0</td>\n",
       "      <td>0.0</td>\n",
       "      <td>NaN</td>\n",
       "      <td>1.0</td>\n",
       "      <td>0.0</td>\n",
       "      <td>0.0</td>\n",
       "      <td>1990</td>\n",
       "      <td>Afghanistan: Afghan regime</td>\n",
       "      <td>0.09</td>\n",
       "      <td>2.240000e+07</td>\n",
       "      <td>0.585154</td>\n",
       "      <td>-7.0</td>\n",
       "    </tr>\n",
       "    <tr>\n",
       "      <th>3</th>\n",
       "      <td>217.0</td>\n",
       "      <td>Taliban</td>\n",
       "      <td>Afghanistan</td>\n",
       "      <td>2001</td>\n",
       "      <td>2014.0</td>\n",
       "      <td>Afghan government</td>\n",
       "      <td>0.0</td>\n",
       "      <td>0.0</td>\n",
       "      <td>1.0</td>\n",
       "      <td>1.0</td>\n",
       "      <td>0.0</td>\n",
       "      <td>1.0</td>\n",
       "      <td>1.0</td>\n",
       "      <td>0.0</td>\n",
       "      <td>0.0</td>\n",
       "      <td>0.0</td>\n",
       "      <td>4391.0</td>\n",
       "      <td>60000.0</td>\n",
       "      <td>0.001625</td>\n",
       "      <td>1.0</td>\n",
       "      <td>1.0</td>\n",
       "      <td>NaN</td>\n",
       "      <td>1.0</td>\n",
       "      <td>1.0</td>\n",
       "      <td>0.0</td>\n",
       "      <td>2010</td>\n",
       "      <td>Afghanistan: Afghan government</td>\n",
       "      <td>0.16</td>\n",
       "      <td>3.692109e+07</td>\n",
       "      <td>0.631423</td>\n",
       "      <td>-1.0</td>\n",
       "    </tr>\n",
       "    <tr>\n",
       "      <th>4</th>\n",
       "      <td>5.0</td>\n",
       "      <td>Albanian anti-communist</td>\n",
       "      <td>Albania</td>\n",
       "      <td>1990</td>\n",
       "      <td>1991.0</td>\n",
       "      <td>Communist regime</td>\n",
       "      <td>1.0</td>\n",
       "      <td>0.0</td>\n",
       "      <td>0.0</td>\n",
       "      <td>0.0</td>\n",
       "      <td>1.0</td>\n",
       "      <td>0.0</td>\n",
       "      <td>1.0</td>\n",
       "      <td>0.0</td>\n",
       "      <td>0.0</td>\n",
       "      <td>0.0</td>\n",
       "      <td>442.0</td>\n",
       "      <td>300000.0</td>\n",
       "      <td>0.091068</td>\n",
       "      <td>1.0</td>\n",
       "      <td>0.0</td>\n",
       "      <td>0.0</td>\n",
       "      <td>1.0</td>\n",
       "      <td>1.0</td>\n",
       "      <td>0.0</td>\n",
       "      <td>1990</td>\n",
       "      <td>Albania: Communist regime</td>\n",
       "      <td>9.11</td>\n",
       "      <td>3.294227e+06</td>\n",
       "      <td>0.840339</td>\n",
       "      <td>3.0</td>\n",
       "    </tr>\n",
       "    <tr>\n",
       "      <th>5</th>\n",
       "      <td>6.0</td>\n",
       "      <td>Algerian Revolt/National Liberation Front</td>\n",
       "      <td>Algeria</td>\n",
       "      <td>1954</td>\n",
       "      <td>1962.0</td>\n",
       "      <td>French occupation</td>\n",
       "      <td>1.0</td>\n",
       "      <td>0.0</td>\n",
       "      <td>0.0</td>\n",
       "      <td>0.0</td>\n",
       "      <td>0.0</td>\n",
       "      <td>1.0</td>\n",
       "      <td>0.0</td>\n",
       "      <td>1.0</td>\n",
       "      <td>0.0</td>\n",
       "      <td>0.0</td>\n",
       "      <td>2695.0</td>\n",
       "      <td>39000.0</td>\n",
       "      <td>0.003545</td>\n",
       "      <td>1.0</td>\n",
       "      <td>0.0</td>\n",
       "      <td>NaN</td>\n",
       "      <td>1.0</td>\n",
       "      <td>0.0</td>\n",
       "      <td>1.0</td>\n",
       "      <td>1960</td>\n",
       "      <td>Algeria: French occupation</td>\n",
       "      <td>0.35</td>\n",
       "      <td>1.100000e+07</td>\n",
       "      <td>0.652011</td>\n",
       "      <td>-8.0</td>\n",
       "    </tr>\n",
       "    <tr>\n",
       "      <th>...</th>\n",
       "      <td>...</td>\n",
       "      <td>...</td>\n",
       "      <td>...</td>\n",
       "      <td>...</td>\n",
       "      <td>...</td>\n",
       "      <td>...</td>\n",
       "      <td>...</td>\n",
       "      <td>...</td>\n",
       "      <td>...</td>\n",
       "      <td>...</td>\n",
       "      <td>...</td>\n",
       "      <td>...</td>\n",
       "      <td>...</td>\n",
       "      <td>...</td>\n",
       "      <td>...</td>\n",
       "      <td>...</td>\n",
       "      <td>...</td>\n",
       "      <td>...</td>\n",
       "      <td>...</td>\n",
       "      <td>...</td>\n",
       "      <td>...</td>\n",
       "      <td>...</td>\n",
       "      <td>...</td>\n",
       "      <td>...</td>\n",
       "      <td>...</td>\n",
       "      <td>...</td>\n",
       "      <td>...</td>\n",
       "      <td>...</td>\n",
       "      <td>...</td>\n",
       "      <td>...</td>\n",
       "      <td>...</td>\n",
       "    </tr>\n",
       "    <tr>\n",
       "      <th>379</th>\n",
       "      <td>119.0</td>\n",
       "      <td>Kosovo Albanian</td>\n",
       "      <td>Yugoslavia</td>\n",
       "      <td>1988</td>\n",
       "      <td>1998.0</td>\n",
       "      <td>Serbian rule</td>\n",
       "      <td>0.0</td>\n",
       "      <td>0.0</td>\n",
       "      <td>1.0</td>\n",
       "      <td>0.0</td>\n",
       "      <td>1.0</td>\n",
       "      <td>0.0</td>\n",
       "      <td>0.0</td>\n",
       "      <td>0.0</td>\n",
       "      <td>1.0</td>\n",
       "      <td>0.0</td>\n",
       "      <td>3390.0</td>\n",
       "      <td>10000.0</td>\n",
       "      <td>0.000943</td>\n",
       "      <td>1.0</td>\n",
       "      <td>0.0</td>\n",
       "      <td>1.0</td>\n",
       "      <td>0.0</td>\n",
       "      <td>0.0</td>\n",
       "      <td>1.0</td>\n",
       "      <td>1990</td>\n",
       "      <td>Yugoslavia: Serbian rule</td>\n",
       "      <td>0.09</td>\n",
       "      <td>1.060000e+07</td>\n",
       "      <td>0.569370</td>\n",
       "      <td>-6.0</td>\n",
       "    </tr>\n",
       "    <tr>\n",
       "      <th>380</th>\n",
       "      <td>61.0</td>\n",
       "      <td>Croats</td>\n",
       "      <td>Yugoslavia</td>\n",
       "      <td>1991</td>\n",
       "      <td>1992.0</td>\n",
       "      <td>Serb government</td>\n",
       "      <td>1.0</td>\n",
       "      <td>0.0</td>\n",
       "      <td>0.0</td>\n",
       "      <td>0.0</td>\n",
       "      <td>0.0</td>\n",
       "      <td>1.0</td>\n",
       "      <td>0.0</td>\n",
       "      <td>0.0</td>\n",
       "      <td>1.0</td>\n",
       "      <td>0.0</td>\n",
       "      <td>245.0</td>\n",
       "      <td>12500.0</td>\n",
       "      <td>0.001190</td>\n",
       "      <td>1.0</td>\n",
       "      <td>0.0</td>\n",
       "      <td>NaN</td>\n",
       "      <td>1.0</td>\n",
       "      <td>0.0</td>\n",
       "      <td>0.0</td>\n",
       "      <td>1990</td>\n",
       "      <td>Yugoslavia: Serb government</td>\n",
       "      <td>0.12</td>\n",
       "      <td>1.050000e+07</td>\n",
       "      <td>0.583507</td>\n",
       "      <td>-5.0</td>\n",
       "    </tr>\n",
       "    <tr>\n",
       "      <th>385</th>\n",
       "      <td>248.0</td>\n",
       "      <td>Zambia anti-single party rule</td>\n",
       "      <td>Zambia</td>\n",
       "      <td>1990</td>\n",
       "      <td>1991.0</td>\n",
       "      <td>One-party rule</td>\n",
       "      <td>1.0</td>\n",
       "      <td>0.0</td>\n",
       "      <td>0.0</td>\n",
       "      <td>0.0</td>\n",
       "      <td>1.0</td>\n",
       "      <td>0.0</td>\n",
       "      <td>1.0</td>\n",
       "      <td>0.0</td>\n",
       "      <td>0.0</td>\n",
       "      <td>0.0</td>\n",
       "      <td>488.0</td>\n",
       "      <td>23000.0</td>\n",
       "      <td>0.002791</td>\n",
       "      <td>1.0</td>\n",
       "      <td>0.0</td>\n",
       "      <td>0.0</td>\n",
       "      <td>1.0</td>\n",
       "      <td>0.0</td>\n",
       "      <td>0.0</td>\n",
       "      <td>1990</td>\n",
       "      <td>Zambia: One-party rule</td>\n",
       "      <td>0.28</td>\n",
       "      <td>8.239732e+06</td>\n",
       "      <td>0.630680</td>\n",
       "      <td>6.0</td>\n",
       "    </tr>\n",
       "    <tr>\n",
       "      <th>386</th>\n",
       "      <td>12.0</td>\n",
       "      <td>anti-Chiluba campaign</td>\n",
       "      <td>Zambia</td>\n",
       "      <td>2001</td>\n",
       "      <td>2001.0</td>\n",
       "      <td>Chiluba regime</td>\n",
       "      <td>1.0</td>\n",
       "      <td>0.0</td>\n",
       "      <td>0.0</td>\n",
       "      <td>0.0</td>\n",
       "      <td>1.0</td>\n",
       "      <td>0.0</td>\n",
       "      <td>1.0</td>\n",
       "      <td>0.0</td>\n",
       "      <td>0.0</td>\n",
       "      <td>0.0</td>\n",
       "      <td>213.0</td>\n",
       "      <td>3000.0</td>\n",
       "      <td>0.000277</td>\n",
       "      <td>0.0</td>\n",
       "      <td>0.0</td>\n",
       "      <td>0.0</td>\n",
       "      <td>0.0</td>\n",
       "      <td>0.0</td>\n",
       "      <td>0.0</td>\n",
       "      <td>2000</td>\n",
       "      <td>Zambia: Chiluba regime</td>\n",
       "      <td>0.03</td>\n",
       "      <td>1.082412e+07</td>\n",
       "      <td>0.494303</td>\n",
       "      <td>5.0</td>\n",
       "    </tr>\n",
       "    <tr>\n",
       "      <th>388</th>\n",
       "      <td>161.0</td>\n",
       "      <td>PF-ZAPU guerillas</td>\n",
       "      <td>Zimbabwe</td>\n",
       "      <td>1983</td>\n",
       "      <td>1987.0</td>\n",
       "      <td>Mugabe regime</td>\n",
       "      <td>0.0</td>\n",
       "      <td>1.0</td>\n",
       "      <td>0.0</td>\n",
       "      <td>0.0</td>\n",
       "      <td>0.0</td>\n",
       "      <td>1.0</td>\n",
       "      <td>1.0</td>\n",
       "      <td>0.0</td>\n",
       "      <td>0.0</td>\n",
       "      <td>0.0</td>\n",
       "      <td>1821.0</td>\n",
       "      <td>5000.0</td>\n",
       "      <td>0.000542</td>\n",
       "      <td>1.0</td>\n",
       "      <td>0.0</td>\n",
       "      <td>NaN</td>\n",
       "      <td>0.0</td>\n",
       "      <td>0.0</td>\n",
       "      <td>0.0</td>\n",
       "      <td>1980</td>\n",
       "      <td>Zimbabwe: Mugabe regime</td>\n",
       "      <td>0.05</td>\n",
       "      <td>9.217183e+06</td>\n",
       "      <td>0.531110</td>\n",
       "      <td>-6.0</td>\n",
       "    </tr>\n",
       "  </tbody>\n",
       "</table>\n",
       "<p>297 rows × 31 columns</p>\n",
       "</div>"
      ],
      "text/plain": [
       "     NAVCOID                                   CAMPAIGN     LOCATION  BYEAR  \\\n",
       "1        3.0                          Afghan resistance  Afghanistan   1980   \n",
       "2      218.0             Taliban/anti-government forces  Afghanistan   1992   \n",
       "3      217.0                                    Taliban  Afghanistan   2001   \n",
       "4        5.0                    Albanian anti-communist      Albania   1990   \n",
       "5        6.0  Algerian Revolt/National Liberation Front      Algeria   1954   \n",
       "..       ...                                        ...          ...    ...   \n",
       "379    119.0                            Kosovo Albanian   Yugoslavia   1988   \n",
       "380     61.0                                     Croats   Yugoslavia   1991   \n",
       "385    248.0              Zambia anti-single party rule       Zambia   1990   \n",
       "386     12.0                      anti-Chiluba campaign       Zambia   2001   \n",
       "388    161.0                          PF-ZAPU guerillas     Zimbabwe   1983   \n",
       "\n",
       "      EYEAR             TARGET  SUCCESS  LIMITED  FAILURE  ONGOING  NONVIOL  \\\n",
       "1    1989.0  Soviet occupation      1.0      0.0      0.0      0.0      0.0   \n",
       "2    1996.0      Afghan regime      1.0      0.0      0.0      0.0      0.0   \n",
       "3    2014.0  Afghan government      0.0      0.0      1.0      1.0      0.0   \n",
       "4    1991.0   Communist regime      1.0      0.0      0.0      0.0      1.0   \n",
       "5    1962.0  French occupation      1.0      0.0      0.0      0.0      0.0   \n",
       "..      ...                ...      ...      ...      ...      ...      ...   \n",
       "379  1998.0       Serbian rule      0.0      0.0      1.0      0.0      1.0   \n",
       "380  1992.0    Serb government      1.0      0.0      0.0      0.0      0.0   \n",
       "385  1991.0     One-party rule      1.0      0.0      0.0      0.0      1.0   \n",
       "386  2001.0     Chiluba regime      1.0      0.0      0.0      0.0      1.0   \n",
       "388  1987.0      Mugabe regime      0.0      1.0      0.0      0.0      0.0   \n",
       "\n",
       "     VIOL  REGCHANGE  FSELFDET  SECESSION  OTHER  DURATION  PARTICIPATION  \\\n",
       "1     1.0        0.0       1.0        0.0    0.0    3281.0        10000.0   \n",
       "2     1.0        1.0       0.0        0.0    0.0    1370.0        20000.0   \n",
       "3     1.0        1.0       0.0        0.0    0.0    4391.0        60000.0   \n",
       "4     0.0        1.0       0.0        0.0    0.0     442.0       300000.0   \n",
       "5     1.0        0.0       1.0        0.0    0.0    2695.0        39000.0   \n",
       "..    ...        ...       ...        ...    ...       ...            ...   \n",
       "379   0.0        0.0       0.0        1.0    0.0    3390.0        10000.0   \n",
       "380   1.0        0.0       0.0        1.0    0.0     245.0        12500.0   \n",
       "385   0.0        1.0       0.0        0.0    0.0     488.0        23000.0   \n",
       "386   0.0        1.0       0.0        0.0    0.0     213.0         3000.0   \n",
       "388   1.0        1.0       0.0        0.0    0.0    1821.0         5000.0   \n",
       "\n",
       "     PERCENTAGEPOPULARPARTICIPATION  REGVIOL  DEFECT  VIOLENTFLANK  VIOLSIM  \\\n",
       "1                          0.000685      1.0     0.0           NaN      1.0   \n",
       "2                          0.000893      1.0     0.0           NaN      1.0   \n",
       "3                          0.001625      1.0     1.0           NaN      1.0   \n",
       "4                          0.091068      1.0     0.0           0.0      1.0   \n",
       "5                          0.003545      1.0     0.0           NaN      1.0   \n",
       "..                              ...      ...     ...           ...      ...   \n",
       "379                        0.000943      1.0     0.0           1.0      0.0   \n",
       "380                        0.001190      1.0     0.0           NaN      1.0   \n",
       "385                        0.002791      1.0     0.0           0.0      1.0   \n",
       "386                        0.000277      0.0     0.0           0.0      0.0   \n",
       "388                        0.000542      1.0     0.0           NaN      0.0   \n",
       "\n",
       "     REGAID  STATESUP Decade                   CAMPAIGN_NAME  \\\n",
       "1       0.0       1.0   1980  Afghanistan: Soviet occupation   \n",
       "2       0.0       0.0   1990      Afghanistan: Afghan regime   \n",
       "3       1.0       0.0   2010  Afghanistan: Afghan government   \n",
       "4       1.0       0.0   1990       Albania: Communist regime   \n",
       "5       0.0       1.0   1960      Algeria: French occupation   \n",
       "..      ...       ...    ...                             ...   \n",
       "379     0.0       1.0   1990        Yugoslavia: Serbian rule   \n",
       "380     0.0       0.0   1990     Yugoslavia: Serb government   \n",
       "385     0.0       0.0   1990          Zambia: One-party rule   \n",
       "386     0.0       0.0   2000          Zambia: Chiluba regime   \n",
       "388     0.0       0.0   1980         Zimbabwe: Mugabe regime   \n",
       "\n",
       "     Participation_Percentage    Population  membership_per_capita  polityV  \n",
       "1                        0.07  1.460000e+07               0.558320     -8.0  \n",
       "2                        0.09  2.240000e+07               0.585154     -7.0  \n",
       "3                        0.16  3.692109e+07               0.631423     -1.0  \n",
       "4                        9.11  3.294227e+06               0.840339      3.0  \n",
       "5                        0.35  1.100000e+07               0.652011     -8.0  \n",
       "..                        ...           ...                    ...      ...  \n",
       "379                      0.09  1.060000e+07               0.569370     -6.0  \n",
       "380                      0.12  1.050000e+07               0.583507     -5.0  \n",
       "385                      0.28  8.239732e+06               0.630680      6.0  \n",
       "386                      0.03  1.082412e+07               0.494303      5.0  \n",
       "388                      0.05  9.217183e+06               0.531110     -6.0  \n",
       "\n",
       "[297 rows x 31 columns]"
      ]
     },
     "execution_count": 127,
     "metadata": {},
     "output_type": "execute_result"
    }
   ],
   "source": [
    "PolityV"
   ]
  },
  {
   "cell_type": "markdown",
   "id": "90a7af53-c9d9-47b2-b250-5dc32faac3ba",
   "metadata": {},
   "source": [
    "We import the statsmodel.api library."
   ]
  },
  {
   "cell_type": "code",
   "execution_count": 128,
   "id": "e831c52c-132e-4e04-bdb5-2981f3aade9f",
   "metadata": {},
   "outputs": [],
   "source": [
    "import statsmodels.api as sm"
   ]
  },
  {
   "cell_type": "markdown",
   "id": "bc51bc7c-e01e-4fb9-b1a9-792facaecdd8",
   "metadata": {},
   "source": [
    "As we have already told we are going to analyse the effect of the regime type only for the non violent so we keep only the non violent campaigns for this part of our survey."
   ]
  },
  {
   "cell_type": "code",
   "execution_count": 129,
   "id": "c6b02a81-c3ca-4769-a1eb-b5452d5a6679",
   "metadata": {},
   "outputs": [],
   "source": [
    "PolityV_subset = PolityV[PolityV['NONVIOL'] == 1.0]"
   ]
  },
  {
   "cell_type": "markdown",
   "id": "005d911b-39a5-4c40-907d-c2e7855d2e49",
   "metadata": {},
   "source": [
    "For our statistics model we will need the logged participation and logged population so we create new columns for them and calculate them respectively."
   ]
  },
  {
   "cell_type": "code",
   "execution_count": 130,
   "id": "c7c722dc-0182-47f5-a8a4-b20979fe8410",
   "metadata": {},
   "outputs": [
    {
     "name": "stderr",
     "output_type": "stream",
     "text": [
      "C:\\Users\\falin\\AppData\\Local\\Temp\\ipykernel_18332\\1340319589.py:1: SettingWithCopyWarning: \n",
      "A value is trying to be set on a copy of a slice from a DataFrame.\n",
      "Try using .loc[row_indexer,col_indexer] = value instead\n",
      "\n",
      "See the caveats in the documentation: https://pandas.pydata.org/pandas-docs/stable/user_guide/indexing.html#returning-a-view-versus-a-copy\n",
      "  PolityV_subset['Logged_Participation'] = np.log(PolityV_subset['PARTICIPATION'])\n"
     ]
    }
   ],
   "source": [
    "PolityV_subset['Logged_Participation'] = np.log(PolityV_subset['PARTICIPATION'])"
   ]
  },
  {
   "cell_type": "markdown",
   "id": "cefaa462-98a9-428d-a0f2-86e72fd5f5dd",
   "metadata": {},
   "source": [
    "We have aldready counted the Population column in a previous step, so have it as a column to calculate it's logged."
   ]
  },
  {
   "cell_type": "code",
   "execution_count": 131,
   "id": "a655900c-8b11-408c-9cb5-8775d7a9205b",
   "metadata": {},
   "outputs": [
    {
     "name": "stderr",
     "output_type": "stream",
     "text": [
      "C:\\Users\\falin\\AppData\\Local\\Temp\\ipykernel_18332\\1196581710.py:1: SettingWithCopyWarning: \n",
      "A value is trying to be set on a copy of a slice from a DataFrame.\n",
      "Try using .loc[row_indexer,col_indexer] = value instead\n",
      "\n",
      "See the caveats in the documentation: https://pandas.pydata.org/pandas-docs/stable/user_guide/indexing.html#returning-a-view-versus-a-copy\n",
      "  PolityV_subset['Logged_Population'] = np.log(PolityV_subset['Population'])\n"
     ]
    }
   ],
   "source": [
    "PolityV_subset['Logged_Population'] = np.log(PolityV_subset['Population'])"
   ]
  },
  {
   "cell_type": "markdown",
   "id": "f4477729-33c7-4b36-9555-835ea81e4898",
   "metadata": {},
   "source": [
    "We set up the data we will use, in X we place the constants regime type(polityV), the logged population and logged participation we just calculated."
   ]
  },
  {
   "cell_type": "code",
   "execution_count": 132,
   "id": "13982a26-b6bb-4fb9-a3dd-6b4b56f18f11",
   "metadata": {},
   "outputs": [],
   "source": [
    "y = PolityV_subset['SUCCESS']\n",
    "X = sm.add_constant(PolityV_subset[['polityV', 'Logged_Population', 'Logged_Participation']])\n"
   ]
  },
  {
   "cell_type": "markdown",
   "id": "41287540-32d4-480c-bd96-4a4273fd8e19",
   "metadata": {},
   "source": [
    "We create our model using the .Logit() and finally fit in our data."
   ]
  },
  {
   "cell_type": "code",
   "execution_count": 133,
   "id": "21534da3-2b17-41f2-b48f-19aa5bd87786",
   "metadata": {},
   "outputs": [
    {
     "name": "stdout",
     "output_type": "stream",
     "text": [
      "Optimization terminated successfully.\n",
      "         Current function value: 0.571361\n",
      "         Iterations 5\n"
     ]
    }
   ],
   "source": [
    "model4 = sm.Logit(y, X)\n",
    "result4 = model4.fit()"
   ]
  },
  {
   "cell_type": "markdown",
   "id": "c5c8ff59-2166-4b7e-a9f9-a979c68d6b88",
   "metadata": {},
   "source": [
    "**Some comments upon it:**\n",
    "* Pseudo R-squared is at 15.25% which means that 15.25% of the outputs of the SUCCESS are justify by those three metrics(we always prefer it larger).\n",
    "* LLR p-value is very small as we desire it(<0.05) so our model has significant importance.\n",
    "* The coefficients for polityV and logged participation are positive with the logged participation being higher, that means that those two metrics affect the success output positively following the same developments.\n",
    "* The coefficient for logged population is negative which means that it affects in a part the output of the Success in a negative way.\n",
    "* The p value for the polityV is 0 meaning that polityV is really significant for the output of the success and important in our model.\n",
    "* The p value for the logged_participation is smaller than 0.05 which also means that is significant in our model.\n",
    "* The p value for the logged population is larger than 0.05 (the margin though from 0.05 is not large) meaning that this metric in not as much important in our model but still affects it."
   ]
  },
  {
   "cell_type": "code",
   "execution_count": 134,
   "id": "47a832c9-4895-46e2-a0d2-b1dde36f0b12",
   "metadata": {},
   "outputs": [
    {
     "data": {
      "text/html": [
       "<table class=\"simpletable\">\n",
       "<caption>Logit Regression Results</caption>\n",
       "<tr>\n",
       "  <th>Dep. Variable:</th>        <td>SUCCESS</td>     <th>  No. Observations:  </th>  <td>   134</td>  \n",
       "</tr>\n",
       "<tr>\n",
       "  <th>Model:</th>                 <td>Logit</td>      <th>  Df Residuals:      </th>  <td>   130</td>  \n",
       "</tr>\n",
       "<tr>\n",
       "  <th>Method:</th>                 <td>MLE</td>       <th>  Df Model:          </th>  <td>     3</td>  \n",
       "</tr>\n",
       "<tr>\n",
       "  <th>Date:</th>            <td>Mon, 04 Dec 2023</td> <th>  Pseudo R-squ.:     </th>  <td>0.1525</td>  \n",
       "</tr>\n",
       "<tr>\n",
       "  <th>Time:</th>                <td>19:25:35</td>     <th>  Log-Likelihood:    </th> <td> -76.562</td> \n",
       "</tr>\n",
       "<tr>\n",
       "  <th>converged:</th>             <td>True</td>       <th>  LL-Null:           </th> <td> -90.343</td> \n",
       "</tr>\n",
       "<tr>\n",
       "  <th>Covariance Type:</th>     <td>nonrobust</td>    <th>  LLR p-value:       </th> <td>4.489e-06</td>\n",
       "</tr>\n",
       "</table>\n",
       "<table class=\"simpletable\">\n",
       "<tr>\n",
       "            <td></td>              <th>coef</th>     <th>std err</th>      <th>z</th>      <th>P>|z|</th>  <th>[0.025</th>    <th>0.975]</th>  \n",
       "</tr>\n",
       "<tr>\n",
       "  <th>const</th>                <td>   -0.8905</td> <td>    2.205</td> <td>   -0.404</td> <td> 0.686</td> <td>   -5.212</td> <td>    3.431</td>\n",
       "</tr>\n",
       "<tr>\n",
       "  <th>polityV</th>              <td>    0.1565</td> <td>    0.039</td> <td>    4.047</td> <td> 0.000</td> <td>    0.081</td> <td>    0.232</td>\n",
       "</tr>\n",
       "<tr>\n",
       "  <th>Logged_Population</th>    <td>   -0.0880</td> <td>    0.145</td> <td>   -0.605</td> <td> 0.545</td> <td>   -0.373</td> <td>    0.197</td>\n",
       "</tr>\n",
       "<tr>\n",
       "  <th>Logged_Participation</th> <td>    0.2411</td> <td>    0.111</td> <td>    2.162</td> <td> 0.031</td> <td>    0.023</td> <td>    0.460</td>\n",
       "</tr>\n",
       "</table>"
      ],
      "text/latex": [
       "\\begin{center}\n",
       "\\begin{tabular}{lclc}\n",
       "\\toprule\n",
       "\\textbf{Dep. Variable:}        &     SUCCESS      & \\textbf{  No. Observations:  } &      134    \\\\\n",
       "\\textbf{Model:}                &      Logit       & \\textbf{  Df Residuals:      } &      130    \\\\\n",
       "\\textbf{Method:}               &       MLE        & \\textbf{  Df Model:          } &        3    \\\\\n",
       "\\textbf{Date:}                 & Mon, 04 Dec 2023 & \\textbf{  Pseudo R-squ.:     } &   0.1525    \\\\\n",
       "\\textbf{Time:}                 &     19:25:35     & \\textbf{  Log-Likelihood:    } &   -76.562   \\\\\n",
       "\\textbf{converged:}            &       True       & \\textbf{  LL-Null:           } &   -90.343   \\\\\n",
       "\\textbf{Covariance Type:}      &    nonrobust     & \\textbf{  LLR p-value:       } & 4.489e-06   \\\\\n",
       "\\bottomrule\n",
       "\\end{tabular}\n",
       "\\begin{tabular}{lcccccc}\n",
       "                               & \\textbf{coef} & \\textbf{std err} & \\textbf{z} & \\textbf{P$> |$z$|$} & \\textbf{[0.025} & \\textbf{0.975]}  \\\\\n",
       "\\midrule\n",
       "\\textbf{const}                 &      -0.8905  &        2.205     &    -0.404  &         0.686        &       -5.212    &        3.431     \\\\\n",
       "\\textbf{polityV}               &       0.1565  &        0.039     &     4.047  &         0.000        &        0.081    &        0.232     \\\\\n",
       "\\textbf{Logged\\_Population}    &      -0.0880  &        0.145     &    -0.605  &         0.545        &       -0.373    &        0.197     \\\\\n",
       "\\textbf{Logged\\_Participation} &       0.2411  &        0.111     &     2.162  &         0.031        &        0.023    &        0.460     \\\\\n",
       "\\bottomrule\n",
       "\\end{tabular}\n",
       "%\\caption{Logit Regression Results}\n",
       "\\end{center}"
      ],
      "text/plain": [
       "<class 'statsmodels.iolib.summary.Summary'>\n",
       "\"\"\"\n",
       "                           Logit Regression Results                           \n",
       "==============================================================================\n",
       "Dep. Variable:                SUCCESS   No. Observations:                  134\n",
       "Model:                          Logit   Df Residuals:                      130\n",
       "Method:                           MLE   Df Model:                            3\n",
       "Date:                Mon, 04 Dec 2023   Pseudo R-squ.:                  0.1525\n",
       "Time:                        19:25:35   Log-Likelihood:                -76.562\n",
       "converged:                       True   LL-Null:                       -90.343\n",
       "Covariance Type:            nonrobust   LLR p-value:                 4.489e-06\n",
       "========================================================================================\n",
       "                           coef    std err          z      P>|z|      [0.025      0.975]\n",
       "----------------------------------------------------------------------------------------\n",
       "const                   -0.8905      2.205     -0.404      0.686      -5.212       3.431\n",
       "polityV                  0.1565      0.039      4.047      0.000       0.081       0.232\n",
       "Logged_Population       -0.0880      0.145     -0.605      0.545      -0.373       0.197\n",
       "Logged_Participation     0.2411      0.111      2.162      0.031       0.023       0.460\n",
       "========================================================================================\n",
       "\"\"\""
      ]
     },
     "execution_count": 134,
     "metadata": {},
     "output_type": "execute_result"
    }
   ],
   "source": [
    "result4.summary()"
   ]
  },
  {
   "cell_type": "markdown",
   "id": "9edc6f91-2d54-455f-9af3-fdba9ef1e920",
   "metadata": {},
   "source": [
    "We place the probabilities in our dataframe for visualization using the .predict()"
   ]
  },
  {
   "cell_type": "code",
   "execution_count": 135,
   "id": "55c6c3f2-bb56-43d6-877b-8335c07cec6f",
   "metadata": {},
   "outputs": [
    {
     "name": "stderr",
     "output_type": "stream",
     "text": [
      "C:\\Users\\falin\\AppData\\Local\\Temp\\ipykernel_18332\\4150096766.py:1: SettingWithCopyWarning: \n",
      "A value is trying to be set on a copy of a slice from a DataFrame.\n",
      "Try using .loc[row_indexer,col_indexer] = value instead\n",
      "\n",
      "See the caveats in the documentation: https://pandas.pydata.org/pandas-docs/stable/user_guide/indexing.html#returning-a-view-versus-a-copy\n",
      "  PolityV_subset['predicted_prob'] = result4.predict(X)\n"
     ]
    }
   ],
   "source": [
    "PolityV_subset['predicted_prob'] = result4.predict(X)"
   ]
  },
  {
   "cell_type": "markdown",
   "id": "027f5008-5686-4d7d-b062-8c37ba87cd7e",
   "metadata": {},
   "source": [
    "We create our scatter plot with the polityV and the predicted_prob."
   ]
  },
  {
   "cell_type": "code",
   "execution_count": 136,
   "id": "72b62f4f-9635-49ac-85b1-7519cbf2ff1e",
   "metadata": {},
   "outputs": [
    {
     "data": {
      "image/png": "[encoded data removed]",
      "text/plain": [
       "<Figure size 640x480 with 1 Axes>"
      ]
     },
     "metadata": {},
     "output_type": "display_data"
    }
   ],
   "source": [
    "plt.scatter(PolityV_subset['polityV'], PolityV_subset['predicted_prob'], color = '#4C71AF')\n",
    "plt.xlabel('polityV')\n",
    "plt.ylabel('Probability Of Success')\n",
    "plt.grid(True)\n",
    "plt.gca().set_axisbelow(True)\n",
    "plt.show()"
   ]
  },
  {
   "cell_type": "markdown",
   "id": "449a609b-ee55-4a9b-b717-0da88ac99111",
   "metadata": {},
   "source": [
    "**Conclusion:**\n",
    "Our graph is scatter in a lot of places. The reason behing this is the logged population that had a negative relation and also in a very small percentage the logged participation that wasn't absolutely related with the SUCCESS output.\n",
    "Regardless of these observations we can see an ascending tendency from the -10(monarchy) of the regime type to the 10(democratic). That means that the non violent campaigns have more possibilities to be succesfull in a democratic environment. Though we can still see that for the dictatorship environments there are still good possibilites of success, ranging from 20% to 70% in some occassions. "
   ]
  },
  {
   "cell_type": "markdown",
   "id": "2e484106-4c81-451d-8f80-dc4c9ffdff61",
   "metadata": {},
   "source": [
    "## Second Approach:\n",
    "In the previous one we took the polityV of the end year for each country & campaign."
   ]
  },
  {
   "cell_type": "markdown",
   "id": "07f12f97-6141-44d1-aafe-bbb82e3bdf59",
   "metadata": {},
   "source": [
    "The problem is that in a single campaign, the regime type can change during the campaign, so we are deciding to check on another perspective, this time we are going to see for the mean price for each country and campaign."
   ]
  },
  {
   "cell_type": "markdown",
   "id": "9f68d99b-4e00-4539-9e51-b4dc0542caf0",
   "metadata": {},
   "source": [
    "Let's see an example of what we were doing and what we want to do. \n",
    "* Were doing: For the country Afghanistan(and for each other country) we went to the dataframe p5 and specifically in the column polity2 and found the polity2 that matched the end year of each campaign in the country Afghanistan.\n",
    "* What we want to do: We want for the country Afghanistan(and for each other country) to find in the dataframe p5 **all** the polity2 values for the whole duration of each campaign [start year : end year] and calculate the **mean price**.\n",
    "  \n",
    "**Why do this?**\n",
    "The regime type may change in the duration of the campaign and it would be false to say that the specific regime type of the end year(peak point) had to do with the overall efficiency and outcome of the campaign."
   ]
  },
  {
   "cell_type": "code",
   "execution_count": 137,
   "id": "a02ebbc6-f248-47e5-9a2a-f2c1fa8b973e",
   "metadata": {},
   "outputs": [
    {
     "data": {
      "text/html": [
       "<div>\n",
       "<style scoped>\n",
       "    .dataframe tbody tr th:only-of-type {\n",
       "        vertical-align: middle;\n",
       "    }\n",
       "\n",
       "    .dataframe tbody tr th {\n",
       "        vertical-align: top;\n",
       "    }\n",
       "\n",
       "    .dataframe thead th {\n",
       "        text-align: right;\n",
       "    }\n",
       "</style>\n",
       "<table border=\"1\" class=\"dataframe\">\n",
       "  <thead>\n",
       "    <tr style=\"text-align: right;\">\n",
       "      <th></th>\n",
       "      <th>NAVCOID</th>\n",
       "      <th>CAMPAIGN</th>\n",
       "      <th>LOCATION</th>\n",
       "      <th>BYEAR</th>\n",
       "      <th>EYEAR</th>\n",
       "      <th>TARGET</th>\n",
       "      <th>SUCCESS</th>\n",
       "      <th>LIMITED</th>\n",
       "      <th>FAILURE</th>\n",
       "      <th>ONGOING</th>\n",
       "      <th>NONVIOL</th>\n",
       "      <th>VIOL</th>\n",
       "      <th>REGCHANGE</th>\n",
       "      <th>FSELFDET</th>\n",
       "      <th>SECESSION</th>\n",
       "      <th>OTHER</th>\n",
       "      <th>DURATION</th>\n",
       "      <th>PARTICIPATION</th>\n",
       "      <th>PERCENTAGEPOPULARPARTICIPATION</th>\n",
       "      <th>REGVIOL</th>\n",
       "      <th>DEFECT</th>\n",
       "      <th>VIOLENTFLANK</th>\n",
       "      <th>VIOLSIM</th>\n",
       "      <th>REGAID</th>\n",
       "      <th>STATESUP</th>\n",
       "      <th>Decade</th>\n",
       "      <th>CAMPAIGN_NAME</th>\n",
       "      <th>Participation_Percentage</th>\n",
       "      <th>Population</th>\n",
       "      <th>membership_per_capita</th>\n",
       "      <th>polityV</th>\n",
       "    </tr>\n",
       "  </thead>\n",
       "  <tbody>\n",
       "    <tr>\n",
       "      <th>0</th>\n",
       "      <td>4.0</td>\n",
       "      <td>Afghans</td>\n",
       "      <td>Afghanistan</td>\n",
       "      <td>1978</td>\n",
       "      <td>1979.0</td>\n",
       "      <td>Afghan government</td>\n",
       "      <td>1.0</td>\n",
       "      <td>0.0</td>\n",
       "      <td>0.0</td>\n",
       "      <td>0.0</td>\n",
       "      <td>0.0</td>\n",
       "      <td>1.0</td>\n",
       "      <td>1.0</td>\n",
       "      <td>0.0</td>\n",
       "      <td>0.0</td>\n",
       "      <td>0.0</td>\n",
       "      <td>613.0</td>\n",
       "      <td>10000.0</td>\n",
       "      <td>0.000641</td>\n",
       "      <td>1.0</td>\n",
       "      <td>1.0</td>\n",
       "      <td>NaN</td>\n",
       "      <td>1.0</td>\n",
       "      <td>1.0</td>\n",
       "      <td>1.0</td>\n",
       "      <td>1970</td>\n",
       "      <td>Afghanistan: Afghan government</td>\n",
       "      <td>0.06</td>\n",
       "      <td>1.560000e+07</td>\n",
       "      <td>0.556087</td>\n",
       "      <td>NaN</td>\n",
       "    </tr>\n",
       "    <tr>\n",
       "      <th>1</th>\n",
       "      <td>3.0</td>\n",
       "      <td>Afghan resistance</td>\n",
       "      <td>Afghanistan</td>\n",
       "      <td>1980</td>\n",
       "      <td>1989.0</td>\n",
       "      <td>Soviet occupation</td>\n",
       "      <td>1.0</td>\n",
       "      <td>0.0</td>\n",
       "      <td>0.0</td>\n",
       "      <td>0.0</td>\n",
       "      <td>0.0</td>\n",
       "      <td>1.0</td>\n",
       "      <td>0.0</td>\n",
       "      <td>1.0</td>\n",
       "      <td>0.0</td>\n",
       "      <td>0.0</td>\n",
       "      <td>3281.0</td>\n",
       "      <td>10000.0</td>\n",
       "      <td>0.000685</td>\n",
       "      <td>1.0</td>\n",
       "      <td>0.0</td>\n",
       "      <td>NaN</td>\n",
       "      <td>1.0</td>\n",
       "      <td>0.0</td>\n",
       "      <td>1.0</td>\n",
       "      <td>1980</td>\n",
       "      <td>Afghanistan: Soviet occupation</td>\n",
       "      <td>0.07</td>\n",
       "      <td>1.460000e+07</td>\n",
       "      <td>0.558320</td>\n",
       "      <td>-8.0</td>\n",
       "    </tr>\n",
       "    <tr>\n",
       "      <th>2</th>\n",
       "      <td>218.0</td>\n",
       "      <td>Taliban/anti-government forces</td>\n",
       "      <td>Afghanistan</td>\n",
       "      <td>1992</td>\n",
       "      <td>1996.0</td>\n",
       "      <td>Afghan regime</td>\n",
       "      <td>1.0</td>\n",
       "      <td>0.0</td>\n",
       "      <td>0.0</td>\n",
       "      <td>0.0</td>\n",
       "      <td>0.0</td>\n",
       "      <td>1.0</td>\n",
       "      <td>1.0</td>\n",
       "      <td>0.0</td>\n",
       "      <td>0.0</td>\n",
       "      <td>0.0</td>\n",
       "      <td>1370.0</td>\n",
       "      <td>20000.0</td>\n",
       "      <td>0.000893</td>\n",
       "      <td>1.0</td>\n",
       "      <td>0.0</td>\n",
       "      <td>NaN</td>\n",
       "      <td>1.0</td>\n",
       "      <td>0.0</td>\n",
       "      <td>0.0</td>\n",
       "      <td>1990</td>\n",
       "      <td>Afghanistan: Afghan regime</td>\n",
       "      <td>0.09</td>\n",
       "      <td>2.240000e+07</td>\n",
       "      <td>0.585154</td>\n",
       "      <td>-7.0</td>\n",
       "    </tr>\n",
       "    <tr>\n",
       "      <th>3</th>\n",
       "      <td>217.0</td>\n",
       "      <td>Taliban</td>\n",
       "      <td>Afghanistan</td>\n",
       "      <td>2001</td>\n",
       "      <td>2014.0</td>\n",
       "      <td>Afghan government</td>\n",
       "      <td>0.0</td>\n",
       "      <td>0.0</td>\n",
       "      <td>1.0</td>\n",
       "      <td>1.0</td>\n",
       "      <td>0.0</td>\n",
       "      <td>1.0</td>\n",
       "      <td>1.0</td>\n",
       "      <td>0.0</td>\n",
       "      <td>0.0</td>\n",
       "      <td>0.0</td>\n",
       "      <td>4391.0</td>\n",
       "      <td>60000.0</td>\n",
       "      <td>0.001625</td>\n",
       "      <td>1.0</td>\n",
       "      <td>1.0</td>\n",
       "      <td>NaN</td>\n",
       "      <td>1.0</td>\n",
       "      <td>1.0</td>\n",
       "      <td>0.0</td>\n",
       "      <td>2010</td>\n",
       "      <td>Afghanistan: Afghan government</td>\n",
       "      <td>0.16</td>\n",
       "      <td>3.692109e+07</td>\n",
       "      <td>0.631423</td>\n",
       "      <td>-1.0</td>\n",
       "    </tr>\n",
       "  </tbody>\n",
       "</table>\n",
       "</div>"
      ],
      "text/plain": [
       "   NAVCOID                        CAMPAIGN     LOCATION  BYEAR   EYEAR  \\\n",
       "0      4.0                         Afghans  Afghanistan   1978  1979.0   \n",
       "1      3.0               Afghan resistance  Afghanistan   1980  1989.0   \n",
       "2    218.0  Taliban/anti-government forces  Afghanistan   1992  1996.0   \n",
       "3    217.0                         Taliban  Afghanistan   2001  2014.0   \n",
       "\n",
       "              TARGET  SUCCESS  LIMITED  FAILURE  ONGOING  NONVIOL  VIOL  \\\n",
       "0  Afghan government      1.0      0.0      0.0      0.0      0.0   1.0   \n",
       "1  Soviet occupation      1.0      0.0      0.0      0.0      0.0   1.0   \n",
       "2      Afghan regime      1.0      0.0      0.0      0.0      0.0   1.0   \n",
       "3  Afghan government      0.0      0.0      1.0      1.0      0.0   1.0   \n",
       "\n",
       "   REGCHANGE  FSELFDET  SECESSION  OTHER  DURATION  PARTICIPATION  \\\n",
       "0        1.0       0.0        0.0    0.0     613.0        10000.0   \n",
       "1        0.0       1.0        0.0    0.0    3281.0        10000.0   \n",
       "2        1.0       0.0        0.0    0.0    1370.0        20000.0   \n",
       "3        1.0       0.0        0.0    0.0    4391.0        60000.0   \n",
       "\n",
       "   PERCENTAGEPOPULARPARTICIPATION  REGVIOL  DEFECT  VIOLENTFLANK  VIOLSIM  \\\n",
       "0                        0.000641      1.0     1.0           NaN      1.0   \n",
       "1                        0.000685      1.0     0.0           NaN      1.0   \n",
       "2                        0.000893      1.0     0.0           NaN      1.0   \n",
       "3                        0.001625      1.0     1.0           NaN      1.0   \n",
       "\n",
       "   REGAID  STATESUP Decade                   CAMPAIGN_NAME  \\\n",
       "0     1.0       1.0   1970  Afghanistan: Afghan government   \n",
       "1     0.0       1.0   1980  Afghanistan: Soviet occupation   \n",
       "2     0.0       0.0   1990      Afghanistan: Afghan regime   \n",
       "3     1.0       0.0   2010  Afghanistan: Afghan government   \n",
       "\n",
       "   Participation_Percentage    Population  membership_per_capita  polityV  \n",
       "0                      0.06  1.560000e+07               0.556087      NaN  \n",
       "1                      0.07  1.460000e+07               0.558320     -8.0  \n",
       "2                      0.09  2.240000e+07               0.585154     -7.0  \n",
       "3                      0.16  3.692109e+07               0.631423     -1.0  "
      ]
     },
     "execution_count": 137,
     "metadata": {},
     "output_type": "execute_result"
    }
   ],
   "source": [
    "df[df['LOCATION'] == 'Afghanistan']"
   ]
  },
  {
   "cell_type": "code",
   "execution_count": 138,
   "id": "9a2d4b07-21d9-4553-b195-16ddef4525e9",
   "metadata": {},
   "outputs": [
    {
     "data": {
      "text/html": [
       "<div>\n",
       "<style scoped>\n",
       "    .dataframe tbody tr th:only-of-type {\n",
       "        vertical-align: middle;\n",
       "    }\n",
       "\n",
       "    .dataframe tbody tr th {\n",
       "        vertical-align: top;\n",
       "    }\n",
       "\n",
       "    .dataframe thead th {\n",
       "        text-align: right;\n",
       "    }\n",
       "</style>\n",
       "<table border=\"1\" class=\"dataframe\">\n",
       "  <thead>\n",
       "    <tr style=\"text-align: right;\">\n",
       "      <th></th>\n",
       "      <th>p5</th>\n",
       "      <th>cyear</th>\n",
       "      <th>ccode</th>\n",
       "      <th>scode</th>\n",
       "      <th>country</th>\n",
       "      <th>year</th>\n",
       "      <th>flag</th>\n",
       "      <th>fragment</th>\n",
       "      <th>democ</th>\n",
       "      <th>autoc</th>\n",
       "      <th>polity</th>\n",
       "      <th>polity2</th>\n",
       "      <th>durable</th>\n",
       "      <th>xrreg</th>\n",
       "      <th>xrcomp</th>\n",
       "      <th>xropen</th>\n",
       "      <th>xconst</th>\n",
       "      <th>parreg</th>\n",
       "      <th>parcomp</th>\n",
       "      <th>exrec</th>\n",
       "      <th>exconst</th>\n",
       "      <th>polcomp</th>\n",
       "      <th>prior</th>\n",
       "      <th>emonth</th>\n",
       "      <th>eday</th>\n",
       "      <th>eyear</th>\n",
       "      <th>eprec</th>\n",
       "      <th>interim</th>\n",
       "      <th>bmonth</th>\n",
       "      <th>bday</th>\n",
       "      <th>byear</th>\n",
       "      <th>bprec</th>\n",
       "      <th>post</th>\n",
       "      <th>change</th>\n",
       "      <th>d5</th>\n",
       "      <th>sf</th>\n",
       "      <th>regtrans</th>\n",
       "    </tr>\n",
       "  </thead>\n",
       "  <tbody>\n",
       "    <tr>\n",
       "      <th>0</th>\n",
       "      <td>0</td>\n",
       "      <td>7001800</td>\n",
       "      <td>700</td>\n",
       "      <td>AFG</td>\n",
       "      <td>Afghanistan</td>\n",
       "      <td>1800</td>\n",
       "      <td>0</td>\n",
       "      <td>NaN</td>\n",
       "      <td>1</td>\n",
       "      <td>7</td>\n",
       "      <td>-6</td>\n",
       "      <td>-6.0</td>\n",
       "      <td>NaN</td>\n",
       "      <td>3</td>\n",
       "      <td>1</td>\n",
       "      <td>1</td>\n",
       "      <td>1</td>\n",
       "      <td>3</td>\n",
       "      <td>3</td>\n",
       "      <td>1.0</td>\n",
       "      <td>1</td>\n",
       "      <td>6.0</td>\n",
       "      <td>NaN</td>\n",
       "      <td>NaN</td>\n",
       "      <td>NaN</td>\n",
       "      <td>NaN</td>\n",
       "      <td>NaN</td>\n",
       "      <td>NaN</td>\n",
       "      <td>1.0</td>\n",
       "      <td>1.0</td>\n",
       "      <td>1800.0</td>\n",
       "      <td>1.0</td>\n",
       "      <td>-6.0</td>\n",
       "      <td>88.0</td>\n",
       "      <td>1.0</td>\n",
       "      <td>NaN</td>\n",
       "      <td>NaN</td>\n",
       "    </tr>\n",
       "    <tr>\n",
       "      <th>1</th>\n",
       "      <td>0</td>\n",
       "      <td>7001801</td>\n",
       "      <td>700</td>\n",
       "      <td>AFG</td>\n",
       "      <td>Afghanistan</td>\n",
       "      <td>1801</td>\n",
       "      <td>0</td>\n",
       "      <td>NaN</td>\n",
       "      <td>1</td>\n",
       "      <td>7</td>\n",
       "      <td>-6</td>\n",
       "      <td>-6.0</td>\n",
       "      <td>NaN</td>\n",
       "      <td>3</td>\n",
       "      <td>1</td>\n",
       "      <td>1</td>\n",
       "      <td>1</td>\n",
       "      <td>3</td>\n",
       "      <td>3</td>\n",
       "      <td>1.0</td>\n",
       "      <td>1</td>\n",
       "      <td>6.0</td>\n",
       "      <td>NaN</td>\n",
       "      <td>NaN</td>\n",
       "      <td>NaN</td>\n",
       "      <td>NaN</td>\n",
       "      <td>NaN</td>\n",
       "      <td>NaN</td>\n",
       "      <td>NaN</td>\n",
       "      <td>NaN</td>\n",
       "      <td>NaN</td>\n",
       "      <td>NaN</td>\n",
       "      <td>NaN</td>\n",
       "      <td>NaN</td>\n",
       "      <td>NaN</td>\n",
       "      <td>NaN</td>\n",
       "      <td>NaN</td>\n",
       "    </tr>\n",
       "    <tr>\n",
       "      <th>2</th>\n",
       "      <td>0</td>\n",
       "      <td>7001802</td>\n",
       "      <td>700</td>\n",
       "      <td>AFG</td>\n",
       "      <td>Afghanistan</td>\n",
       "      <td>1802</td>\n",
       "      <td>0</td>\n",
       "      <td>NaN</td>\n",
       "      <td>1</td>\n",
       "      <td>7</td>\n",
       "      <td>-6</td>\n",
       "      <td>-6.0</td>\n",
       "      <td>NaN</td>\n",
       "      <td>3</td>\n",
       "      <td>1</td>\n",
       "      <td>1</td>\n",
       "      <td>1</td>\n",
       "      <td>3</td>\n",
       "      <td>3</td>\n",
       "      <td>1.0</td>\n",
       "      <td>1</td>\n",
       "      <td>6.0</td>\n",
       "      <td>NaN</td>\n",
       "      <td>NaN</td>\n",
       "      <td>NaN</td>\n",
       "      <td>NaN</td>\n",
       "      <td>NaN</td>\n",
       "      <td>NaN</td>\n",
       "      <td>NaN</td>\n",
       "      <td>NaN</td>\n",
       "      <td>NaN</td>\n",
       "      <td>NaN</td>\n",
       "      <td>NaN</td>\n",
       "      <td>NaN</td>\n",
       "      <td>NaN</td>\n",
       "      <td>NaN</td>\n",
       "      <td>NaN</td>\n",
       "    </tr>\n",
       "    <tr>\n",
       "      <th>3</th>\n",
       "      <td>0</td>\n",
       "      <td>7001803</td>\n",
       "      <td>700</td>\n",
       "      <td>AFG</td>\n",
       "      <td>Afghanistan</td>\n",
       "      <td>1803</td>\n",
       "      <td>0</td>\n",
       "      <td>NaN</td>\n",
       "      <td>1</td>\n",
       "      <td>7</td>\n",
       "      <td>-6</td>\n",
       "      <td>-6.0</td>\n",
       "      <td>NaN</td>\n",
       "      <td>3</td>\n",
       "      <td>1</td>\n",
       "      <td>1</td>\n",
       "      <td>1</td>\n",
       "      <td>3</td>\n",
       "      <td>3</td>\n",
       "      <td>1.0</td>\n",
       "      <td>1</td>\n",
       "      <td>6.0</td>\n",
       "      <td>NaN</td>\n",
       "      <td>NaN</td>\n",
       "      <td>NaN</td>\n",
       "      <td>NaN</td>\n",
       "      <td>NaN</td>\n",
       "      <td>NaN</td>\n",
       "      <td>NaN</td>\n",
       "      <td>NaN</td>\n",
       "      <td>NaN</td>\n",
       "      <td>NaN</td>\n",
       "      <td>NaN</td>\n",
       "      <td>NaN</td>\n",
       "      <td>NaN</td>\n",
       "      <td>NaN</td>\n",
       "      <td>NaN</td>\n",
       "    </tr>\n",
       "    <tr>\n",
       "      <th>4</th>\n",
       "      <td>0</td>\n",
       "      <td>7001804</td>\n",
       "      <td>700</td>\n",
       "      <td>AFG</td>\n",
       "      <td>Afghanistan</td>\n",
       "      <td>1804</td>\n",
       "      <td>0</td>\n",
       "      <td>NaN</td>\n",
       "      <td>1</td>\n",
       "      <td>7</td>\n",
       "      <td>-6</td>\n",
       "      <td>-6.0</td>\n",
       "      <td>NaN</td>\n",
       "      <td>3</td>\n",
       "      <td>1</td>\n",
       "      <td>1</td>\n",
       "      <td>1</td>\n",
       "      <td>3</td>\n",
       "      <td>3</td>\n",
       "      <td>1.0</td>\n",
       "      <td>1</td>\n",
       "      <td>6.0</td>\n",
       "      <td>NaN</td>\n",
       "      <td>NaN</td>\n",
       "      <td>NaN</td>\n",
       "      <td>NaN</td>\n",
       "      <td>NaN</td>\n",
       "      <td>NaN</td>\n",
       "      <td>NaN</td>\n",
       "      <td>NaN</td>\n",
       "      <td>NaN</td>\n",
       "      <td>NaN</td>\n",
       "      <td>NaN</td>\n",
       "      <td>NaN</td>\n",
       "      <td>NaN</td>\n",
       "      <td>NaN</td>\n",
       "      <td>NaN</td>\n",
       "    </tr>\n",
       "    <tr>\n",
       "      <th>...</th>\n",
       "      <td>...</td>\n",
       "      <td>...</td>\n",
       "      <td>...</td>\n",
       "      <td>...</td>\n",
       "      <td>...</td>\n",
       "      <td>...</td>\n",
       "      <td>...</td>\n",
       "      <td>...</td>\n",
       "      <td>...</td>\n",
       "      <td>...</td>\n",
       "      <td>...</td>\n",
       "      <td>...</td>\n",
       "      <td>...</td>\n",
       "      <td>...</td>\n",
       "      <td>...</td>\n",
       "      <td>...</td>\n",
       "      <td>...</td>\n",
       "      <td>...</td>\n",
       "      <td>...</td>\n",
       "      <td>...</td>\n",
       "      <td>...</td>\n",
       "      <td>...</td>\n",
       "      <td>...</td>\n",
       "      <td>...</td>\n",
       "      <td>...</td>\n",
       "      <td>...</td>\n",
       "      <td>...</td>\n",
       "      <td>...</td>\n",
       "      <td>...</td>\n",
       "      <td>...</td>\n",
       "      <td>...</td>\n",
       "      <td>...</td>\n",
       "      <td>...</td>\n",
       "      <td>...</td>\n",
       "      <td>...</td>\n",
       "      <td>...</td>\n",
       "      <td>...</td>\n",
       "    </tr>\n",
       "    <tr>\n",
       "      <th>214</th>\n",
       "      <td>0</td>\n",
       "      <td>7002014</td>\n",
       "      <td>700</td>\n",
       "      <td>AFG</td>\n",
       "      <td>Afghanistan</td>\n",
       "      <td>2014</td>\n",
       "      <td>0</td>\n",
       "      <td>2.0</td>\n",
       "      <td>1</td>\n",
       "      <td>2</td>\n",
       "      <td>-1</td>\n",
       "      <td>-1.0</td>\n",
       "      <td>0.0</td>\n",
       "      <td>2</td>\n",
       "      <td>1</td>\n",
       "      <td>4</td>\n",
       "      <td>4</td>\n",
       "      <td>1</td>\n",
       "      <td>0</td>\n",
       "      <td>3.0</td>\n",
       "      <td>4</td>\n",
       "      <td>4.0</td>\n",
       "      <td>-7.0</td>\n",
       "      <td>10.0</td>\n",
       "      <td>7.0</td>\n",
       "      <td>2001.0</td>\n",
       "      <td>1.0</td>\n",
       "      <td>-66.0</td>\n",
       "      <td>12.0</td>\n",
       "      <td>29.0</td>\n",
       "      <td>2014.0</td>\n",
       "      <td>2.0</td>\n",
       "      <td>-1.0</td>\n",
       "      <td>6.0</td>\n",
       "      <td>1.0</td>\n",
       "      <td>NaN</td>\n",
       "      <td>1.0</td>\n",
       "    </tr>\n",
       "    <tr>\n",
       "      <th>215</th>\n",
       "      <td>0</td>\n",
       "      <td>7002015</td>\n",
       "      <td>700</td>\n",
       "      <td>AFG</td>\n",
       "      <td>Afghanistan</td>\n",
       "      <td>2015</td>\n",
       "      <td>0</td>\n",
       "      <td>2.0</td>\n",
       "      <td>1</td>\n",
       "      <td>2</td>\n",
       "      <td>-1</td>\n",
       "      <td>-1.0</td>\n",
       "      <td>1.0</td>\n",
       "      <td>2</td>\n",
       "      <td>1</td>\n",
       "      <td>4</td>\n",
       "      <td>4</td>\n",
       "      <td>1</td>\n",
       "      <td>0</td>\n",
       "      <td>3.0</td>\n",
       "      <td>4</td>\n",
       "      <td>4.0</td>\n",
       "      <td>NaN</td>\n",
       "      <td>NaN</td>\n",
       "      <td>NaN</td>\n",
       "      <td>NaN</td>\n",
       "      <td>NaN</td>\n",
       "      <td>NaN</td>\n",
       "      <td>NaN</td>\n",
       "      <td>NaN</td>\n",
       "      <td>NaN</td>\n",
       "      <td>NaN</td>\n",
       "      <td>NaN</td>\n",
       "      <td>NaN</td>\n",
       "      <td>NaN</td>\n",
       "      <td>NaN</td>\n",
       "      <td>NaN</td>\n",
       "    </tr>\n",
       "    <tr>\n",
       "      <th>216</th>\n",
       "      <td>0</td>\n",
       "      <td>7002016</td>\n",
       "      <td>700</td>\n",
       "      <td>AFG</td>\n",
       "      <td>Afghanistan</td>\n",
       "      <td>2016</td>\n",
       "      <td>0</td>\n",
       "      <td>2.0</td>\n",
       "      <td>1</td>\n",
       "      <td>2</td>\n",
       "      <td>-1</td>\n",
       "      <td>-1.0</td>\n",
       "      <td>2.0</td>\n",
       "      <td>2</td>\n",
       "      <td>1</td>\n",
       "      <td>4</td>\n",
       "      <td>4</td>\n",
       "      <td>1</td>\n",
       "      <td>0</td>\n",
       "      <td>3.0</td>\n",
       "      <td>4</td>\n",
       "      <td>4.0</td>\n",
       "      <td>NaN</td>\n",
       "      <td>NaN</td>\n",
       "      <td>NaN</td>\n",
       "      <td>NaN</td>\n",
       "      <td>NaN</td>\n",
       "      <td>NaN</td>\n",
       "      <td>NaN</td>\n",
       "      <td>NaN</td>\n",
       "      <td>NaN</td>\n",
       "      <td>NaN</td>\n",
       "      <td>NaN</td>\n",
       "      <td>NaN</td>\n",
       "      <td>NaN</td>\n",
       "      <td>NaN</td>\n",
       "      <td>NaN</td>\n",
       "    </tr>\n",
       "    <tr>\n",
       "      <th>217</th>\n",
       "      <td>0</td>\n",
       "      <td>7002017</td>\n",
       "      <td>700</td>\n",
       "      <td>AFG</td>\n",
       "      <td>Afghanistan</td>\n",
       "      <td>2017</td>\n",
       "      <td>0</td>\n",
       "      <td>2.0</td>\n",
       "      <td>1</td>\n",
       "      <td>2</td>\n",
       "      <td>-1</td>\n",
       "      <td>-1.0</td>\n",
       "      <td>3.0</td>\n",
       "      <td>2</td>\n",
       "      <td>1</td>\n",
       "      <td>4</td>\n",
       "      <td>4</td>\n",
       "      <td>1</td>\n",
       "      <td>0</td>\n",
       "      <td>3.0</td>\n",
       "      <td>4</td>\n",
       "      <td>4.0</td>\n",
       "      <td>NaN</td>\n",
       "      <td>NaN</td>\n",
       "      <td>NaN</td>\n",
       "      <td>NaN</td>\n",
       "      <td>NaN</td>\n",
       "      <td>NaN</td>\n",
       "      <td>NaN</td>\n",
       "      <td>NaN</td>\n",
       "      <td>NaN</td>\n",
       "      <td>NaN</td>\n",
       "      <td>NaN</td>\n",
       "      <td>NaN</td>\n",
       "      <td>NaN</td>\n",
       "      <td>NaN</td>\n",
       "      <td>NaN</td>\n",
       "    </tr>\n",
       "    <tr>\n",
       "      <th>218</th>\n",
       "      <td>0</td>\n",
       "      <td>7002018</td>\n",
       "      <td>700</td>\n",
       "      <td>AFG</td>\n",
       "      <td>Afghanistan</td>\n",
       "      <td>2018</td>\n",
       "      <td>0</td>\n",
       "      <td>2.0</td>\n",
       "      <td>1</td>\n",
       "      <td>2</td>\n",
       "      <td>-1</td>\n",
       "      <td>-1.0</td>\n",
       "      <td>4.0</td>\n",
       "      <td>2</td>\n",
       "      <td>1</td>\n",
       "      <td>4</td>\n",
       "      <td>4</td>\n",
       "      <td>1</td>\n",
       "      <td>0</td>\n",
       "      <td>3.0</td>\n",
       "      <td>4</td>\n",
       "      <td>4.0</td>\n",
       "      <td>NaN</td>\n",
       "      <td>NaN</td>\n",
       "      <td>NaN</td>\n",
       "      <td>NaN</td>\n",
       "      <td>NaN</td>\n",
       "      <td>NaN</td>\n",
       "      <td>NaN</td>\n",
       "      <td>NaN</td>\n",
       "      <td>NaN</td>\n",
       "      <td>NaN</td>\n",
       "      <td>NaN</td>\n",
       "      <td>NaN</td>\n",
       "      <td>NaN</td>\n",
       "      <td>NaN</td>\n",
       "      <td>NaN</td>\n",
       "    </tr>\n",
       "  </tbody>\n",
       "</table>\n",
       "<p>219 rows × 37 columns</p>\n",
       "</div>"
      ],
      "text/plain": [
       "     p5    cyear  ccode scode      country  year  flag  fragment  democ  \\\n",
       "0     0  7001800    700   AFG  Afghanistan  1800     0       NaN      1   \n",
       "1     0  7001801    700   AFG  Afghanistan  1801     0       NaN      1   \n",
       "2     0  7001802    700   AFG  Afghanistan  1802     0       NaN      1   \n",
       "3     0  7001803    700   AFG  Afghanistan  1803     0       NaN      1   \n",
       "4     0  7001804    700   AFG  Afghanistan  1804     0       NaN      1   \n",
       "..   ..      ...    ...   ...          ...   ...   ...       ...    ...   \n",
       "214   0  7002014    700   AFG  Afghanistan  2014     0       2.0      1   \n",
       "215   0  7002015    700   AFG  Afghanistan  2015     0       2.0      1   \n",
       "216   0  7002016    700   AFG  Afghanistan  2016     0       2.0      1   \n",
       "217   0  7002017    700   AFG  Afghanistan  2017     0       2.0      1   \n",
       "218   0  7002018    700   AFG  Afghanistan  2018     0       2.0      1   \n",
       "\n",
       "     autoc  polity  polity2  durable  xrreg  xrcomp  xropen  xconst  parreg  \\\n",
       "0        7      -6     -6.0      NaN      3       1       1       1       3   \n",
       "1        7      -6     -6.0      NaN      3       1       1       1       3   \n",
       "2        7      -6     -6.0      NaN      3       1       1       1       3   \n",
       "3        7      -6     -6.0      NaN      3       1       1       1       3   \n",
       "4        7      -6     -6.0      NaN      3       1       1       1       3   \n",
       "..     ...     ...      ...      ...    ...     ...     ...     ...     ...   \n",
       "214      2      -1     -1.0      0.0      2       1       4       4       1   \n",
       "215      2      -1     -1.0      1.0      2       1       4       4       1   \n",
       "216      2      -1     -1.0      2.0      2       1       4       4       1   \n",
       "217      2      -1     -1.0      3.0      2       1       4       4       1   \n",
       "218      2      -1     -1.0      4.0      2       1       4       4       1   \n",
       "\n",
       "     parcomp  exrec  exconst  polcomp  prior  emonth  eday   eyear  eprec  \\\n",
       "0          3    1.0        1      6.0    NaN     NaN   NaN     NaN    NaN   \n",
       "1          3    1.0        1      6.0    NaN     NaN   NaN     NaN    NaN   \n",
       "2          3    1.0        1      6.0    NaN     NaN   NaN     NaN    NaN   \n",
       "3          3    1.0        1      6.0    NaN     NaN   NaN     NaN    NaN   \n",
       "4          3    1.0        1      6.0    NaN     NaN   NaN     NaN    NaN   \n",
       "..       ...    ...      ...      ...    ...     ...   ...     ...    ...   \n",
       "214        0    3.0        4      4.0   -7.0    10.0   7.0  2001.0    1.0   \n",
       "215        0    3.0        4      4.0    NaN     NaN   NaN     NaN    NaN   \n",
       "216        0    3.0        4      4.0    NaN     NaN   NaN     NaN    NaN   \n",
       "217        0    3.0        4      4.0    NaN     NaN   NaN     NaN    NaN   \n",
       "218        0    3.0        4      4.0    NaN     NaN   NaN     NaN    NaN   \n",
       "\n",
       "     interim  bmonth  bday   byear  bprec  post  change   d5  sf  regtrans  \n",
       "0        NaN     1.0   1.0  1800.0    1.0  -6.0    88.0  1.0 NaN       NaN  \n",
       "1        NaN     NaN   NaN     NaN    NaN   NaN     NaN  NaN NaN       NaN  \n",
       "2        NaN     NaN   NaN     NaN    NaN   NaN     NaN  NaN NaN       NaN  \n",
       "3        NaN     NaN   NaN     NaN    NaN   NaN     NaN  NaN NaN       NaN  \n",
       "4        NaN     NaN   NaN     NaN    NaN   NaN     NaN  NaN NaN       NaN  \n",
       "..       ...     ...   ...     ...    ...   ...     ...  ...  ..       ...  \n",
       "214    -66.0    12.0  29.0  2014.0    2.0  -1.0     6.0  1.0 NaN       1.0  \n",
       "215      NaN     NaN   NaN     NaN    NaN   NaN     NaN  NaN NaN       NaN  \n",
       "216      NaN     NaN   NaN     NaN    NaN   NaN     NaN  NaN NaN       NaN  \n",
       "217      NaN     NaN   NaN     NaN    NaN   NaN     NaN  NaN NaN       NaN  \n",
       "218      NaN     NaN   NaN     NaN    NaN   NaN     NaN  NaN NaN       NaN  \n",
       "\n",
       "[219 rows x 37 columns]"
      ]
     },
     "execution_count": 138,
     "metadata": {},
     "output_type": "execute_result"
    }
   ],
   "source": [
    "p5[p5['country'] == 'Afghanistan']"
   ]
  },
  {
   "cell_type": "markdown",
   "id": "b4a9b7ec-4b2e-4d45-82c3-241e5378b216",
   "metadata": {},
   "source": [
    "We will be working on a polityV dataframe named polityV2 as it is a second approach."
   ]
  },
  {
   "cell_type": "code",
   "execution_count": 139,
   "id": "e8fd0d89-eb8e-4a40-afa0-c8fa8c7185a8",
   "metadata": {},
   "outputs": [],
   "source": [
    "polityV2 = pd.DataFrame()"
   ]
  },
  {
   "cell_type": "markdown",
   "id": "7b4aac20-b5f2-4b4e-8d28-b0c456c34420",
   "metadata": {},
   "source": [
    "We are copying the values of the df dataframe(our main one)"
   ]
  },
  {
   "cell_type": "code",
   "execution_count": 140,
   "id": "01aacff2-6f40-4fd3-b01a-031a9843e198",
   "metadata": {},
   "outputs": [],
   "source": [
    "polityV2 = df"
   ]
  },
  {
   "cell_type": "markdown",
   "id": "73738a8b-0d87-4582-aeeb-3654b49c3c64",
   "metadata": {},
   "source": [
    "In this method for each row of the polityV2 dataframe, for each unique country and campaign, we go into all the rows of the p5 dataframe from the start year to the end year and gather all the polity2 values, then we calculate their mean price and return the value in a column names 'polityV' of the polityV2 dataframe."
   ]
  },
  {
   "cell_type": "code",
   "execution_count": 141,
   "id": "1cf8998e-9f22-403b-a9d1-1f8fbe0dc1b1",
   "metadata": {},
   "outputs": [],
   "source": [
    "def calculate_mean_price(row):\n",
    "    relevant_prices = p5.loc[(p5['country'] == row['LOCATION']) & (p5['year'] >= row['BYEAR']) & (p5['year'] <= row['EYEAR']), 'polity2']\n",
    "    return relevant_prices.mean()"
   ]
  },
  {
   "cell_type": "code",
   "execution_count": 142,
   "id": "a31f7c49-60fe-4687-ba55-e826c6d267fd",
   "metadata": {},
   "outputs": [
    {
     "name": "stderr",
     "output_type": "stream",
     "text": [
      "C:\\Users\\falin\\AppData\\Local\\Temp\\ipykernel_18332\\3733579197.py:1: SettingWithCopyWarning: \n",
      "A value is trying to be set on a copy of a slice from a DataFrame.\n",
      "Try using .loc[row_indexer,col_indexer] = value instead\n",
      "\n",
      "See the caveats in the documentation: https://pandas.pydata.org/pandas-docs/stable/user_guide/indexing.html#returning-a-view-versus-a-copy\n",
      "  polityV2['polityV'] = polityV2.apply(calculate_mean_price, axis=1)\n"
     ]
    }
   ],
   "source": [
    "polityV2['polityV'] = polityV2.apply(calculate_mean_price, axis=1)"
   ]
  },
  {
   "cell_type": "markdown",
   "id": "85f1e99e-bfbb-4575-8a33-43dc46148a2d",
   "metadata": {},
   "source": [
    "From now on we are following the same steps as before, We:\n",
    "* Drop any NaN values from the column participation and polityV"
   ]
  },
  {
   "cell_type": "code",
   "execution_count": 143,
   "id": "c22dcb16-ad28-4be4-ba0d-f4e1daabea5e",
   "metadata": {},
   "outputs": [],
   "source": [
    "columns_to_check = ['PARTICIPATION', 'polityV']\n",
    "polityV2 = polityV2.dropna(subset=columns_to_check, how='any')"
   ]
  },
  {
   "cell_type": "markdown",
   "id": "f716df30-ded3-419c-ba45-ac9cea86d30d",
   "metadata": {},
   "source": [
    "* We keep only the columns with non violent campaigns."
   ]
  },
  {
   "cell_type": "code",
   "execution_count": 144,
   "id": "6ca96c27-aaee-4b11-a03f-2b240e96e298",
   "metadata": {},
   "outputs": [],
   "source": [
    "polityV2_subset = polityV2[polityV2['NONVIOL'] == 1.0]"
   ]
  },
  {
   "cell_type": "markdown",
   "id": "4c682607-d65d-4366-9636-3fd2885500aa",
   "metadata": {},
   "source": [
    "* We calculate the logged_participation and logged population (keep in mind that the population was calculated in another step in our survey)"
   ]
  },
  {
   "cell_type": "code",
   "execution_count": 145,
   "id": "262a21af-ca51-465a-88ed-87d4738a4a92",
   "metadata": {},
   "outputs": [
    {
     "name": "stderr",
     "output_type": "stream",
     "text": [
      "C:\\Users\\falin\\AppData\\Local\\Temp\\ipykernel_18332\\2698439851.py:1: SettingWithCopyWarning: \n",
      "A value is trying to be set on a copy of a slice from a DataFrame.\n",
      "Try using .loc[row_indexer,col_indexer] = value instead\n",
      "\n",
      "See the caveats in the documentation: https://pandas.pydata.org/pandas-docs/stable/user_guide/indexing.html#returning-a-view-versus-a-copy\n",
      "  polityV2_subset['Logged_Participation'] = np.log(polityV2_subset['PARTICIPATION'])\n"
     ]
    }
   ],
   "source": [
    "polityV2_subset['Logged_Participation'] = np.log(polityV2_subset['PARTICIPATION'])"
   ]
  },
  {
   "cell_type": "code",
   "execution_count": 146,
   "id": "d11699a9-9fd1-4ee0-b3b0-b1242005a2fe",
   "metadata": {},
   "outputs": [
    {
     "name": "stderr",
     "output_type": "stream",
     "text": [
      "C:\\Users\\falin\\AppData\\Local\\Temp\\ipykernel_18332\\3984366460.py:1: SettingWithCopyWarning: \n",
      "A value is trying to be set on a copy of a slice from a DataFrame.\n",
      "Try using .loc[row_indexer,col_indexer] = value instead\n",
      "\n",
      "See the caveats in the documentation: https://pandas.pydata.org/pandas-docs/stable/user_guide/indexing.html#returning-a-view-versus-a-copy\n",
      "  polityV2_subset['Logged_Population'] = np.log(polityV2_subset['Population'])\n"
     ]
    }
   ],
   "source": [
    "polityV2_subset['Logged_Population'] = np.log(polityV2_subset['Population'])"
   ]
  },
  {
   "cell_type": "markdown",
   "id": "e1e02811-3d82-4465-b7c8-989efbba7868",
   "metadata": {},
   "source": [
    "* We finally set up our model"
   ]
  },
  {
   "cell_type": "code",
   "execution_count": 147,
   "id": "55838640-d8fe-4397-8f2f-029e976453f2",
   "metadata": {},
   "outputs": [],
   "source": [
    "y = polityV2_subset['SUCCESS']\n",
    "X = sm.add_constant(polityV2_subset[['polityV', 'Logged_Population', 'Logged_Participation']])"
   ]
  },
  {
   "cell_type": "code",
   "execution_count": 148,
   "id": "0f9051dc-0dab-44ca-92b5-95ce6fff0e16",
   "metadata": {},
   "outputs": [
    {
     "name": "stdout",
     "output_type": "stream",
     "text": [
      "Optimization terminated successfully.\n",
      "         Current function value: 0.605239\n",
      "         Iterations 5\n"
     ]
    }
   ],
   "source": [
    "model5 = sm.Logit(y, X)\n",
    "result5 = model5.fit()"
   ]
  },
  {
   "cell_type": "markdown",
   "id": "24807e8e-c480-446f-9521-609ba96b3ea7",
   "metadata": {},
   "source": [
    "**Let's see the differences with the previous approach**"
   ]
  },
  {
   "cell_type": "markdown",
   "id": "620b8c04-e113-4f70-bde2-e2517a07bcd9",
   "metadata": {},
   "source": [
    "**Differences:**\n",
    "* Pseudo R-square is lower than before, it is 10.67%\n",
    "* LLR is again low but larger than the previous approach, so the previous was most significant important.\n",
    "* The coefficients have some differences, the logged population is larger as a negative relation, showing bigger negative impact, and this time has p value of 0.153\n",
    "* The other ones seem to have smalle differences with the polityV coefficient being slighter smaller and the p value slightly bigger (0.003)\n",
    "* The logged participation has a coefficient slightly bigger and also a p value smaller (0.006, previous one: 0.031)"
   ]
  },
  {
   "cell_type": "code",
   "execution_count": 149,
   "id": "795ab169-1df7-4481-97b2-f38a17dca5d6",
   "metadata": {},
   "outputs": [
    {
     "data": {
      "text/html": [
       "<table class=\"simpletable\">\n",
       "<caption>Logit Regression Results</caption>\n",
       "<tr>\n",
       "  <th>Dep. Variable:</th>        <td>SUCCESS</td>     <th>  No. Observations:  </th>  <td>   134</td>  \n",
       "</tr>\n",
       "<tr>\n",
       "  <th>Model:</th>                 <td>Logit</td>      <th>  Df Residuals:      </th>  <td>   130</td>  \n",
       "</tr>\n",
       "<tr>\n",
       "  <th>Method:</th>                 <td>MLE</td>       <th>  Df Model:          </th>  <td>     3</td>  \n",
       "</tr>\n",
       "<tr>\n",
       "  <th>Date:</th>            <td>Mon, 04 Dec 2023</td> <th>  Pseudo R-squ.:     </th>  <td>0.1525</td>  \n",
       "</tr>\n",
       "<tr>\n",
       "  <th>Time:</th>                <td>19:25:35</td>     <th>  Log-Likelihood:    </th> <td> -76.562</td> \n",
       "</tr>\n",
       "<tr>\n",
       "  <th>converged:</th>             <td>True</td>       <th>  LL-Null:           </th> <td> -90.343</td> \n",
       "</tr>\n",
       "<tr>\n",
       "  <th>Covariance Type:</th>     <td>nonrobust</td>    <th>  LLR p-value:       </th> <td>4.489e-06</td>\n",
       "</tr>\n",
       "</table>\n",
       "<table class=\"simpletable\">\n",
       "<tr>\n",
       "            <td></td>              <th>coef</th>     <th>std err</th>      <th>z</th>      <th>P>|z|</th>  <th>[0.025</th>    <th>0.975]</th>  \n",
       "</tr>\n",
       "<tr>\n",
       "  <th>const</th>                <td>   -0.8905</td> <td>    2.205</td> <td>   -0.404</td> <td> 0.686</td> <td>   -5.212</td> <td>    3.431</td>\n",
       "</tr>\n",
       "<tr>\n",
       "  <th>polityV</th>              <td>    0.1565</td> <td>    0.039</td> <td>    4.047</td> <td> 0.000</td> <td>    0.081</td> <td>    0.232</td>\n",
       "</tr>\n",
       "<tr>\n",
       "  <th>Logged_Population</th>    <td>   -0.0880</td> <td>    0.145</td> <td>   -0.605</td> <td> 0.545</td> <td>   -0.373</td> <td>    0.197</td>\n",
       "</tr>\n",
       "<tr>\n",
       "  <th>Logged_Participation</th> <td>    0.2411</td> <td>    0.111</td> <td>    2.162</td> <td> 0.031</td> <td>    0.023</td> <td>    0.460</td>\n",
       "</tr>\n",
       "</table>"
      ],
      "text/latex": [
       "\\begin{center}\n",
       "\\begin{tabular}{lclc}\n",
       "\\toprule\n",
       "\\textbf{Dep. Variable:}        &     SUCCESS      & \\textbf{  No. Observations:  } &      134    \\\\\n",
       "\\textbf{Model:}                &      Logit       & \\textbf{  Df Residuals:      } &      130    \\\\\n",
       "\\textbf{Method:}               &       MLE        & \\textbf{  Df Model:          } &        3    \\\\\n",
       "\\textbf{Date:}                 & Mon, 04 Dec 2023 & \\textbf{  Pseudo R-squ.:     } &   0.1525    \\\\\n",
       "\\textbf{Time:}                 &     19:25:35     & \\textbf{  Log-Likelihood:    } &   -76.562   \\\\\n",
       "\\textbf{converged:}            &       True       & \\textbf{  LL-Null:           } &   -90.343   \\\\\n",
       "\\textbf{Covariance Type:}      &    nonrobust     & \\textbf{  LLR p-value:       } & 4.489e-06   \\\\\n",
       "\\bottomrule\n",
       "\\end{tabular}\n",
       "\\begin{tabular}{lcccccc}\n",
       "                               & \\textbf{coef} & \\textbf{std err} & \\textbf{z} & \\textbf{P$> |$z$|$} & \\textbf{[0.025} & \\textbf{0.975]}  \\\\\n",
       "\\midrule\n",
       "\\textbf{const}                 &      -0.8905  &        2.205     &    -0.404  &         0.686        &       -5.212    &        3.431     \\\\\n",
       "\\textbf{polityV}               &       0.1565  &        0.039     &     4.047  &         0.000        &        0.081    &        0.232     \\\\\n",
       "\\textbf{Logged\\_Population}    &      -0.0880  &        0.145     &    -0.605  &         0.545        &       -0.373    &        0.197     \\\\\n",
       "\\textbf{Logged\\_Participation} &       0.2411  &        0.111     &     2.162  &         0.031        &        0.023    &        0.460     \\\\\n",
       "\\bottomrule\n",
       "\\end{tabular}\n",
       "%\\caption{Logit Regression Results}\n",
       "\\end{center}"
      ],
      "text/plain": [
       "<class 'statsmodels.iolib.summary.Summary'>\n",
       "\"\"\"\n",
       "                           Logit Regression Results                           \n",
       "==============================================================================\n",
       "Dep. Variable:                SUCCESS   No. Observations:                  134\n",
       "Model:                          Logit   Df Residuals:                      130\n",
       "Method:                           MLE   Df Model:                            3\n",
       "Date:                Mon, 04 Dec 2023   Pseudo R-squ.:                  0.1525\n",
       "Time:                        19:25:35   Log-Likelihood:                -76.562\n",
       "converged:                       True   LL-Null:                       -90.343\n",
       "Covariance Type:            nonrobust   LLR p-value:                 4.489e-06\n",
       "========================================================================================\n",
       "                           coef    std err          z      P>|z|      [0.025      0.975]\n",
       "----------------------------------------------------------------------------------------\n",
       "const                   -0.8905      2.205     -0.404      0.686      -5.212       3.431\n",
       "polityV                  0.1565      0.039      4.047      0.000       0.081       0.232\n",
       "Logged_Population       -0.0880      0.145     -0.605      0.545      -0.373       0.197\n",
       "Logged_Participation     0.2411      0.111      2.162      0.031       0.023       0.460\n",
       "========================================================================================\n",
       "\"\"\""
      ]
     },
     "execution_count": 149,
     "metadata": {},
     "output_type": "execute_result"
    }
   ],
   "source": [
    "result4.summary()"
   ]
  },
  {
   "cell_type": "code",
   "execution_count": 150,
   "id": "f938fe19-9bf5-4666-975d-70bf9ce6c4f2",
   "metadata": {},
   "outputs": [
    {
     "data": {
      "text/html": [
       "<table class=\"simpletable\">\n",
       "<caption>Logit Regression Results</caption>\n",
       "<tr>\n",
       "  <th>Dep. Variable:</th>        <td>SUCCESS</td>     <th>  No. Observations:  </th>  <td>   136</td>  \n",
       "</tr>\n",
       "<tr>\n",
       "  <th>Model:</th>                 <td>Logit</td>      <th>  Df Residuals:      </th>  <td>   132</td>  \n",
       "</tr>\n",
       "<tr>\n",
       "  <th>Method:</th>                 <td>MLE</td>       <th>  Df Model:          </th>  <td>     3</td>  \n",
       "</tr>\n",
       "<tr>\n",
       "  <th>Date:</th>            <td>Mon, 04 Dec 2023</td> <th>  Pseudo R-squ.:     </th>  <td>0.1067</td>  \n",
       "</tr>\n",
       "<tr>\n",
       "  <th>Time:</th>                <td>19:25:35</td>     <th>  Log-Likelihood:    </th> <td> -82.313</td> \n",
       "</tr>\n",
       "<tr>\n",
       "  <th>converged:</th>             <td>True</td>       <th>  LL-Null:           </th> <td> -92.139</td> \n",
       "</tr>\n",
       "<tr>\n",
       "  <th>Covariance Type:</th>     <td>nonrobust</td>    <th>  LLR p-value:       </th> <td>0.0002003</td>\n",
       "</tr>\n",
       "</table>\n",
       "<table class=\"simpletable\">\n",
       "<tr>\n",
       "            <td></td>              <th>coef</th>     <th>std err</th>      <th>z</th>      <th>P>|z|</th>  <th>[0.025</th>    <th>0.975]</th>  \n",
       "</tr>\n",
       "<tr>\n",
       "  <th>const</th>                <td>    0.4334</td> <td>    2.071</td> <td>    0.209</td> <td> 0.834</td> <td>   -3.626</td> <td>    4.493</td>\n",
       "</tr>\n",
       "<tr>\n",
       "  <th>polityV</th>              <td>    0.1112</td> <td>    0.038</td> <td>    2.956</td> <td> 0.003</td> <td>    0.037</td> <td>    0.185</td>\n",
       "</tr>\n",
       "<tr>\n",
       "  <th>Logged_Population</th>    <td>   -0.1960</td> <td>    0.137</td> <td>   -1.430</td> <td> 0.153</td> <td>   -0.465</td> <td>    0.073</td>\n",
       "</tr>\n",
       "<tr>\n",
       "  <th>Logged_Participation</th> <td>    0.2983</td> <td>    0.108</td> <td>    2.775</td> <td> 0.006</td> <td>    0.088</td> <td>    0.509</td>\n",
       "</tr>\n",
       "</table>"
      ],
      "text/latex": [
       "\\begin{center}\n",
       "\\begin{tabular}{lclc}\n",
       "\\toprule\n",
       "\\textbf{Dep. Variable:}        &     SUCCESS      & \\textbf{  No. Observations:  } &      136    \\\\\n",
       "\\textbf{Model:}                &      Logit       & \\textbf{  Df Residuals:      } &      132    \\\\\n",
       "\\textbf{Method:}               &       MLE        & \\textbf{  Df Model:          } &        3    \\\\\n",
       "\\textbf{Date:}                 & Mon, 04 Dec 2023 & \\textbf{  Pseudo R-squ.:     } &   0.1067    \\\\\n",
       "\\textbf{Time:}                 &     19:25:35     & \\textbf{  Log-Likelihood:    } &   -82.313   \\\\\n",
       "\\textbf{converged:}            &       True       & \\textbf{  LL-Null:           } &   -92.139   \\\\\n",
       "\\textbf{Covariance Type:}      &    nonrobust     & \\textbf{  LLR p-value:       } & 0.0002003   \\\\\n",
       "\\bottomrule\n",
       "\\end{tabular}\n",
       "\\begin{tabular}{lcccccc}\n",
       "                               & \\textbf{coef} & \\textbf{std err} & \\textbf{z} & \\textbf{P$> |$z$|$} & \\textbf{[0.025} & \\textbf{0.975]}  \\\\\n",
       "\\midrule\n",
       "\\textbf{const}                 &       0.4334  &        2.071     &     0.209  &         0.834        &       -3.626    &        4.493     \\\\\n",
       "\\textbf{polityV}               &       0.1112  &        0.038     &     2.956  &         0.003        &        0.037    &        0.185     \\\\\n",
       "\\textbf{Logged\\_Population}    &      -0.1960  &        0.137     &    -1.430  &         0.153        &       -0.465    &        0.073     \\\\\n",
       "\\textbf{Logged\\_Participation} &       0.2983  &        0.108     &     2.775  &         0.006        &        0.088    &        0.509     \\\\\n",
       "\\bottomrule\n",
       "\\end{tabular}\n",
       "%\\caption{Logit Regression Results}\n",
       "\\end{center}"
      ],
      "text/plain": [
       "<class 'statsmodels.iolib.summary.Summary'>\n",
       "\"\"\"\n",
       "                           Logit Regression Results                           \n",
       "==============================================================================\n",
       "Dep. Variable:                SUCCESS   No. Observations:                  136\n",
       "Model:                          Logit   Df Residuals:                      132\n",
       "Method:                           MLE   Df Model:                            3\n",
       "Date:                Mon, 04 Dec 2023   Pseudo R-squ.:                  0.1067\n",
       "Time:                        19:25:35   Log-Likelihood:                -82.313\n",
       "converged:                       True   LL-Null:                       -92.139\n",
       "Covariance Type:            nonrobust   LLR p-value:                 0.0002003\n",
       "========================================================================================\n",
       "                           coef    std err          z      P>|z|      [0.025      0.975]\n",
       "----------------------------------------------------------------------------------------\n",
       "const                    0.4334      2.071      0.209      0.834      -3.626       4.493\n",
       "polityV                  0.1112      0.038      2.956      0.003       0.037       0.185\n",
       "Logged_Population       -0.1960      0.137     -1.430      0.153      -0.465       0.073\n",
       "Logged_Participation     0.2983      0.108      2.775      0.006       0.088       0.509\n",
       "========================================================================================\n",
       "\"\"\""
      ]
     },
     "execution_count": 150,
     "metadata": {},
     "output_type": "execute_result"
    }
   ],
   "source": [
    "result5.summary()"
   ]
  },
  {
   "cell_type": "code",
   "execution_count": 151,
   "id": "85d54083-ae43-4777-a793-0d281eca858f",
   "metadata": {},
   "outputs": [
    {
     "name": "stderr",
     "output_type": "stream",
     "text": [
      "C:\\Users\\falin\\AppData\\Local\\Temp\\ipykernel_18332\\307764525.py:1: SettingWithCopyWarning: \n",
      "A value is trying to be set on a copy of a slice from a DataFrame.\n",
      "Try using .loc[row_indexer,col_indexer] = value instead\n",
      "\n",
      "See the caveats in the documentation: https://pandas.pydata.org/pandas-docs/stable/user_guide/indexing.html#returning-a-view-versus-a-copy\n",
      "  polityV2_subset['predicted_prob'] = result5.predict(X)\n"
     ]
    }
   ],
   "source": [
    "polityV2_subset['predicted_prob'] = result5.predict(X)"
   ]
  },
  {
   "cell_type": "code",
   "execution_count": 152,
   "id": "f95b6fd2-c9bc-4385-9ebe-4c1b8fa52c75",
   "metadata": {},
   "outputs": [
    {
     "data": {
      "image/png": "[encoded data removed]",
      "text/plain": [
       "<Figure size 640x480 with 1 Axes>"
      ]
     },
     "metadata": {},
     "output_type": "display_data"
    }
   ],
   "source": [
    "plt.scatter(polityV2_subset['polityV'], polityV2_subset['predicted_prob'], color = '#4C71AF')\n",
    "plt.xlabel('polityV')\n",
    "plt.ylabel('Probability Of Success')\n",
    "plt.grid(True)\n",
    "plt.gca().set_axisbelow(True)\n",
    "plt.show()"
   ]
  },
  {
   "cell_type": "markdown",
   "id": "68f8e47a-9b04-4cbb-871c-75fba0b1df0c",
   "metadata": {},
   "source": [
    "**Conclusion:**\n",
    "The plot is again scatter this time much more, the reason behind this, is the larger negative relation with the population.\n",
    "We can still see the ascending tendency but this time more scattered. This time though our data are more specific than before."
   ]
  },
  {
   "cell_type": "markdown",
   "id": "79cf7d98-80ff-4149-80a4-0e74a6a2317a",
   "metadata": {},
   "source": [
    "It is up to the reader to choose the right graph\n",
    "\n",
    "Keep in mind that:\n",
    "* In the first graph we can see better the affect of the polityV in the probability of success(the population and the participation had smaller affect).\n",
    "* In the second graph we have more trust in the data we are using as we are taking into account the regime change each year."
   ]
  }
 ],
 "metadata": {
  "kernelspec": {
   "display_name": "Python 3 (ipykernel)",
   "language": "python",
   "name": "python3"
  },
  "language_info": {
   "codemirror_mode": {
    "name": "ipython",
    "version": 3
   },
   "file_extension": ".py",
   "mimetype": "text/x-python",
   "name": "python",
   "nbconvert_exporter": "python",
   "pygments_lexer": "ipython3",
   "version": "3.11.7"
  }
 },
 "nbformat": 4,
 "nbformat_minor": 5
}
